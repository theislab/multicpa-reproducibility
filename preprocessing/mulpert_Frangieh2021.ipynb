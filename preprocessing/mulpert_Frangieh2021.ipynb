{
 "cells": [
  {
   "cell_type": "markdown",
   "id": "30065801",
   "metadata": {
    "pycharm": {
     "name": "#%% md\n"
    }
   },
   "source": [
    "# Frangieh2021 [not used yet for the paper]"
   ]
  },
  {
   "cell_type": "code",
   "execution_count": 1,
   "id": "355f68df",
   "metadata": {
    "collapsed": false,
    "jupyter": {
     "outputs_hidden": false
    },
    "pycharm": {
     "name": "#%%\n"
    }
   },
   "outputs": [],
   "source": [
    "import os\n",
    "import numpy as np\n",
    "import scanpy as sc\n",
    "import anndata as ad\n",
    "import pandas as pd\n",
    "import seaborn as sns\n",
    "import matplotlib.pyplot as plt\n",
    "from scipy.sparse import csr_matrix\n",
    "import scipy.sparse as sps"
   ]
  },
  {
   "cell_type": "code",
   "execution_count": 2,
   "id": "a588eafd-eaf8-4424-992e-4309de961d0c",
   "metadata": {
    "pycharm": {
     "name": "#%%\n"
    }
   },
   "outputs": [],
   "source": [
    "%matplotlib inline\n",
    "%config InlineBackend.figure_format='retina'"
   ]
  },
  {
   "cell_type": "code",
   "execution_count": 3,
   "id": "89b46b86-05cb-4403-90df-e818ea6a28a6",
   "metadata": {
    "pycharm": {
     "name": "#%%\n"
    }
   },
   "outputs": [
    {
     "name": "stdout",
     "output_type": "stream",
     "text": [
      "scanpy==1.9.1 anndata==0.8.0 umap==0.5.3 numpy==1.22.3 scipy==1.7.3 pandas==1.4.2 scikit-learn==1.0.2 statsmodels==0.13.2 python-igraph==0.9.11 pynndescent==0.5.7\n"
     ]
    }
   ],
   "source": [
    "sc.settings.verbosity = 3\n",
    "sc.logging.print_header()"
   ]
  },
  {
   "cell_type": "code",
   "execution_count": 4,
   "id": "8083efbd-c77e-42cc-90c7-0b0c367fef64",
   "metadata": {
    "pycharm": {
     "name": "#%%\n"
    }
   },
   "outputs": [
    {
     "data": {
      "text/plain": [
       "'/mnt/home/icb/kemal.inecik/work/codes/multicpa-reproducibility'"
      ]
     },
     "execution_count": 4,
     "metadata": {},
     "output_type": "execute_result"
    }
   ],
   "source": [
    "os.chdir('./../')\n",
    "os.getcwd()"
   ]
  },
  {
   "cell_type": "code",
   "execution_count": 5,
   "id": "9c289d5f-1a6d-4987-af0d-68f1127721ab",
   "metadata": {
    "pycharm": {
     "name": "#%%\n"
    }
   },
   "outputs": [],
   "source": [
    "%load_ext autoreload\n",
    "%autoreload 2 "
   ]
  },
  {
   "cell_type": "markdown",
   "id": "7d4acd9c-251a-492f-bf4c-3e2282ca36ac",
   "metadata": {
    "pycharm": {
     "name": "#%% md\n"
    },
    "tags": []
   },
   "source": [
    "## Download"
   ]
  },
  {
   "cell_type": "markdown",
   "id": "cc4654b0-4fef-4d5b-a82b-9f2f96085a62",
   "metadata": {
    "pycharm": {
     "name": "#%% md\n"
    }
   },
   "source": [
    "The preprocessed data files can be donloaded here: https://singlecell.broadinstitute.org/single_cell/study/SCP1064/multi-modal-pooled-perturb-cite-seq-screens-in-patient-models-define-novel-mechanisms-of-cancer-immune-evasion.\n",
    "\n",
    "Paper: https://www.nature.com/articles/s41588-021-00779-1"
   ]
  },
  {
   "cell_type": "markdown",
   "id": "b76c1858-6d8d-401e-83e1-8cfe734d8c97",
   "metadata": {
    "jp-MarkdownHeadingCollapsed": true,
    "pycharm": {
     "name": "#%% md\n"
    },
    "tags": []
   },
   "source": [
    "## Transform csv to h5ad"
   ]
  },
  {
   "cell_type": "markdown",
   "id": "537b69b9-5d5b-41fa-82e9-04906f01d930",
   "metadata": {
    "pycharm": {
     "name": "#%% md\n"
    }
   },
   "source": [
    "transform the csv files to anndata h5df files"
   ]
  },
  {
   "cell_type": "code",
   "execution_count": null,
   "id": "8c2a1301-ace9-4523-a170-d21bd166cf3a",
   "metadata": {
    "pycharm": {
     "name": "#%%\n"
    }
   },
   "outputs": [],
   "source": [
    "fname = 'RNA_expression'\n",
    "raw_data_dir = \"/storage/groups/ml01/workspace/kemal.inecik/Frangieh2021/\"\n",
    "input_file_name = os.path.join(raw_data_dir, f'{fname}.csv')"
   ]
  },
  {
   "cell_type": "code",
   "execution_count": null,
   "id": "c3f117b7-0e86-47c4-a11d-d8eebcc1dba1",
   "metadata": {
    "pycharm": {
     "name": "#%%\n"
    }
   },
   "outputs": [],
   "source": [
    "sp_data = []\n",
    "gene_names = []\n",
    "sep = \",\"\n",
    "\n",
    "with open(input_file_name) as csv_file:\n",
    "    first_line = True\n",
    "    \n",
    "    for row in csv_file:\n",
    "        split_row = row.split(sep)\n",
    "        \n",
    "        if first_line:\n",
    "            header_row = split_row[1:]\n",
    "            first_line = False\n",
    "            continue\n",
    "\n",
    "        gene_names.append(split_row[0])\n",
    "        gene_vals = np.array(split_row[1:]).astype(np.float32)\n",
    "        gene_vals = sps.coo_matrix(gene_vals)\n",
    "        sp_data.append(gene_vals)\n",
    "                \n",
    "sp_data = sps.vstack(sp_data)\n",
    "sp_data = sp_data.transpose()\n",
    "sp_data"
   ]
  },
  {
   "cell_type": "code",
   "execution_count": null,
   "id": "33b4f791-0ae3-47d5-adc0-edbfae0a37cf",
   "metadata": {
    "pycharm": {
     "name": "#%%\n"
    }
   },
   "outputs": [],
   "source": [
    "final_var = pd.DataFrame(gene_names).rename(columns={0: 'Gene'}).reset_index(drop=True)\n",
    "final_var"
   ]
  },
  {
   "cell_type": "code",
   "execution_count": null,
   "id": "56e829d1-db4e-4d30-a1c1-165c9fd7da30",
   "metadata": {
    "pycharm": {
     "name": "#%%\n"
    }
   },
   "outputs": [],
   "source": [
    "final_obs = pd.DataFrame(header_row).rename(columns={0: 'cell_ID'}).reset_index(drop=True)\n",
    "final_obs"
   ]
  },
  {
   "cell_type": "code",
   "execution_count": null,
   "id": "e6955be4-7946-4e0b-b39a-4150e4653dde",
   "metadata": {
    "pycharm": {
     "name": "#%%\n"
    }
   },
   "outputs": [],
   "source": [
    "sp_data = csr_matrix(sp_data.A)"
   ]
  },
  {
   "cell_type": "code",
   "execution_count": null,
   "id": "4f8a1c22-c93a-4a1a-bb1e-7bbd5e04867e",
   "metadata": {
    "pycharm": {
     "name": "#%%\n"
    }
   },
   "outputs": [],
   "source": [
    "adata = ad.AnnData( X=sp_data, var=final_var, obs=final_obs)\n",
    "adata"
   ]
  },
  {
   "cell_type": "code",
   "execution_count": null,
   "id": "ea40f451-16c3-4444-a156-02a369ce288b",
   "metadata": {
    "pycharm": {
     "name": "#%%\n"
    }
   },
   "outputs": [],
   "source": [
    "adata.write(os.path.join(raw_data_dir, f'{fname}.h5ad'))"
   ]
  },
  {
   "cell_type": "markdown",
   "id": "2b2620ae-f5bc-42c5-bab9-aa8002a22ad5",
   "metadata": {
    "pycharm": {
     "name": "#%% md\n"
    },
    "tags": []
   },
   "source": [
    "#### Merge gene and metadata"
   ]
  },
  {
   "cell_type": "code",
   "execution_count": null,
   "id": "60e34cec-989c-4330-b20c-1f64f5f3292e",
   "metadata": {
    "pycharm": {
     "name": "#%%\n"
    }
   },
   "outputs": [],
   "source": [
    "fname = 'RNA_expression'\n",
    "raw_data_dir = \"/storage/groups/ml01/workspace/kemal.inecik/Frangieh2021/\"\n",
    "adata = sc.read(os.path.join(raw_data_dir, f'{fname}.h5ad'))"
   ]
  },
  {
   "cell_type": "code",
   "execution_count": null,
   "id": "bfa7feba-d96a-42ed-8dee-66d8046cf56e",
   "metadata": {
    "pycharm": {
     "name": "#%%\n"
    }
   },
   "outputs": [],
   "source": [
    "adata.var = adata.var.set_index('Gene')\n",
    "metadata = pd.read_csv(os.path.join(raw_data_dir, 'RNA_metadata.csv'))\n",
    "metadata = metadata.drop(metadata.index[0]).reset_index(drop=True)\n",
    "metadata = metadata.rename(columns={'NAME': 'cell_ID'}).set_index('cell_ID')\n",
    "adata.obs = metadata"
   ]
  },
  {
   "cell_type": "code",
   "execution_count": null,
   "id": "4b323146-13df-4163-b1a6-d8d221dfc35e",
   "metadata": {
    "pycharm": {
     "name": "#%%\n"
    }
   },
   "outputs": [],
   "source": [
    "print(np.unique(adata.obs[\"library_preparation_protocol\"]))\n",
    "del adata.obs[\"library_preparation_protocol\"]"
   ]
  },
  {
   "cell_type": "code",
   "execution_count": null,
   "id": "7af25698-d4a3-4e4a-9495-e400f8598eec",
   "metadata": {
    "pycharm": {
     "name": "#%%\n"
    }
   },
   "outputs": [],
   "source": [
    "adata.obs[\"UMI_count\"] = adata.obs[\"UMI_count\"].astype(float)\n",
    "adata.obs[\"MOI\"] = adata.obs[\"MOI\"].astype(float)\n",
    "assert np.all(adata.obs[\"UMI_count\"].astype(np.uint32) == adata.obs[\"UMI_count\"])\n",
    "assert np.all(adata.obs[\"MOI\"].astype(np.uint32) == adata.obs[\"MOI\"])\n",
    "adata.obs[\"MOI\"] = adata.obs[\"MOI\"].astype(int)\n",
    "adata.obs[\"UMI_count\"] = adata.obs[\"UMI_count\"].astype(int)"
   ]
  },
  {
   "cell_type": "markdown",
   "id": "fd4ebc7e-c867-4949-a69e-bed991ba0a43",
   "metadata": {
    "pycharm": {
     "name": "#%% md\n"
    }
   },
   "source": [
    "- Paper: \n",
    "\n",
    "    Data on scRNA-seq counts waere normalized to 1,000,000 total counts per cell (transcripts per million), followed by a natural log transformation. \n",
    "\n",
    "- Email:\n",
    "\n",
    "    The “RNA_metadata.csv” on the Broad Single Cell Portal file has the UMI counts for each cell (in the field labelled “UMI_count”). The normalization was log(CPM+1) where CPM stands for counts per million (each cell normalized to 1 million total counts). The UMI count by cell should allow you to reverse this transformation to obtain unnormalized UMI counts per cell\n"
   ]
  },
  {
   "cell_type": "code",
   "execution_count": null,
   "id": "759b0d08-c2bf-48d0-b704-8ece45c3004d",
   "metadata": {
    "pycharm": {
     "name": "#%%\n"
    }
   },
   "outputs": [],
   "source": [
    "def to_count(ind):\n",
    "    m = adata.X[ind].A[0]\n",
    "    umi = adata.obs.iloc[ind][\"UMI_count\"] \n",
    "    scale = umi / 1e6\n",
    "    return (scale * (np.exp(m) - 1)).astype(int).astype(float)"
   ]
  },
  {
   "cell_type": "code",
   "execution_count": null,
   "id": "e59e50bd-a4af-4c34-832a-d6c731c3a034",
   "metadata": {
    "pycharm": {
     "name": "#%%\n"
    }
   },
   "outputs": [],
   "source": [
    "sp_data = []\n",
    "for i in range(adata.X.shape[0]):\n",
    "    gene_vals = to_count(i)\n",
    "    gene_vals = sps.coo_matrix(gene_vals)\n",
    "    sp_data.append(gene_vals)\n",
    "sp_data = sps.vstack(sp_data)\n",
    "sp_data = csr_matrix(sp_data.A)\n",
    "adata.layers[\"counts\"] = sp_data"
   ]
  },
  {
   "cell_type": "markdown",
   "id": "cbd4c45c-cae5-4a6f-a4b7-00fe3a5a348d",
   "metadata": {
    "pycharm": {
     "name": "#%% md\n"
    },
    "tags": []
   },
   "source": [
    "#### Merge protein data"
   ]
  },
  {
   "cell_type": "markdown",
   "id": "8d617ed3-b62e-41f3-b451-68a64b7435b4",
   "metadata": {
    "pycharm": {
     "name": "#%% md\n"
    }
   },
   "source": [
    "- Paper: protein normalized data and count data are used as it is.\n",
    "\n",
    "    CITE-seq data were normalized according to the formula: \n",
    "    \n",
    "    `max(np.log((a+1) / (c+1)), 0)`\n",
    "    \n",
    "    \n",
    "    where a is UMI count for antibody a and c is UMI count for its corresponding IgG control c."
   ]
  },
  {
   "cell_type": "code",
   "execution_count": null,
   "id": "bf5f7cfe-0706-4476-9306-aab942af64da",
   "metadata": {
    "pycharm": {
     "name": "#%%\n"
    }
   },
   "outputs": [],
   "source": [
    "protein_data = pd.read_csv(os.path.join(raw_data_dir, 'raw_CITE_expression.csv'))\n",
    "protein_data = protein_data.set_index('Unnamed: 0').T\n",
    "protein_data = protein_data.drop(columns=['Rat_IgG2a', 'Mouse_IgG1', 'Mouse_IgG2a', 'Mouse_IgG2b'])\n",
    "protein_data.columns.name = \"Protein\"\n",
    "protein_data.index.name = \"cell_ID\""
   ]
  },
  {
   "cell_type": "code",
   "execution_count": null,
   "id": "ea70f8b9-ff4e-44b6-a375-a6af2d2d03de",
   "metadata": {
    "pycharm": {
     "name": "#%%\n"
    }
   },
   "outputs": [],
   "source": [
    "print(len(protein_data.index))\n",
    "print(len(adata.obs.index))"
   ]
  },
  {
   "cell_type": "code",
   "execution_count": null,
   "id": "2c622ae8-d819-4152-80de-06f4ae3661d4",
   "metadata": {
    "pycharm": {
     "name": "#%%\n"
    }
   },
   "outputs": [],
   "source": [
    "keep_cells = np.array([i for i in adata.obs.index if i in protein_data.index])\n",
    "adata = adata[keep_cells, :]\n",
    "protein_data = protein_data.loc[keep_cells]"
   ]
  },
  {
   "cell_type": "code",
   "execution_count": null,
   "id": "a8617eb6-02b1-4024-bf3e-adea0fc8b87b",
   "metadata": {
    "pycharm": {
     "name": "#%%\n"
    }
   },
   "outputs": [],
   "source": [
    "protein_data_norm = pd.read_csv(os.path.join(raw_data_dir, 'Protein_expression.csv'))\n",
    "protein_data_norm = protein_data_norm.set_index('Protein').T"
   ]
  },
  {
   "cell_type": "code",
   "execution_count": null,
   "id": "c125dc4c-b84a-49f7-aa28-06b25e1b4290",
   "metadata": {
    "pycharm": {
     "name": "#%%\n"
    }
   },
   "outputs": [],
   "source": [
    "protein_data_norm.columns.name = \"Protein\"\n",
    "protein_data_norm.index.name = \"cell_ID\"\n",
    "protein_data_norm = protein_data_norm.loc[keep_cells]"
   ]
  },
  {
   "cell_type": "code",
   "execution_count": null,
   "id": "8e567ce3-b950-4cd5-b653-e36dbff6683e",
   "metadata": {
    "pycharm": {
     "name": "#%%\n"
    }
   },
   "outputs": [],
   "source": [
    "replace_col = {i: i.split()[0] for i in protein_data_norm.columns}\n",
    "col_order = list(replace_col.values())\n",
    "protein_data_norm.rename(columns=replace_col,  errors='raise', inplace=True)"
   ]
  },
  {
   "cell_type": "code",
   "execution_count": null,
   "id": "e9a03304-4b1d-4137-a7a8-6687bb94df90",
   "metadata": {
    "pycharm": {
     "name": "#%%\n"
    }
   },
   "outputs": [],
   "source": [
    "protein_data = protein_data[col_order]\n",
    "protein_data_norm = protein_data_norm[col_order]"
   ]
  },
  {
   "cell_type": "code",
   "execution_count": null,
   "id": "09a519c8-659b-4a2e-95fd-45a847899c1c",
   "metadata": {
    "pycharm": {
     "name": "#%%\n"
    }
   },
   "outputs": [],
   "source": [
    "protein_names = np.array(col_order)\n",
    "protein_data = protein_data.to_numpy()\n",
    "protein_data_norm = protein_data_norm.to_numpy()"
   ]
  },
  {
   "cell_type": "code",
   "execution_count": null,
   "id": "36ddd31a-9135-4529-9da4-21b03f9c2cd1",
   "metadata": {
    "pycharm": {
     "name": "#%%\n"
    }
   },
   "outputs": [],
   "source": [
    "adata.uns['protein_names'] = protein_names\n",
    "adata.obsm['protein_expression_raw'] = protein_data\n",
    "adata.obsm['protein_expression'] = protein_data_norm"
   ]
  },
  {
   "cell_type": "code",
   "execution_count": null,
   "id": "427589e4-7803-446d-9589-5f525a96e91a",
   "metadata": {
    "pycharm": {
     "name": "#%%\n"
    }
   },
   "outputs": [],
   "source": [
    "adata.write(os.path.join(raw_data_dir, f'Frangieh22_prep_init.h5ad'))"
   ]
  },
  {
   "cell_type": "markdown",
   "id": "e52518f2-a035-4d23-9cb2-9f8f30edc0d6",
   "metadata": {
    "pycharm": {
     "name": "#%% md\n"
    },
    "tags": []
   },
   "source": [
    "## Manage Perturbations"
   ]
  },
  {
   "cell_type": "code",
   "execution_count": 6,
   "id": "fff64d8c-e397-4a4b-8566-e43443e76d34",
   "metadata": {
    "pycharm": {
     "name": "#%%\n"
    }
   },
   "outputs": [],
   "source": [
    "raw_data_dir = \"/storage/groups/ml01/workspace/kemal.inecik/Frangieh2021/\"\n",
    "adata = sc.read(os.path.join(raw_data_dir, 'Frangieh22_prep_init.h5ad'))"
   ]
  },
  {
   "cell_type": "code",
   "execution_count": 13,
   "id": "409a5eb5-339d-4da7-bb51-8f8682884fe2",
   "metadata": {
    "pycharm": {
     "name": "#%%\n"
    }
   },
   "outputs": [
    {
     "data": {
      "text/plain": [
       "<AxesSubplot:xlabel='MOI', ylabel='Count'>"
      ]
     },
     "execution_count": 13,
     "metadata": {},
     "output_type": "execute_result"
    },
    {
     "data": {
      "image/png": "[encoded data removed]",
      "text/plain": [
       "<Figure size 720x288 with 1 Axes>"
      ]
     },
     "metadata": {
      "image/png": {
       "height": 261,
       "width": 631
      },
      "needs_background": "light"
     },
     "output_type": "display_data"
    }
   ],
   "source": [
    "plt.figure(figsize=(10, 4))\n",
    "sns.histplot(adata.obs[\"MOI\"], bins=19)"
   ]
  },
  {
   "cell_type": "markdown",
   "id": "c356bdfb-7507-4a5c-93ee-bebae850549b",
   "metadata": {
    "pycharm": {
     "name": "#%% md\n"
    }
   },
   "source": [
    "cultured the cells for 14 days and then co-cultured them with a range of TIL doses (1:1, 2:1 or 4:1), treated them with IFN-γ (no co-culture) or maintained them in culture medium alone (control)."
   ]
  },
  {
   "cell_type": "code",
   "execution_count": 7,
   "id": "38192099-9209-42ea-b39e-1ddbd771ed3b",
   "metadata": {
    "pycharm": {
     "name": "#%%\n"
    }
   },
   "outputs": [
    {
     "name": "stdout",
     "output_type": "stream",
     "text": [
      "['Co-culture' 'Control' 'IFNγ']\n"
     ]
    }
   ],
   "source": [
    "print(np.unique(adata.obs['condition']))"
   ]
  },
  {
   "cell_type": "code",
   "execution_count": 14,
   "id": "8bc56e86-df24-494c-b948-c65cbb4c9d89",
   "metadata": {
    "pycharm": {
     "name": "#%%\n"
    }
   },
   "outputs": [],
   "source": [
    "adata.obs['cell_type'] = adata.obs['condition'].replace({'Co-culture': 'coculture', 'Control': 'control', 'IFNγ': 'ifngamma'})\n",
    "del adata.obs[\"condition\"]"
   ]
  },
  {
   "cell_type": "code",
   "execution_count": 16,
   "id": "50b5fb21-f91a-49b7-b9c0-341600178a09",
   "metadata": {
    "pycharm": {
     "name": "#%%\n"
    }
   },
   "outputs": [],
   "source": [
    "allsgrna = pd.read_csv(os.path.join(raw_data_dir, 'all_sgRNA_assignments.txt'))\n",
    "allsgrna = allsgrna.set_index('Cell')\n",
    "allsgrna.index.name = \"cell_ID\"\n",
    "allsgrna = allsgrna.loc[adata.obs.index]\n",
    "allsgrna[\"sgRNAs\"] = allsgrna[\"sgRNAs\"].str.split(',')\n",
    "allsgrna[\"sgRNAs\"] = [i if isinstance(i, list) else [\"NT_\"] for i in allsgrna[\"sgRNAs\"].to_list()]\n",
    "allsgrna[\"sgRNAs\"] = [[j if not j.startswith(\"ONE_NON-GENE_SITE_\") else \"NT_\" for j in i] for i in allsgrna[\"sgRNAs\"]]\n",
    "allsgrna[\"sgRNAs\"] = [[j if not j.startswith(\"NO_SITE_\") else \"NT_'\" for j in i] for i in allsgrna[\"sgRNAs\"]]\n",
    "allsgrna[\"sgRNAs\"] = [sorted(set([j.split('_')[0] for j in i])) for i in allsgrna[\"sgRNAs\"]]\n",
    "# bring NT last place\n",
    "allsgrna[\"sgRNAs\"] = [i if \"NT\" not in i else [j for j in i if j!=\"NT\"]+[\"NT\"]  for i in allsgrna[\"sgRNAs\"]]"
   ]
  },
  {
   "cell_type": "code",
   "execution_count": 17,
   "id": "8161269b-9a5f-4a74-900f-b7a3f1bea77b",
   "metadata": {
    "pycharm": {
     "name": "#%%\n"
    }
   },
   "outputs": [
    {
     "data": {
      "text/html": [
       "<div>\n",
       "<style scoped>\n",
       "    .dataframe tbody tr th:only-of-type {\n",
       "        vertical-align: middle;\n",
       "    }\n",
       "\n",
       "    .dataframe tbody tr th {\n",
       "        vertical-align: top;\n",
       "    }\n",
       "\n",
       "    .dataframe thead th {\n",
       "        text-align: right;\n",
       "    }\n",
       "</style>\n",
       "<table border=\"1\" class=\"dataframe\">\n",
       "  <thead>\n",
       "    <tr style=\"text-align: right;\">\n",
       "      <th></th>\n",
       "      <th>sgRNAs</th>\n",
       "      <th>len_sgRNAs</th>\n",
       "      <th>guide_merged</th>\n",
       "      <th>dose_val</th>\n",
       "    </tr>\n",
       "    <tr>\n",
       "      <th>cell_ID</th>\n",
       "      <th></th>\n",
       "      <th></th>\n",
       "      <th></th>\n",
       "      <th></th>\n",
       "    </tr>\n",
       "  </thead>\n",
       "  <tbody>\n",
       "    <tr>\n",
       "      <th>CELL_1</th>\n",
       "      <td>[HLA-B]</td>\n",
       "      <td>1</td>\n",
       "      <td>HLA-B</td>\n",
       "      <td>1</td>\n",
       "    </tr>\n",
       "    <tr>\n",
       "      <th>CELL_2</th>\n",
       "      <td>[NGFR, SERPINF1]</td>\n",
       "      <td>2</td>\n",
       "      <td>NGFR+SERPINF1</td>\n",
       "      <td>1+1</td>\n",
       "    </tr>\n",
       "    <tr>\n",
       "      <th>CELL_3</th>\n",
       "      <td>[HLA-B]</td>\n",
       "      <td>1</td>\n",
       "      <td>HLA-B</td>\n",
       "      <td>1</td>\n",
       "    </tr>\n",
       "    <tr>\n",
       "      <th>CELL_4</th>\n",
       "      <td>[NMRK1, S100A6]</td>\n",
       "      <td>2</td>\n",
       "      <td>NMRK1+S100A6</td>\n",
       "      <td>1+1</td>\n",
       "    </tr>\n",
       "    <tr>\n",
       "      <th>CELL_5</th>\n",
       "      <td>[NT]</td>\n",
       "      <td>1</td>\n",
       "      <td>NT</td>\n",
       "      <td>1</td>\n",
       "    </tr>\n",
       "    <tr>\n",
       "      <th>...</th>\n",
       "      <td>...</td>\n",
       "      <td>...</td>\n",
       "      <td>...</td>\n",
       "      <td>...</td>\n",
       "    </tr>\n",
       "    <tr>\n",
       "      <th>CELL_218327</th>\n",
       "      <td>[CTSO, PIK3IP1, VDAC2, WNT7A]</td>\n",
       "      <td>4</td>\n",
       "      <td>CTSO+PIK3IP1+VDAC2+WNT7A</td>\n",
       "      <td>1+1+1+1</td>\n",
       "    </tr>\n",
       "    <tr>\n",
       "      <th>CELL_218328</th>\n",
       "      <td>[JAK2, SLC7A5P1]</td>\n",
       "      <td>2</td>\n",
       "      <td>JAK2+SLC7A5P1</td>\n",
       "      <td>1+1</td>\n",
       "    </tr>\n",
       "    <tr>\n",
       "      <th>CELL_218329</th>\n",
       "      <td>[S100A6, SAT1, NT]</td>\n",
       "      <td>3</td>\n",
       "      <td>S100A6+SAT1+NT</td>\n",
       "      <td>1+1+1</td>\n",
       "    </tr>\n",
       "    <tr>\n",
       "      <th>CELL_218330</th>\n",
       "      <td>[CDKN2B]</td>\n",
       "      <td>1</td>\n",
       "      <td>CDKN2B</td>\n",
       "      <td>1</td>\n",
       "    </tr>\n",
       "    <tr>\n",
       "      <th>CELL_218331</th>\n",
       "      <td>[NT]</td>\n",
       "      <td>1</td>\n",
       "      <td>NT</td>\n",
       "      <td>1</td>\n",
       "    </tr>\n",
       "  </tbody>\n",
       "</table>\n",
       "<p>218328 rows × 4 columns</p>\n",
       "</div>"
      ],
      "text/plain": [
       "                                    sgRNAs  len_sgRNAs  \\\n",
       "cell_ID                                                  \n",
       "CELL_1                             [HLA-B]           1   \n",
       "CELL_2                    [NGFR, SERPINF1]           2   \n",
       "CELL_3                             [HLA-B]           1   \n",
       "CELL_4                     [NMRK1, S100A6]           2   \n",
       "CELL_5                                [NT]           1   \n",
       "...                                    ...         ...   \n",
       "CELL_218327  [CTSO, PIK3IP1, VDAC2, WNT7A]           4   \n",
       "CELL_218328               [JAK2, SLC7A5P1]           2   \n",
       "CELL_218329             [S100A6, SAT1, NT]           3   \n",
       "CELL_218330                       [CDKN2B]           1   \n",
       "CELL_218331                           [NT]           1   \n",
       "\n",
       "                         guide_merged dose_val  \n",
       "cell_ID                                         \n",
       "CELL_1                          HLA-B        1  \n",
       "CELL_2                  NGFR+SERPINF1      1+1  \n",
       "CELL_3                          HLA-B        1  \n",
       "CELL_4                   NMRK1+S100A6      1+1  \n",
       "CELL_5                             NT        1  \n",
       "...                               ...      ...  \n",
       "CELL_218327  CTSO+PIK3IP1+VDAC2+WNT7A  1+1+1+1  \n",
       "CELL_218328             JAK2+SLC7A5P1      1+1  \n",
       "CELL_218329            S100A6+SAT1+NT    1+1+1  \n",
       "CELL_218330                    CDKN2B        1  \n",
       "CELL_218331                        NT        1  \n",
       "\n",
       "[218328 rows x 4 columns]"
      ]
     },
     "execution_count": 17,
     "metadata": {},
     "output_type": "execute_result"
    }
   ],
   "source": [
    "allsgrna[\"len_sgRNAs\"] = [len(i) for i in allsgrna[\"sgRNAs\"]]\n",
    "allsgrna[\"guide_merged\"] = [\"+\".join(i) for i in allsgrna[\"sgRNAs\"]]\n",
    "def doses(i): return '+'.join(['1']*i)\n",
    "allsgrna['dose_val'] = [doses(i) for i in allsgrna[\"len_sgRNAs\"]]\n",
    "allsgrna"
   ]
  },
  {
   "cell_type": "code",
   "execution_count": 18,
   "id": "c980957c-dede-429e-9640-e97a885af4f6",
   "metadata": {
    "pycharm": {
     "name": "#%%\n"
    }
   },
   "outputs": [
    {
     "data": {
      "text/html": [
       "<div>\n",
       "<style scoped>\n",
       "    .dataframe tbody tr th:only-of-type {\n",
       "        vertical-align: middle;\n",
       "    }\n",
       "\n",
       "    .dataframe tbody tr th {\n",
       "        vertical-align: top;\n",
       "    }\n",
       "\n",
       "    .dataframe thead th {\n",
       "        text-align: right;\n",
       "    }\n",
       "</style>\n",
       "<table border=\"1\" class=\"dataframe\">\n",
       "  <thead>\n",
       "    <tr style=\"text-align: right;\">\n",
       "      <th></th>\n",
       "      <th>MOI</th>\n",
       "      <th>sgRNA</th>\n",
       "      <th>UMI_count</th>\n",
       "      <th>cell_type</th>\n",
       "      <th>condition</th>\n",
       "      <th>dose_val</th>\n",
       "    </tr>\n",
       "    <tr>\n",
       "      <th>cell_ID</th>\n",
       "      <th></th>\n",
       "      <th></th>\n",
       "      <th></th>\n",
       "      <th></th>\n",
       "      <th></th>\n",
       "      <th></th>\n",
       "    </tr>\n",
       "  </thead>\n",
       "  <tbody>\n",
       "    <tr>\n",
       "      <th>CELL_1</th>\n",
       "      <td>1</td>\n",
       "      <td>HLA-B_2</td>\n",
       "      <td>10832</td>\n",
       "      <td>control</td>\n",
       "      <td>HLA-B</td>\n",
       "      <td>1</td>\n",
       "    </tr>\n",
       "    <tr>\n",
       "      <th>CELL_2</th>\n",
       "      <td>2</td>\n",
       "      <td>NaN</td>\n",
       "      <td>10731</td>\n",
       "      <td>control</td>\n",
       "      <td>NGFR+SERPINF1</td>\n",
       "      <td>1+1</td>\n",
       "    </tr>\n",
       "    <tr>\n",
       "      <th>CELL_3</th>\n",
       "      <td>1</td>\n",
       "      <td>HLA-B_2</td>\n",
       "      <td>28821</td>\n",
       "      <td>control</td>\n",
       "      <td>HLA-B</td>\n",
       "      <td>1</td>\n",
       "    </tr>\n",
       "    <tr>\n",
       "      <th>CELL_4</th>\n",
       "      <td>2</td>\n",
       "      <td>NaN</td>\n",
       "      <td>15322</td>\n",
       "      <td>control</td>\n",
       "      <td>NMRK1+S100A6</td>\n",
       "      <td>1+1</td>\n",
       "    </tr>\n",
       "    <tr>\n",
       "      <th>CELL_5</th>\n",
       "      <td>0</td>\n",
       "      <td>NaN</td>\n",
       "      <td>10314</td>\n",
       "      <td>control</td>\n",
       "      <td>NT</td>\n",
       "      <td>1</td>\n",
       "    </tr>\n",
       "    <tr>\n",
       "      <th>...</th>\n",
       "      <td>...</td>\n",
       "      <td>...</td>\n",
       "      <td>...</td>\n",
       "      <td>...</td>\n",
       "      <td>...</td>\n",
       "      <td>...</td>\n",
       "    </tr>\n",
       "    <tr>\n",
       "      <th>CELL_218327</th>\n",
       "      <td>4</td>\n",
       "      <td>NaN</td>\n",
       "      <td>12722</td>\n",
       "      <td>coculture</td>\n",
       "      <td>CTSO+PIK3IP1+VDAC2+WNT7A</td>\n",
       "      <td>1+1+1+1</td>\n",
       "    </tr>\n",
       "    <tr>\n",
       "      <th>CELL_218328</th>\n",
       "      <td>2</td>\n",
       "      <td>NaN</td>\n",
       "      <td>11643</td>\n",
       "      <td>coculture</td>\n",
       "      <td>JAK2+SLC7A5P1</td>\n",
       "      <td>1+1</td>\n",
       "    </tr>\n",
       "    <tr>\n",
       "      <th>CELL_218329</th>\n",
       "      <td>3</td>\n",
       "      <td>NaN</td>\n",
       "      <td>12497</td>\n",
       "      <td>coculture</td>\n",
       "      <td>S100A6+SAT1+NT</td>\n",
       "      <td>1+1+1</td>\n",
       "    </tr>\n",
       "    <tr>\n",
       "      <th>CELL_218330</th>\n",
       "      <td>1</td>\n",
       "      <td>CDKN2B_3</td>\n",
       "      <td>17941</td>\n",
       "      <td>coculture</td>\n",
       "      <td>CDKN2B</td>\n",
       "      <td>1</td>\n",
       "    </tr>\n",
       "    <tr>\n",
       "      <th>CELL_218331</th>\n",
       "      <td>1</td>\n",
       "      <td>NO_SITE_694</td>\n",
       "      <td>7968</td>\n",
       "      <td>coculture</td>\n",
       "      <td>NT</td>\n",
       "      <td>1</td>\n",
       "    </tr>\n",
       "  </tbody>\n",
       "</table>\n",
       "<p>218328 rows × 6 columns</p>\n",
       "</div>"
      ],
      "text/plain": [
       "             MOI        sgRNA  UMI_count  cell_type                 condition  \\\n",
       "cell_ID                                                                         \n",
       "CELL_1         1      HLA-B_2      10832    control                     HLA-B   \n",
       "CELL_2         2          NaN      10731    control             NGFR+SERPINF1   \n",
       "CELL_3         1      HLA-B_2      28821    control                     HLA-B   \n",
       "CELL_4         2          NaN      15322    control              NMRK1+S100A6   \n",
       "CELL_5         0          NaN      10314    control                        NT   \n",
       "...          ...          ...        ...        ...                       ...   \n",
       "CELL_218327    4          NaN      12722  coculture  CTSO+PIK3IP1+VDAC2+WNT7A   \n",
       "CELL_218328    2          NaN      11643  coculture             JAK2+SLC7A5P1   \n",
       "CELL_218329    3          NaN      12497  coculture            S100A6+SAT1+NT   \n",
       "CELL_218330    1     CDKN2B_3      17941  coculture                    CDKN2B   \n",
       "CELL_218331    1  NO_SITE_694       7968  coculture                        NT   \n",
       "\n",
       "            dose_val  \n",
       "cell_ID               \n",
       "CELL_1             1  \n",
       "CELL_2           1+1  \n",
       "CELL_3             1  \n",
       "CELL_4           1+1  \n",
       "CELL_5             1  \n",
       "...              ...  \n",
       "CELL_218327  1+1+1+1  \n",
       "CELL_218328      1+1  \n",
       "CELL_218329    1+1+1  \n",
       "CELL_218330        1  \n",
       "CELL_218331        1  \n",
       "\n",
       "[218328 rows x 6 columns]"
      ]
     },
     "execution_count": 18,
     "metadata": {},
     "output_type": "execute_result"
    }
   ],
   "source": [
    "adata.obs[\"condition\"] = allsgrna[\"guide_merged\"]\n",
    "adata.obs['dose_val'] = allsgrna['dose_val']\n",
    "adata.obs"
   ]
  },
  {
   "cell_type": "markdown",
   "id": "c3574cd9-c404-4f11-ae0d-5a6f7b7ee3b1",
   "metadata": {
    "pycharm": {
     "name": "#%% md\n"
    }
   },
   "source": [
    "## Preprocess data"
   ]
  },
  {
   "cell_type": "code",
   "execution_count": 18,
   "id": "ab776321-07bb-4c89-9977-ea4c10711d64",
   "metadata": {
    "pycharm": {
     "name": "#%%\n"
    }
   },
   "outputs": [
    {
     "name": "stdout",
     "output_type": "stream",
     "text": [
      "extracting highly variable genes\n",
      "    finished (0:00:15)\n",
      "--> added\n",
      "    'highly_variable', boolean vector (adata.var)\n",
      "    'means', float vector (adata.var)\n",
      "    'dispersions', float vector (adata.var)\n",
      "    'dispersions_norm', float vector (adata.var)\n"
     ]
    }
   ],
   "source": [
    "# As normalized data is obtained from rds\n",
    "    # sc.pp.normalize_total(adata) \n",
    "    # sc.pp.log1p(adata)\n",
    "sc.pp.highly_variable_genes(adata)"
   ]
  },
  {
   "cell_type": "code",
   "execution_count": 19,
   "id": "37f32059-59ad-4dbc-8593-201dea99cfbf",
   "metadata": {
    "pycharm": {
     "name": "#%%\n"
    }
   },
   "outputs": [
    {
     "data": {
      "text/plain": [
       "20024"
      ]
     },
     "execution_count": 19,
     "metadata": {},
     "output_type": "execute_result"
    }
   ],
   "source": [
    "a=adata.var.copy()\n",
    "a=a.sort_values(by=[\"dispersions_norm\"])\n",
    "\n",
    "for ind, i in enumerate(a['highly_variable']):\n",
    "    if i:\n",
    "        break\n",
    "ind"
   ]
  },
  {
   "cell_type": "code",
   "execution_count": 20,
   "id": "27b47f04-50a8-4fc8-b12e-6ddf1dcd7739",
   "metadata": {
    "pycharm": {
     "name": "#%%\n"
    }
   },
   "outputs": [
    {
     "data": {
      "text/plain": [
       "23712"
      ]
     },
     "execution_count": 20,
     "metadata": {},
     "output_type": "execute_result"
    }
   ],
   "source": [
    "len(a)"
   ]
  },
  {
   "cell_type": "code",
   "execution_count": 21,
   "id": "e9cc007b-0045-4e23-ba50-fb53f1edeb9d",
   "metadata": {
    "pycharm": {
     "name": "#%%\n"
    }
   },
   "outputs": [
    {
     "name": "stdout",
     "output_type": "stream",
     "text": [
      "2550\n"
     ]
    }
   ],
   "source": [
    "print(sum(a[\"highly_variable\"]))"
   ]
  },
  {
   "cell_type": "code",
   "execution_count": 22,
   "id": "3cf87fb2-f811-4574-8c76-d708fdb0017d",
   "metadata": {
    "pycharm": {
     "name": "#%%\n"
    }
   },
   "outputs": [
    {
     "name": "stdout",
     "output_type": "stream",
     "text": [
      "If you pass `n_top_genes`, all cutoffs are ignored.\n",
      "extracting highly variable genes\n",
      "    finished (0:00:14)\n",
      "--> added\n",
      "    'highly_variable', boolean vector (adata.var)\n",
      "    'means', float vector (adata.var)\n",
      "    'dispersions', float vector (adata.var)\n",
      "    'dispersions_norm', float vector (adata.var)\n"
     ]
    }
   ],
   "source": [
    "sc.pp.highly_variable_genes(adata, n_top_genes=5000, subset=True)"
   ]
  },
  {
   "cell_type": "code",
   "execution_count": 23,
   "id": "ce13b5b2-ffc3-4387-93d6-1254dfde29d9",
   "metadata": {
    "pycharm": {
     "name": "#%%\n"
    }
   },
   "outputs": [
    {
     "data": {
      "text/plain": [
       "12.946405"
      ]
     },
     "execution_count": 23,
     "metadata": {},
     "output_type": "execute_result"
    }
   ],
   "source": [
    "adata.X.max()"
   ]
  },
  {
   "cell_type": "code",
   "execution_count": 24,
   "id": "bcec9618-ded1-45aa-9e2f-d99267088efc",
   "metadata": {
    "pycharm": {
     "name": "#%%\n"
    }
   },
   "outputs": [
    {
     "data": {
      "text/plain": [
       "12.204148"
      ]
     },
     "execution_count": 24,
     "metadata": {},
     "output_type": "execute_result"
    }
   ],
   "source": [
    "adata.obsm['protein_expression'].max()"
   ]
  },
  {
   "cell_type": "code",
   "execution_count": 25,
   "id": "4dc8737f-75b0-451b-aefb-acca7a118b2f",
   "metadata": {
    "pycharm": {
     "name": "#%%\n"
    }
   },
   "outputs": [
    {
     "data": {
      "text/plain": [
       "AnnData object with n_obs × n_vars = 218328 × 5000\n",
       "    obs: 'MOI', 'sgRNA', 'UMI_count', 'cell_type', 'condition', 'dose_val'\n",
       "    var: 'highly_variable', 'means', 'dispersions', 'dispersions_norm'\n",
       "    uns: 'protein_names', 'hvg'\n",
       "    obsm: 'protein_expression', 'protein_expression_raw'\n",
       "    layers: 'counts'"
      ]
     },
     "execution_count": 25,
     "metadata": {},
     "output_type": "execute_result"
    }
   ],
   "source": [
    "adata"
   ]
  },
  {
   "cell_type": "markdown",
   "id": "21eb589c-0430-422a-b2ab-b02c0d26eb55",
   "metadata": {
    "pycharm": {
     "name": "#%% md\n"
    },
    "tags": []
   },
   "source": [
    "## Prepare for the model"
   ]
  },
  {
   "cell_type": "code",
   "execution_count": 26,
   "id": "d9adfab7-e42c-4ad1-b544-6d94dbbc19ba",
   "metadata": {
    "pycharm": {
     "name": "#%%\n"
    }
   },
   "outputs": [],
   "source": [
    "adata.obs['control'] = [1 if x == 'NT' else 0 for x in adata.obs.condition.values]\n",
    "adata.obs['drug_dose_name'] = adata.obs.condition.astype(str) + '_' + adata.obs.dose_val.astype(str)\n",
    "adata.obs['cov_drug_dose_name'] = adata.obs.cell_type.astype(str) + '_' + adata.obs.drug_dose_name.astype(str)"
   ]
  },
  {
   "cell_type": "code",
   "execution_count": 27,
   "id": "60f217bf-a673-4a4e-91cf-1066c26f6e42",
   "metadata": {
    "pycharm": {
     "name": "#%%\n"
    }
   },
   "outputs": [
    {
     "data": {
      "text/plain": [
       "cell_type\n",
       "coculture    73114\n",
       "control      57624\n",
       "infgamma     87590\n",
       "dtype: int64"
      ]
     },
     "execution_count": 27,
     "metadata": {},
     "output_type": "execute_result"
    }
   ],
   "source": [
    "adata.obs.groupby('cell_type').size()"
   ]
  },
  {
   "cell_type": "code",
   "execution_count": null,
   "id": "35c82485-6b36-4ea8-98ba-21fff674c931",
   "metadata": {
    "pycharm": {
     "name": "#%%\n"
    }
   },
   "outputs": [],
   "source": [
    "adata.obs.groupby('cov_drug_dose_name').size()"
   ]
  },
  {
   "cell_type": "code",
   "execution_count": null,
   "id": "4d9cca6e-7c03-4f70-9f86-2eb6d16e4af0",
   "metadata": {
    "pycharm": {
     "name": "#%%\n"
    }
   },
   "outputs": [],
   "source": []
  },
  {
   "cell_type": "code",
   "execution_count": null,
   "id": "1849721f-520e-4838-9d21-bc7d52015188",
   "metadata": {
    "pycharm": {
     "name": "#%%\n"
    }
   },
   "outputs": [],
   "source": []
  },
  {
   "cell_type": "code",
   "execution_count": 128,
   "id": "be86594a-0319-4e85-91d0-de3767452b72",
   "metadata": {
    "pycharm": {
     "name": "#%%\n"
    }
   },
   "outputs": [
    {
     "data": {
      "text/html": [
       "<div>\n",
       "<style scoped>\n",
       "    .dataframe tbody tr th:only-of-type {\n",
       "        vertical-align: middle;\n",
       "    }\n",
       "\n",
       "    .dataframe tbody tr th {\n",
       "        vertical-align: top;\n",
       "    }\n",
       "\n",
       "    .dataframe thead th {\n",
       "        text-align: right;\n",
       "    }\n",
       "</style>\n",
       "<table border=\"1\" class=\"dataframe\">\n",
       "  <thead>\n",
       "    <tr style=\"text-align: right;\">\n",
       "      <th></th>\n",
       "      <th>cov_drug_dose_name</th>\n",
       "      <th>cell_count</th>\n",
       "    </tr>\n",
       "  </thead>\n",
       "  <tbody>\n",
       "    <tr>\n",
       "      <th>0</th>\n",
       "      <td>coculture_A2M+A2M+UCN2_1+1+1</td>\n",
       "      <td>1</td>\n",
       "    </tr>\n",
       "    <tr>\n",
       "      <th>1</th>\n",
       "      <td>coculture_A2M+AGA+RNF213+SOX4_1+1+1+1</td>\n",
       "      <td>1</td>\n",
       "    </tr>\n",
       "    <tr>\n",
       "      <th>2</th>\n",
       "      <td>coculture_A2M+AGA+SDCBP+TYR_1+1+1+1</td>\n",
       "      <td>1</td>\n",
       "    </tr>\n",
       "    <tr>\n",
       "      <th>3</th>\n",
       "      <td>coculture_A2M+AGA_1+1</td>\n",
       "      <td>1</td>\n",
       "    </tr>\n",
       "    <tr>\n",
       "      <th>4</th>\n",
       "      <td>coculture_A2M+APOC2_1+1</td>\n",
       "      <td>1</td>\n",
       "    </tr>\n",
       "    <tr>\n",
       "      <th>...</th>\n",
       "      <td>...</td>\n",
       "      <td>...</td>\n",
       "    </tr>\n",
       "    <tr>\n",
       "      <th>49895</th>\n",
       "      <td>infgamma_XAGE1A+NUP50-AS1+ONE-NON-GENE-SITE_1+1+1</td>\n",
       "      <td>1</td>\n",
       "    </tr>\n",
       "    <tr>\n",
       "      <th>49896</th>\n",
       "      <td>infgamma_XAGE1A+NUP50-AS1_1+1</td>\n",
       "      <td>1</td>\n",
       "    </tr>\n",
       "    <tr>\n",
       "      <th>49897</th>\n",
       "      <td>infgamma_XAGE1A+ONE-NON-GENE-SITE+NO-SITE_1+1+1</td>\n",
       "      <td>2</td>\n",
       "    </tr>\n",
       "    <tr>\n",
       "      <th>49898</th>\n",
       "      <td>infgamma_XAGE1A+ONE-NON-GENE-SITE_1+1</td>\n",
       "      <td>8</td>\n",
       "    </tr>\n",
       "    <tr>\n",
       "      <th>49899</th>\n",
       "      <td>infgamma_XAGE1A_1</td>\n",
       "      <td>158</td>\n",
       "    </tr>\n",
       "  </tbody>\n",
       "</table>\n",
       "<p>49900 rows × 2 columns</p>\n",
       "</div>"
      ],
      "text/plain": [
       "                                      cov_drug_dose_name  cell_count\n",
       "0                           coculture_A2M+A2M+UCN2_1+1+1           1\n",
       "1                  coculture_A2M+AGA+RNF213+SOX4_1+1+1+1           1\n",
       "2                    coculture_A2M+AGA+SDCBP+TYR_1+1+1+1           1\n",
       "3                                  coculture_A2M+AGA_1+1           1\n",
       "4                                coculture_A2M+APOC2_1+1           1\n",
       "...                                                  ...         ...\n",
       "49895  infgamma_XAGE1A+NUP50-AS1+ONE-NON-GENE-SITE_1+1+1           1\n",
       "49896                      infgamma_XAGE1A+NUP50-AS1_1+1           1\n",
       "49897    infgamma_XAGE1A+ONE-NON-GENE-SITE+NO-SITE_1+1+1           2\n",
       "49898              infgamma_XAGE1A+ONE-NON-GENE-SITE_1+1           8\n",
       "49899                                  infgamma_XAGE1A_1         158\n",
       "\n",
       "[49900 rows x 2 columns]"
      ]
     },
     "execution_count": 128,
     "metadata": {},
     "output_type": "execute_result"
    }
   ],
   "source": [
    "cddn = pd.DataFrame(adata.obs.groupby('cov_drug_dose_name').size(), columns=['cell_count']).reset_index()\n",
    "cddn"
   ]
  },
  {
   "cell_type": "code",
   "execution_count": 131,
   "id": "fd090aa3-89f7-4fe5-8c77-979e73db9d7d",
   "metadata": {
    "pycharm": {
     "name": "#%%\n"
    }
   },
   "outputs": [
    {
     "data": {
      "text/plain": [
       "187        coculture_A2M_1\n",
       "270      coculture_ACSL3_1\n",
       "451      coculture_ACTA2_1\n",
       "592      coculture_AEBP1_1\n",
       "750        coculture_AGA_1\n",
       "               ...        \n",
       "49871      infgamma_VAT1_1\n",
       "49876     infgamma_VDAC2_1\n",
       "49884      infgamma_WBP2_1\n",
       "49891     infgamma_WNT7A_1\n",
       "49899    infgamma_XAGE1A_1\n",
       "Name: cov_drug_dose_name, Length: 697, dtype: object"
      ]
     },
     "execution_count": 131,
     "metadata": {},
     "output_type": "execute_result"
    }
   ],
   "source": [
    "cddn[cddn['cell_count']>30]['cov_drug_dose_name']"
   ]
  },
  {
   "cell_type": "code",
   "execution_count": null,
   "id": "c1ededa5-ea62-4f4b-ae48-59400a1e4a87",
   "metadata": {
    "pycharm": {
     "name": "#%%\n"
    }
   },
   "outputs": [],
   "source": []
  },
  {
   "cell_type": "code",
   "execution_count": 33,
   "id": "e574585c-9884-4e99-9cae-5f11c3b35f5a",
   "metadata": {
    "pycharm": {
     "name": "#%%\n"
    }
   },
   "outputs": [
    {
     "data": {
      "text/html": [
       "<div>\n",
       "<style scoped>\n",
       "    .dataframe tbody tr th:only-of-type {\n",
       "        vertical-align: middle;\n",
       "    }\n",
       "\n",
       "    .dataframe tbody tr th {\n",
       "        vertical-align: top;\n",
       "    }\n",
       "\n",
       "    .dataframe thead th {\n",
       "        text-align: right;\n",
       "    }\n",
       "</style>\n",
       "<table border=\"1\" class=\"dataframe\">\n",
       "  <thead>\n",
       "    <tr style=\"text-align: right;\">\n",
       "      <th></th>\n",
       "      <th>MOI</th>\n",
       "      <th>sgRNA</th>\n",
       "      <th>UMI_count</th>\n",
       "      <th>cell_type</th>\n",
       "      <th>condition</th>\n",
       "      <th>dose_val</th>\n",
       "      <th>control</th>\n",
       "      <th>drug_dose_name</th>\n",
       "      <th>cov_drug_dose_name</th>\n",
       "    </tr>\n",
       "    <tr>\n",
       "      <th>cell_ID</th>\n",
       "      <th></th>\n",
       "      <th></th>\n",
       "      <th></th>\n",
       "      <th></th>\n",
       "      <th></th>\n",
       "      <th></th>\n",
       "      <th></th>\n",
       "      <th></th>\n",
       "      <th></th>\n",
       "    </tr>\n",
       "  </thead>\n",
       "  <tbody>\n",
       "    <tr>\n",
       "      <th>CELL_1</th>\n",
       "      <td>1</td>\n",
       "      <td>HLA-B_2</td>\n",
       "      <td>10832</td>\n",
       "      <td>control</td>\n",
       "      <td>HLA-B</td>\n",
       "      <td>1</td>\n",
       "      <td>0</td>\n",
       "      <td>HLA-B_1</td>\n",
       "      <td>control_HLA-B_1</td>\n",
       "    </tr>\n",
       "    <tr>\n",
       "      <th>CELL_2</th>\n",
       "      <td>2</td>\n",
       "      <td>NaN</td>\n",
       "      <td>10731</td>\n",
       "      <td>control</td>\n",
       "      <td>NGFR+SERPINF1</td>\n",
       "      <td>1+1</td>\n",
       "      <td>0</td>\n",
       "      <td>NGFR+SERPINF1_1+1</td>\n",
       "      <td>control_NGFR+SERPINF1_1+1</td>\n",
       "    </tr>\n",
       "    <tr>\n",
       "      <th>CELL_3</th>\n",
       "      <td>1</td>\n",
       "      <td>HLA-B_2</td>\n",
       "      <td>28821</td>\n",
       "      <td>control</td>\n",
       "      <td>HLA-B</td>\n",
       "      <td>1</td>\n",
       "      <td>0</td>\n",
       "      <td>HLA-B_1</td>\n",
       "      <td>control_HLA-B_1</td>\n",
       "    </tr>\n",
       "    <tr>\n",
       "      <th>CELL_4</th>\n",
       "      <td>2</td>\n",
       "      <td>NaN</td>\n",
       "      <td>15322</td>\n",
       "      <td>control</td>\n",
       "      <td>NMRK1+S100A6</td>\n",
       "      <td>1+1</td>\n",
       "      <td>0</td>\n",
       "      <td>NMRK1+S100A6_1+1</td>\n",
       "      <td>control_NMRK1+S100A6_1+1</td>\n",
       "    </tr>\n",
       "    <tr>\n",
       "      <th>CELL_5</th>\n",
       "      <td>0</td>\n",
       "      <td>NaN</td>\n",
       "      <td>10314</td>\n",
       "      <td>control</td>\n",
       "      <td>NT</td>\n",
       "      <td>1</td>\n",
       "      <td>1</td>\n",
       "      <td>NT_1</td>\n",
       "      <td>control_NT_1</td>\n",
       "    </tr>\n",
       "    <tr>\n",
       "      <th>...</th>\n",
       "      <td>...</td>\n",
       "      <td>...</td>\n",
       "      <td>...</td>\n",
       "      <td>...</td>\n",
       "      <td>...</td>\n",
       "      <td>...</td>\n",
       "      <td>...</td>\n",
       "      <td>...</td>\n",
       "      <td>...</td>\n",
       "    </tr>\n",
       "    <tr>\n",
       "      <th>CELL_218327</th>\n",
       "      <td>4</td>\n",
       "      <td>NaN</td>\n",
       "      <td>12722</td>\n",
       "      <td>coculture</td>\n",
       "      <td>CTSO+PIK3IP1+VDAC2+WNT7A</td>\n",
       "      <td>1+1+1+1</td>\n",
       "      <td>0</td>\n",
       "      <td>CTSO+PIK3IP1+VDAC2+WNT7A_1+1+1+1</td>\n",
       "      <td>coculture_CTSO+PIK3IP1+VDAC2+WNT7A_1+1+1+1</td>\n",
       "    </tr>\n",
       "    <tr>\n",
       "      <th>CELL_218328</th>\n",
       "      <td>2</td>\n",
       "      <td>NaN</td>\n",
       "      <td>11643</td>\n",
       "      <td>coculture</td>\n",
       "      <td>JAK2+SLC7A5P1</td>\n",
       "      <td>1+1</td>\n",
       "      <td>0</td>\n",
       "      <td>JAK2+SLC7A5P1_1+1</td>\n",
       "      <td>coculture_JAK2+SLC7A5P1_1+1</td>\n",
       "    </tr>\n",
       "    <tr>\n",
       "      <th>CELL_218329</th>\n",
       "      <td>3</td>\n",
       "      <td>NaN</td>\n",
       "      <td>12497</td>\n",
       "      <td>coculture</td>\n",
       "      <td>S100A6+SAT1+NT</td>\n",
       "      <td>1+1+1</td>\n",
       "      <td>0</td>\n",
       "      <td>S100A6+SAT1+NT_1+1+1</td>\n",
       "      <td>coculture_S100A6+SAT1+NT_1+1+1</td>\n",
       "    </tr>\n",
       "    <tr>\n",
       "      <th>CELL_218330</th>\n",
       "      <td>1</td>\n",
       "      <td>CDKN2B_3</td>\n",
       "      <td>17941</td>\n",
       "      <td>coculture</td>\n",
       "      <td>CDKN2B</td>\n",
       "      <td>1</td>\n",
       "      <td>0</td>\n",
       "      <td>CDKN2B_1</td>\n",
       "      <td>coculture_CDKN2B_1</td>\n",
       "    </tr>\n",
       "    <tr>\n",
       "      <th>CELL_218331</th>\n",
       "      <td>1</td>\n",
       "      <td>NO_SITE_694</td>\n",
       "      <td>7968</td>\n",
       "      <td>coculture</td>\n",
       "      <td>NT</td>\n",
       "      <td>1</td>\n",
       "      <td>1</td>\n",
       "      <td>NT_1</td>\n",
       "      <td>coculture_NT_1</td>\n",
       "    </tr>\n",
       "  </tbody>\n",
       "</table>\n",
       "<p>218328 rows × 9 columns</p>\n",
       "</div>"
      ],
      "text/plain": [
       "             MOI        sgRNA  UMI_count  cell_type                 condition  \\\n",
       "cell_ID                                                                         \n",
       "CELL_1         1      HLA-B_2      10832    control                     HLA-B   \n",
       "CELL_2         2          NaN      10731    control             NGFR+SERPINF1   \n",
       "CELL_3         1      HLA-B_2      28821    control                     HLA-B   \n",
       "CELL_4         2          NaN      15322    control              NMRK1+S100A6   \n",
       "CELL_5         0          NaN      10314    control                        NT   \n",
       "...          ...          ...        ...        ...                       ...   \n",
       "CELL_218327    4          NaN      12722  coculture  CTSO+PIK3IP1+VDAC2+WNT7A   \n",
       "CELL_218328    2          NaN      11643  coculture             JAK2+SLC7A5P1   \n",
       "CELL_218329    3          NaN      12497  coculture            S100A6+SAT1+NT   \n",
       "CELL_218330    1     CDKN2B_3      17941  coculture                    CDKN2B   \n",
       "CELL_218331    1  NO_SITE_694       7968  coculture                        NT   \n",
       "\n",
       "            dose_val  control                    drug_dose_name  \\\n",
       "cell_ID                                                           \n",
       "CELL_1             1        0                           HLA-B_1   \n",
       "CELL_2           1+1        0                 NGFR+SERPINF1_1+1   \n",
       "CELL_3             1        0                           HLA-B_1   \n",
       "CELL_4           1+1        0                  NMRK1+S100A6_1+1   \n",
       "CELL_5             1        1                              NT_1   \n",
       "...              ...      ...                               ...   \n",
       "CELL_218327  1+1+1+1        0  CTSO+PIK3IP1+VDAC2+WNT7A_1+1+1+1   \n",
       "CELL_218328      1+1        0                 JAK2+SLC7A5P1_1+1   \n",
       "CELL_218329    1+1+1        0              S100A6+SAT1+NT_1+1+1   \n",
       "CELL_218330        1        0                          CDKN2B_1   \n",
       "CELL_218331        1        1                              NT_1   \n",
       "\n",
       "                                     cov_drug_dose_name  \n",
       "cell_ID                                                  \n",
       "CELL_1                                  control_HLA-B_1  \n",
       "CELL_2                        control_NGFR+SERPINF1_1+1  \n",
       "CELL_3                                  control_HLA-B_1  \n",
       "CELL_4                         control_NMRK1+S100A6_1+1  \n",
       "CELL_5                                     control_NT_1  \n",
       "...                                                 ...  \n",
       "CELL_218327  coculture_CTSO+PIK3IP1+VDAC2+WNT7A_1+1+1+1  \n",
       "CELL_218328                 coculture_JAK2+SLC7A5P1_1+1  \n",
       "CELL_218329              coculture_S100A6+SAT1+NT_1+1+1  \n",
       "CELL_218330                          coculture_CDKN2B_1  \n",
       "CELL_218331                              coculture_NT_1  \n",
       "\n",
       "[218328 rows x 9 columns]"
      ]
     },
     "execution_count": 33,
     "metadata": {},
     "output_type": "execute_result"
    }
   ],
   "source": [
    "adata.obs"
   ]
  },
  {
   "cell_type": "code",
   "execution_count": 32,
   "id": "23d95a7e-c04d-4739-93ce-7593ebeeee83",
   "metadata": {
    "pycharm": {
     "name": "#%%\n"
    }
   },
   "outputs": [
    {
     "data": {
      "text/plain": [
       "<function abs(x, /)>"
      ]
     },
     "execution_count": 32,
     "metadata": {},
     "output_type": "execute_result"
    }
   ],
   "source": []
  },
  {
   "cell_type": "code",
   "execution_count": null,
   "id": "d574056e-b007-4b4a-8773-6618d015a9ff",
   "metadata": {
    "pycharm": {
     "name": "#%%\n"
    }
   },
   "outputs": [],
   "source": []
  },
  {
   "cell_type": "code",
   "execution_count": null,
   "id": "bc11ee5f-9ef9-43aa-92b1-dd92a86d93a0",
   "metadata": {
    "pycharm": {
     "name": "#%%\n"
    }
   },
   "outputs": [],
   "source": []
  },
  {
   "cell_type": "code",
   "execution_count": 117,
   "id": "2acfcf29-f0b8-40c0-a0ab-cecf00897c46",
   "metadata": {
    "pycharm": {
     "name": "#%%\n"
    }
   },
   "outputs": [],
   "source": [
    "# 1) bunlar gercekten hucre covariate mi\n",
    "# 2) tek basina kalan hucreyi ne yapmali???? onun diff expressed 20 genini bulmak..\n",
    "#        gerek yok cunku hesaplarda 30'dan cok olunca hucre sayisi calciulate ediyor"
   ]
  },
  {
   "cell_type": "code",
   "execution_count": 30,
   "id": "49307a04-48cb-4738-8bad-da2bf9b6247e",
   "metadata": {
    "pycharm": {
     "name": "#%%\n"
    }
   },
   "outputs": [
    {
     "data": {
      "text/html": [
       "<div>\n",
       "<style scoped>\n",
       "    .dataframe tbody tr th:only-of-type {\n",
       "        vertical-align: middle;\n",
       "    }\n",
       "\n",
       "    .dataframe tbody tr th {\n",
       "        vertical-align: top;\n",
       "    }\n",
       "\n",
       "    .dataframe thead th {\n",
       "        text-align: right;\n",
       "    }\n",
       "</style>\n",
       "<table border=\"1\" class=\"dataframe\">\n",
       "  <thead>\n",
       "    <tr style=\"text-align: right;\">\n",
       "      <th></th>\n",
       "      <th>MOI</th>\n",
       "      <th>sgRNA</th>\n",
       "      <th>UMI_count</th>\n",
       "      <th>cell_type</th>\n",
       "      <th>condition</th>\n",
       "      <th>dose_val</th>\n",
       "      <th>control</th>\n",
       "      <th>drug_dose_name</th>\n",
       "      <th>cov_drug_dose_name</th>\n",
       "    </tr>\n",
       "    <tr>\n",
       "      <th>cell_ID</th>\n",
       "      <th></th>\n",
       "      <th></th>\n",
       "      <th></th>\n",
       "      <th></th>\n",
       "      <th></th>\n",
       "      <th></th>\n",
       "      <th></th>\n",
       "      <th></th>\n",
       "      <th></th>\n",
       "    </tr>\n",
       "  </thead>\n",
       "  <tbody>\n",
       "    <tr>\n",
       "      <th>CELL_145221</th>\n",
       "      <td>0</td>\n",
       "      <td>NaN</td>\n",
       "      <td>8038</td>\n",
       "      <td>coculture</td>\n",
       "      <td>NT</td>\n",
       "      <td>1</td>\n",
       "      <td>1</td>\n",
       "      <td>NT_1</td>\n",
       "      <td>coculture_NT_1</td>\n",
       "    </tr>\n",
       "    <tr>\n",
       "      <th>CELL_145229</th>\n",
       "      <td>0</td>\n",
       "      <td>NaN</td>\n",
       "      <td>35509</td>\n",
       "      <td>coculture</td>\n",
       "      <td>NT</td>\n",
       "      <td>1</td>\n",
       "      <td>1</td>\n",
       "      <td>NT_1</td>\n",
       "      <td>coculture_NT_1</td>\n",
       "    </tr>\n",
       "    <tr>\n",
       "      <th>CELL_145234</th>\n",
       "      <td>1</td>\n",
       "      <td>NO_SITE_23</td>\n",
       "      <td>14867</td>\n",
       "      <td>coculture</td>\n",
       "      <td>NT</td>\n",
       "      <td>1</td>\n",
       "      <td>1</td>\n",
       "      <td>NT_1</td>\n",
       "      <td>coculture_NT_1</td>\n",
       "    </tr>\n",
       "    <tr>\n",
       "      <th>CELL_145238</th>\n",
       "      <td>0</td>\n",
       "      <td>NaN</td>\n",
       "      <td>20190</td>\n",
       "      <td>coculture</td>\n",
       "      <td>NT</td>\n",
       "      <td>1</td>\n",
       "      <td>1</td>\n",
       "      <td>NT_1</td>\n",
       "      <td>coculture_NT_1</td>\n",
       "    </tr>\n",
       "    <tr>\n",
       "      <th>CELL_145239</th>\n",
       "      <td>0</td>\n",
       "      <td>NaN</td>\n",
       "      <td>13703</td>\n",
       "      <td>coculture</td>\n",
       "      <td>NT</td>\n",
       "      <td>1</td>\n",
       "      <td>1</td>\n",
       "      <td>NT_1</td>\n",
       "      <td>coculture_NT_1</td>\n",
       "    </tr>\n",
       "    <tr>\n",
       "      <th>...</th>\n",
       "      <td>...</td>\n",
       "      <td>...</td>\n",
       "      <td>...</td>\n",
       "      <td>...</td>\n",
       "      <td>...</td>\n",
       "      <td>...</td>\n",
       "      <td>...</td>\n",
       "      <td>...</td>\n",
       "      <td>...</td>\n",
       "    </tr>\n",
       "    <tr>\n",
       "      <th>CELL_218309</th>\n",
       "      <td>1</td>\n",
       "      <td>NO_SITE_628</td>\n",
       "      <td>10457</td>\n",
       "      <td>coculture</td>\n",
       "      <td>NT</td>\n",
       "      <td>1</td>\n",
       "      <td>1</td>\n",
       "      <td>NT_1</td>\n",
       "      <td>coculture_NT_1</td>\n",
       "    </tr>\n",
       "    <tr>\n",
       "      <th>CELL_218315</th>\n",
       "      <td>0</td>\n",
       "      <td>NaN</td>\n",
       "      <td>4376</td>\n",
       "      <td>coculture</td>\n",
       "      <td>NT</td>\n",
       "      <td>1</td>\n",
       "      <td>1</td>\n",
       "      <td>NT_1</td>\n",
       "      <td>coculture_NT_1</td>\n",
       "    </tr>\n",
       "    <tr>\n",
       "      <th>CELL_218318</th>\n",
       "      <td>0</td>\n",
       "      <td>NaN</td>\n",
       "      <td>11104</td>\n",
       "      <td>coculture</td>\n",
       "      <td>NT</td>\n",
       "      <td>1</td>\n",
       "      <td>1</td>\n",
       "      <td>NT_1</td>\n",
       "      <td>coculture_NT_1</td>\n",
       "    </tr>\n",
       "    <tr>\n",
       "      <th>CELL_218319</th>\n",
       "      <td>0</td>\n",
       "      <td>NaN</td>\n",
       "      <td>9663</td>\n",
       "      <td>coculture</td>\n",
       "      <td>NT</td>\n",
       "      <td>1</td>\n",
       "      <td>1</td>\n",
       "      <td>NT_1</td>\n",
       "      <td>coculture_NT_1</td>\n",
       "    </tr>\n",
       "    <tr>\n",
       "      <th>CELL_218331</th>\n",
       "      <td>1</td>\n",
       "      <td>NO_SITE_694</td>\n",
       "      <td>7968</td>\n",
       "      <td>coculture</td>\n",
       "      <td>NT</td>\n",
       "      <td>1</td>\n",
       "      <td>1</td>\n",
       "      <td>NT_1</td>\n",
       "      <td>coculture_NT_1</td>\n",
       "    </tr>\n",
       "  </tbody>\n",
       "</table>\n",
       "<p>13483 rows × 9 columns</p>\n",
       "</div>"
      ],
      "text/plain": [
       "             MOI        sgRNA  UMI_count  cell_type condition dose_val  \\\n",
       "cell_ID                                                                  \n",
       "CELL_145221    0          NaN       8038  coculture        NT        1   \n",
       "CELL_145229    0          NaN      35509  coculture        NT        1   \n",
       "CELL_145234    1   NO_SITE_23      14867  coculture        NT        1   \n",
       "CELL_145238    0          NaN      20190  coculture        NT        1   \n",
       "CELL_145239    0          NaN      13703  coculture        NT        1   \n",
       "...          ...          ...        ...        ...       ...      ...   \n",
       "CELL_218309    1  NO_SITE_628      10457  coculture        NT        1   \n",
       "CELL_218315    0          NaN       4376  coculture        NT        1   \n",
       "CELL_218318    0          NaN      11104  coculture        NT        1   \n",
       "CELL_218319    0          NaN       9663  coculture        NT        1   \n",
       "CELL_218331    1  NO_SITE_694       7968  coculture        NT        1   \n",
       "\n",
       "             control drug_dose_name cov_drug_dose_name  \n",
       "cell_ID                                                 \n",
       "CELL_145221        1           NT_1     coculture_NT_1  \n",
       "CELL_145229        1           NT_1     coculture_NT_1  \n",
       "CELL_145234        1           NT_1     coculture_NT_1  \n",
       "CELL_145238        1           NT_1     coculture_NT_1  \n",
       "CELL_145239        1           NT_1     coculture_NT_1  \n",
       "...              ...            ...                ...  \n",
       "CELL_218309        1           NT_1     coculture_NT_1  \n",
       "CELL_218315        1           NT_1     coculture_NT_1  \n",
       "CELL_218318        1           NT_1     coculture_NT_1  \n",
       "CELL_218319        1           NT_1     coculture_NT_1  \n",
       "CELL_218331        1           NT_1     coculture_NT_1  \n",
       "\n",
       "[13483 rows x 9 columns]"
      ]
     },
     "execution_count": 30,
     "metadata": {},
     "output_type": "execute_result"
    }
   ],
   "source": [
    "adata.obs[adata.obs[\"cov_drug_dose_name\"] == \"coculture_NT_1\"]"
   ]
  },
  {
   "cell_type": "code",
   "execution_count": 73,
   "id": "4ec1b785-feeb-41e9-a331-568eddec1364",
   "metadata": {
    "pycharm": {
     "name": "#%%\n"
    }
   },
   "outputs": [],
   "source": [
    "m=adata[adata.obs[\"cov_drug_dose_name\"] == \"control_APOD+TM4SF1_1+1\"]"
   ]
  },
  {
   "cell_type": "code",
   "execution_count": 74,
   "id": "031199e0-fc87-47de-af5a-b31944a7e8a4",
   "metadata": {
    "pycharm": {
     "name": "#%%\n"
    }
   },
   "outputs": [
    {
     "name": "stdout",
     "output_type": "stream",
     "text": [
      "control\n",
      "WARNING: Default of the method has been changed to 't-test' from 't-test_overestim_var'\n",
      "ranking genes\n"
     ]
    },
    {
     "ename": "AttributeError",
     "evalue": "Can only use .cat accessor with a 'category' dtype",
     "output_type": "error",
     "traceback": [
      "\u001b[0;31m---------------------------------------------------------------------------\u001b[0m",
      "\u001b[0;31mAttributeError\u001b[0m                            Traceback (most recent call last)",
      "Input \u001b[0;32mIn [74]\u001b[0m, in \u001b[0;36m<cell line: 3>\u001b[0;34m()\u001b[0m\n\u001b[1;32m      3\u001b[0m \u001b[38;5;28;01mwith\u001b[39;00m warnings\u001b[38;5;241m.\u001b[39mcatch_warnings():\n\u001b[1;32m      4\u001b[0m     warnings\u001b[38;5;241m.\u001b[39msimplefilter(\u001b[38;5;124m'\u001b[39m\u001b[38;5;124mignore\u001b[39m\u001b[38;5;124m'\u001b[39m, pd\u001b[38;5;241m.\u001b[39merrors\u001b[38;5;241m.\u001b[39mPerformanceWarning)\n\u001b[0;32m----> 5\u001b[0m     \u001b[43mrank_genes_groups_by_cov\u001b[49m\u001b[43m(\u001b[49m\u001b[43mm\u001b[49m\u001b[43m,\u001b[49m\u001b[43m \u001b[49m\n\u001b[1;32m      6\u001b[0m \u001b[43m                             \u001b[49m\u001b[43mgroupby\u001b[49m\u001b[38;5;241;43m=\u001b[39;49m\u001b[38;5;124;43m'\u001b[39;49m\u001b[38;5;124;43mcov_drug_dose_name\u001b[39;49m\u001b[38;5;124;43m'\u001b[39;49m\u001b[43m,\u001b[49m\u001b[43m \u001b[49m\u001b[43mcovariate\u001b[49m\u001b[38;5;241;43m=\u001b[39;49m\u001b[38;5;124;43m'\u001b[39;49m\u001b[38;5;124;43mcell_type\u001b[39;49m\u001b[38;5;124;43m'\u001b[39;49m\u001b[43m,\u001b[49m\u001b[43m \u001b[49m\u001b[43mcontrol_group\u001b[49m\u001b[38;5;241;43m=\u001b[39;49m\u001b[38;5;124;43m'\u001b[39;49m\u001b[38;5;124;43mNT_1\u001b[39;49m\u001b[38;5;124;43m'\u001b[39;49m\u001b[43m,\u001b[49m\u001b[43m \u001b[49m\u001b[43mn_genes\u001b[49m\u001b[38;5;241;43m=\u001b[39;49m\u001b[38;5;241;43m20\u001b[39;49m\u001b[43m)\u001b[49m\n",
      "File \u001b[0;32m/mnt/home/icb/kemal.inecik/work/codes/mulpert/compert/helper.py:78\u001b[0m, in \u001b[0;36mrank_genes_groups_by_cov\u001b[0;34m(adata, groupby, control_group, covariate, pool_doses, n_genes, rankby_abs, key_added, return_dict)\u001b[0m\n\u001b[1;32m     75\u001b[0m adata_cov \u001b[38;5;241m=\u001b[39m adata[adata\u001b[38;5;241m.\u001b[39mobs[covariate]\u001b[38;5;241m==\u001b[39mcov_cat]\n\u001b[1;32m     77\u001b[0m \u001b[38;5;66;03m#compute DEGs\u001b[39;00m\n\u001b[0;32m---> 78\u001b[0m \u001b[43msc\u001b[49m\u001b[38;5;241;43m.\u001b[39;49m\u001b[43mtl\u001b[49m\u001b[38;5;241;43m.\u001b[39;49m\u001b[43mrank_genes_groups\u001b[49m\u001b[43m(\u001b[49m\n\u001b[1;32m     79\u001b[0m \u001b[43m    \u001b[49m\u001b[43madata_cov\u001b[49m\u001b[43m,\u001b[49m\n\u001b[1;32m     80\u001b[0m \u001b[43m    \u001b[49m\u001b[43mgroupby\u001b[49m\u001b[38;5;241;43m=\u001b[39;49m\u001b[43mgroupby\u001b[49m\u001b[43m,\u001b[49m\n\u001b[1;32m     81\u001b[0m \u001b[43m    \u001b[49m\u001b[43mreference\u001b[49m\u001b[38;5;241;43m=\u001b[39;49m\u001b[43mcontrol_group_cov\u001b[49m\u001b[43m,\u001b[49m\n\u001b[1;32m     82\u001b[0m \u001b[43m    \u001b[49m\u001b[43mrankby_abs\u001b[49m\u001b[38;5;241;43m=\u001b[39;49m\u001b[43mrankby_abs\u001b[49m\u001b[43m,\u001b[49m\n\u001b[1;32m     83\u001b[0m \u001b[43m    \u001b[49m\u001b[43mn_genes\u001b[49m\u001b[38;5;241;43m=\u001b[39;49m\u001b[43mn_genes\u001b[49m\n\u001b[1;32m     84\u001b[0m \u001b[43m\u001b[49m\u001b[43m)\u001b[49m\n\u001b[1;32m     86\u001b[0m \u001b[38;5;66;03m#add entries to dictionary of gene sets\u001b[39;00m\n\u001b[1;32m     87\u001b[0m de_genes \u001b[38;5;241m=\u001b[39m pd\u001b[38;5;241m.\u001b[39mDataFrame(adata_cov\u001b[38;5;241m.\u001b[39muns[\u001b[38;5;124m'\u001b[39m\u001b[38;5;124mrank_genes_groups\u001b[39m\u001b[38;5;124m'\u001b[39m][\u001b[38;5;124m'\u001b[39m\u001b[38;5;124mnames\u001b[39m\u001b[38;5;124m'\u001b[39m])\n",
      "File \u001b[0;32m~/miniconda3/envs/mulpert/lib/python3.8/site-packages/scanpy/tools/_rank_genes_groups.py:572\u001b[0m, in \u001b[0;36mrank_genes_groups\u001b[0;34m(adata, groupby, use_raw, groups, reference, n_genes, rankby_abs, pts, key_added, copy, method, corr_method, tie_correct, layer, **kwds)\u001b[0m\n\u001b[1;32m    570\u001b[0m     \u001b[38;5;28;01mif\u001b[39;00m reference \u001b[38;5;241m!=\u001b[39m \u001b[38;5;124m'\u001b[39m\u001b[38;5;124mrest\u001b[39m\u001b[38;5;124m'\u001b[39m \u001b[38;5;129;01mand\u001b[39;00m reference \u001b[38;5;129;01mnot\u001b[39;00m \u001b[38;5;129;01min\u001b[39;00m \u001b[38;5;28mset\u001b[39m(groups_order):\n\u001b[1;32m    571\u001b[0m         groups_order \u001b[38;5;241m+\u001b[39m\u001b[38;5;241m=\u001b[39m [reference]\n\u001b[0;32m--> 572\u001b[0m \u001b[38;5;28;01mif\u001b[39;00m reference \u001b[38;5;241m!=\u001b[39m \u001b[38;5;124m'\u001b[39m\u001b[38;5;124mrest\u001b[39m\u001b[38;5;124m'\u001b[39m \u001b[38;5;129;01mand\u001b[39;00m reference \u001b[38;5;129;01mnot\u001b[39;00m \u001b[38;5;129;01min\u001b[39;00m \u001b[43madata\u001b[49m\u001b[38;5;241;43m.\u001b[39;49m\u001b[43mobs\u001b[49m\u001b[43m[\u001b[49m\u001b[43mgroupby\u001b[49m\u001b[43m]\u001b[49m\u001b[38;5;241;43m.\u001b[39;49m\u001b[43mcat\u001b[49m\u001b[38;5;241m.\u001b[39mcategories:\n\u001b[1;32m    573\u001b[0m     cats \u001b[38;5;241m=\u001b[39m adata\u001b[38;5;241m.\u001b[39mobs[groupby]\u001b[38;5;241m.\u001b[39mcat\u001b[38;5;241m.\u001b[39mcategories\u001b[38;5;241m.\u001b[39mtolist()\n\u001b[1;32m    574\u001b[0m     \u001b[38;5;28;01mraise\u001b[39;00m \u001b[38;5;167;01mValueError\u001b[39;00m(\n\u001b[1;32m    575\u001b[0m         \u001b[38;5;124mf\u001b[39m\u001b[38;5;124m'\u001b[39m\u001b[38;5;124mreference = \u001b[39m\u001b[38;5;132;01m{\u001b[39;00mreference\u001b[38;5;132;01m}\u001b[39;00m\u001b[38;5;124m needs to be one of groupby = \u001b[39m\u001b[38;5;132;01m{\u001b[39;00mcats\u001b[38;5;132;01m}\u001b[39;00m\u001b[38;5;124m.\u001b[39m\u001b[38;5;124m'\u001b[39m\n\u001b[1;32m    576\u001b[0m     )\n",
      "File \u001b[0;32m~/miniconda3/envs/mulpert/lib/python3.8/site-packages/pandas/core/generic.py:5575\u001b[0m, in \u001b[0;36mNDFrame.__getattr__\u001b[0;34m(self, name)\u001b[0m\n\u001b[1;32m   5568\u001b[0m \u001b[38;5;28;01mif\u001b[39;00m (\n\u001b[1;32m   5569\u001b[0m     name \u001b[38;5;129;01mnot\u001b[39;00m \u001b[38;5;129;01min\u001b[39;00m \u001b[38;5;28mself\u001b[39m\u001b[38;5;241m.\u001b[39m_internal_names_set\n\u001b[1;32m   5570\u001b[0m     \u001b[38;5;129;01mand\u001b[39;00m name \u001b[38;5;129;01mnot\u001b[39;00m \u001b[38;5;129;01min\u001b[39;00m \u001b[38;5;28mself\u001b[39m\u001b[38;5;241m.\u001b[39m_metadata\n\u001b[1;32m   5571\u001b[0m     \u001b[38;5;129;01mand\u001b[39;00m name \u001b[38;5;129;01mnot\u001b[39;00m \u001b[38;5;129;01min\u001b[39;00m \u001b[38;5;28mself\u001b[39m\u001b[38;5;241m.\u001b[39m_accessors\n\u001b[1;32m   5572\u001b[0m     \u001b[38;5;129;01mand\u001b[39;00m \u001b[38;5;28mself\u001b[39m\u001b[38;5;241m.\u001b[39m_info_axis\u001b[38;5;241m.\u001b[39m_can_hold_identifiers_and_holds_name(name)\n\u001b[1;32m   5573\u001b[0m ):\n\u001b[1;32m   5574\u001b[0m     \u001b[38;5;28;01mreturn\u001b[39;00m \u001b[38;5;28mself\u001b[39m[name]\n\u001b[0;32m-> 5575\u001b[0m \u001b[38;5;28;01mreturn\u001b[39;00m \u001b[38;5;28;43mobject\u001b[39;49m\u001b[38;5;241;43m.\u001b[39;49m\u001b[38;5;21;43m__getattribute__\u001b[39;49m\u001b[43m(\u001b[49m\u001b[38;5;28;43mself\u001b[39;49m\u001b[43m,\u001b[49m\u001b[43m \u001b[49m\u001b[43mname\u001b[49m\u001b[43m)\u001b[49m\n",
      "File \u001b[0;32m~/miniconda3/envs/mulpert/lib/python3.8/site-packages/pandas/core/accessor.py:182\u001b[0m, in \u001b[0;36mCachedAccessor.__get__\u001b[0;34m(self, obj, cls)\u001b[0m\n\u001b[1;32m    179\u001b[0m \u001b[38;5;28;01mif\u001b[39;00m obj \u001b[38;5;129;01mis\u001b[39;00m \u001b[38;5;28;01mNone\u001b[39;00m:\n\u001b[1;32m    180\u001b[0m     \u001b[38;5;66;03m# we're accessing the attribute of the class, i.e., Dataset.geo\u001b[39;00m\n\u001b[1;32m    181\u001b[0m     \u001b[38;5;28;01mreturn\u001b[39;00m \u001b[38;5;28mself\u001b[39m\u001b[38;5;241m.\u001b[39m_accessor\n\u001b[0;32m--> 182\u001b[0m accessor_obj \u001b[38;5;241m=\u001b[39m \u001b[38;5;28;43mself\u001b[39;49m\u001b[38;5;241;43m.\u001b[39;49m\u001b[43m_accessor\u001b[49m\u001b[43m(\u001b[49m\u001b[43mobj\u001b[49m\u001b[43m)\u001b[49m\n\u001b[1;32m    183\u001b[0m \u001b[38;5;66;03m# Replace the property with the accessor object. Inspired by:\u001b[39;00m\n\u001b[1;32m    184\u001b[0m \u001b[38;5;66;03m# https://www.pydanny.com/cached-property.html\u001b[39;00m\n\u001b[1;32m    185\u001b[0m \u001b[38;5;66;03m# We need to use object.__setattr__ because we overwrite __setattr__ on\u001b[39;00m\n\u001b[1;32m    186\u001b[0m \u001b[38;5;66;03m# NDFrame\u001b[39;00m\n\u001b[1;32m    187\u001b[0m \u001b[38;5;28mobject\u001b[39m\u001b[38;5;241m.\u001b[39m\u001b[38;5;21m__setattr__\u001b[39m(obj, \u001b[38;5;28mself\u001b[39m\u001b[38;5;241m.\u001b[39m_name, accessor_obj)\n",
      "File \u001b[0;32m~/miniconda3/envs/mulpert/lib/python3.8/site-packages/pandas/core/arrays/categorical.py:2717\u001b[0m, in \u001b[0;36mCategoricalAccessor.__init__\u001b[0;34m(self, data)\u001b[0m\n\u001b[1;32m   2716\u001b[0m \u001b[38;5;28;01mdef\u001b[39;00m \u001b[38;5;21m__init__\u001b[39m(\u001b[38;5;28mself\u001b[39m, data):\n\u001b[0;32m-> 2717\u001b[0m     \u001b[38;5;28;43mself\u001b[39;49m\u001b[38;5;241;43m.\u001b[39;49m\u001b[43m_validate\u001b[49m\u001b[43m(\u001b[49m\u001b[43mdata\u001b[49m\u001b[43m)\u001b[49m\n\u001b[1;32m   2718\u001b[0m     \u001b[38;5;28mself\u001b[39m\u001b[38;5;241m.\u001b[39m_parent \u001b[38;5;241m=\u001b[39m data\u001b[38;5;241m.\u001b[39mvalues\n\u001b[1;32m   2719\u001b[0m     \u001b[38;5;28mself\u001b[39m\u001b[38;5;241m.\u001b[39m_index \u001b[38;5;241m=\u001b[39m data\u001b[38;5;241m.\u001b[39mindex\n",
      "File \u001b[0;32m~/miniconda3/envs/mulpert/lib/python3.8/site-packages/pandas/core/arrays/categorical.py:2726\u001b[0m, in \u001b[0;36mCategoricalAccessor._validate\u001b[0;34m(data)\u001b[0m\n\u001b[1;32m   2723\u001b[0m \u001b[38;5;129m@staticmethod\u001b[39m\n\u001b[1;32m   2724\u001b[0m \u001b[38;5;28;01mdef\u001b[39;00m \u001b[38;5;21m_validate\u001b[39m(data):\n\u001b[1;32m   2725\u001b[0m     \u001b[38;5;28;01mif\u001b[39;00m \u001b[38;5;129;01mnot\u001b[39;00m is_categorical_dtype(data\u001b[38;5;241m.\u001b[39mdtype):\n\u001b[0;32m-> 2726\u001b[0m         \u001b[38;5;28;01mraise\u001b[39;00m \u001b[38;5;167;01mAttributeError\u001b[39;00m(\u001b[38;5;124m\"\u001b[39m\u001b[38;5;124mCan only use .cat accessor with a \u001b[39m\u001b[38;5;124m'\u001b[39m\u001b[38;5;124mcategory\u001b[39m\u001b[38;5;124m'\u001b[39m\u001b[38;5;124m dtype\u001b[39m\u001b[38;5;124m\"\u001b[39m)\n",
      "\u001b[0;31mAttributeError\u001b[0m: Can only use .cat accessor with a 'category' dtype"
     ]
    }
   ],
   "source": [
    "from MultiCPA.helper import rank_genes_groups_by_cov\n",
    "import warnings\n",
    "with warnings.catch_warnings():\n",
    "    warnings.simplefilter('ignore', pd.errors.PerformanceWarning)\n",
    "    rank_genes_groups_by_cov(m, \n",
    "                             groupby='cov_drug_dose_name', covariate='cell_type', control_group='NT_1', n_genes=20)"
   ]
  },
  {
   "cell_type": "code",
   "execution_count": 69,
   "id": "94bd661b-7ba4-44f0-b52a-084d8fb16d7d",
   "metadata": {
    "pycharm": {
     "name": "#%%\n"
    }
   },
   "outputs": [
    {
     "data": {
      "text/html": [
       "<div>\n",
       "<style scoped>\n",
       "    .dataframe tbody tr th:only-of-type {\n",
       "        vertical-align: middle;\n",
       "    }\n",
       "\n",
       "    .dataframe tbody tr th {\n",
       "        vertical-align: top;\n",
       "    }\n",
       "\n",
       "    .dataframe thead th {\n",
       "        text-align: right;\n",
       "    }\n",
       "</style>\n",
       "<table border=\"1\" class=\"dataframe\">\n",
       "  <thead>\n",
       "    <tr style=\"text-align: right;\">\n",
       "      <th></th>\n",
       "      <th>MOI</th>\n",
       "      <th>sgRNA</th>\n",
       "      <th>UMI_count</th>\n",
       "      <th>cell_type</th>\n",
       "      <th>condition</th>\n",
       "      <th>dose_val</th>\n",
       "      <th>control</th>\n",
       "      <th>drug_dose_name</th>\n",
       "      <th>cov_drug_dose_name</th>\n",
       "    </tr>\n",
       "    <tr>\n",
       "      <th>cell_ID</th>\n",
       "      <th></th>\n",
       "      <th></th>\n",
       "      <th></th>\n",
       "      <th></th>\n",
       "      <th></th>\n",
       "      <th></th>\n",
       "      <th></th>\n",
       "      <th></th>\n",
       "      <th></th>\n",
       "    </tr>\n",
       "  </thead>\n",
       "  <tbody>\n",
       "    <tr>\n",
       "      <th>CELL_1</th>\n",
       "      <td>1</td>\n",
       "      <td>HLA-B_2</td>\n",
       "      <td>10832</td>\n",
       "      <td>control</td>\n",
       "      <td>HLA-B</td>\n",
       "      <td>1</td>\n",
       "      <td>0</td>\n",
       "      <td>HLA-B_1</td>\n",
       "      <td>control_HLA-B_1</td>\n",
       "    </tr>\n",
       "    <tr>\n",
       "      <th>CELL_2</th>\n",
       "      <td>2</td>\n",
       "      <td>NaN</td>\n",
       "      <td>10731</td>\n",
       "      <td>control</td>\n",
       "      <td>NGFR+SERPINF1</td>\n",
       "      <td>1+1</td>\n",
       "      <td>0</td>\n",
       "      <td>NGFR+SERPINF1_1+1</td>\n",
       "      <td>control_NGFR+SERPINF1_1+1</td>\n",
       "    </tr>\n",
       "    <tr>\n",
       "      <th>CELL_3</th>\n",
       "      <td>1</td>\n",
       "      <td>HLA-B_2</td>\n",
       "      <td>28821</td>\n",
       "      <td>control</td>\n",
       "      <td>HLA-B</td>\n",
       "      <td>1</td>\n",
       "      <td>0</td>\n",
       "      <td>HLA-B_1</td>\n",
       "      <td>control_HLA-B_1</td>\n",
       "    </tr>\n",
       "    <tr>\n",
       "      <th>CELL_4</th>\n",
       "      <td>2</td>\n",
       "      <td>NaN</td>\n",
       "      <td>15322</td>\n",
       "      <td>control</td>\n",
       "      <td>NMRK1+S100A6</td>\n",
       "      <td>1+1</td>\n",
       "      <td>0</td>\n",
       "      <td>NMRK1+S100A6_1+1</td>\n",
       "      <td>control_NMRK1+S100A6_1+1</td>\n",
       "    </tr>\n",
       "    <tr>\n",
       "      <th>CELL_5</th>\n",
       "      <td>0</td>\n",
       "      <td>NaN</td>\n",
       "      <td>10314</td>\n",
       "      <td>control</td>\n",
       "      <td>NT</td>\n",
       "      <td>1</td>\n",
       "      <td>1</td>\n",
       "      <td>NT_1</td>\n",
       "      <td>control_NT_1</td>\n",
       "    </tr>\n",
       "    <tr>\n",
       "      <th>...</th>\n",
       "      <td>...</td>\n",
       "      <td>...</td>\n",
       "      <td>...</td>\n",
       "      <td>...</td>\n",
       "      <td>...</td>\n",
       "      <td>...</td>\n",
       "      <td>...</td>\n",
       "      <td>...</td>\n",
       "      <td>...</td>\n",
       "    </tr>\n",
       "    <tr>\n",
       "      <th>CELL_218327</th>\n",
       "      <td>4</td>\n",
       "      <td>NaN</td>\n",
       "      <td>12722</td>\n",
       "      <td>coculture</td>\n",
       "      <td>CTSO+PIK3IP1+VDAC2+WNT7A</td>\n",
       "      <td>1+1+1+1</td>\n",
       "      <td>0</td>\n",
       "      <td>CTSO+PIK3IP1+VDAC2+WNT7A_1+1+1+1</td>\n",
       "      <td>coculture_CTSO+PIK3IP1+VDAC2+WNT7A_1+1+1+1</td>\n",
       "    </tr>\n",
       "    <tr>\n",
       "      <th>CELL_218328</th>\n",
       "      <td>2</td>\n",
       "      <td>NaN</td>\n",
       "      <td>11643</td>\n",
       "      <td>coculture</td>\n",
       "      <td>JAK2+SLC7A5P1</td>\n",
       "      <td>1+1</td>\n",
       "      <td>0</td>\n",
       "      <td>JAK2+SLC7A5P1_1+1</td>\n",
       "      <td>coculture_JAK2+SLC7A5P1_1+1</td>\n",
       "    </tr>\n",
       "    <tr>\n",
       "      <th>CELL_218329</th>\n",
       "      <td>3</td>\n",
       "      <td>NaN</td>\n",
       "      <td>12497</td>\n",
       "      <td>coculture</td>\n",
       "      <td>S100A6+SAT1+ONE-NON-GENE-SITE</td>\n",
       "      <td>1+1+1</td>\n",
       "      <td>0</td>\n",
       "      <td>S100A6+SAT1+ONE-NON-GENE-SITE_1+1+1</td>\n",
       "      <td>coculture_S100A6+SAT1+ONE-NON-GENE-SITE_1+1+1</td>\n",
       "    </tr>\n",
       "    <tr>\n",
       "      <th>CELL_218330</th>\n",
       "      <td>1</td>\n",
       "      <td>CDKN2B_3</td>\n",
       "      <td>17941</td>\n",
       "      <td>coculture</td>\n",
       "      <td>CDKN2B</td>\n",
       "      <td>1</td>\n",
       "      <td>0</td>\n",
       "      <td>CDKN2B_1</td>\n",
       "      <td>coculture_CDKN2B_1</td>\n",
       "    </tr>\n",
       "    <tr>\n",
       "      <th>CELL_218331</th>\n",
       "      <td>1</td>\n",
       "      <td>NO_SITE_694</td>\n",
       "      <td>7968</td>\n",
       "      <td>coculture</td>\n",
       "      <td>NO-SITE</td>\n",
       "      <td>1</td>\n",
       "      <td>0</td>\n",
       "      <td>NO-SITE_1</td>\n",
       "      <td>coculture_NO-SITE_1</td>\n",
       "    </tr>\n",
       "  </tbody>\n",
       "</table>\n",
       "<p>218328 rows × 9 columns</p>\n",
       "</div>"
      ],
      "text/plain": [
       "             MOI        sgRNA  UMI_count  cell_type  \\\n",
       "cell_ID                                               \n",
       "CELL_1         1      HLA-B_2      10832    control   \n",
       "CELL_2         2          NaN      10731    control   \n",
       "CELL_3         1      HLA-B_2      28821    control   \n",
       "CELL_4         2          NaN      15322    control   \n",
       "CELL_5         0          NaN      10314    control   \n",
       "...          ...          ...        ...        ...   \n",
       "CELL_218327    4          NaN      12722  coculture   \n",
       "CELL_218328    2          NaN      11643  coculture   \n",
       "CELL_218329    3          NaN      12497  coculture   \n",
       "CELL_218330    1     CDKN2B_3      17941  coculture   \n",
       "CELL_218331    1  NO_SITE_694       7968  coculture   \n",
       "\n",
       "                                 condition dose_val  control  \\\n",
       "cell_ID                                                        \n",
       "CELL_1                               HLA-B        1        0   \n",
       "CELL_2                       NGFR+SERPINF1      1+1        0   \n",
       "CELL_3                               HLA-B        1        0   \n",
       "CELL_4                        NMRK1+S100A6      1+1        0   \n",
       "CELL_5                                  NT        1        1   \n",
       "...                                    ...      ...      ...   \n",
       "CELL_218327       CTSO+PIK3IP1+VDAC2+WNT7A  1+1+1+1        0   \n",
       "CELL_218328                  JAK2+SLC7A5P1      1+1        0   \n",
       "CELL_218329  S100A6+SAT1+ONE-NON-GENE-SITE    1+1+1        0   \n",
       "CELL_218330                         CDKN2B        1        0   \n",
       "CELL_218331                        NO-SITE        1        0   \n",
       "\n",
       "                                  drug_dose_name  \\\n",
       "cell_ID                                            \n",
       "CELL_1                                   HLA-B_1   \n",
       "CELL_2                         NGFR+SERPINF1_1+1   \n",
       "CELL_3                                   HLA-B_1   \n",
       "CELL_4                          NMRK1+S100A6_1+1   \n",
       "CELL_5                                      NT_1   \n",
       "...                                          ...   \n",
       "CELL_218327     CTSO+PIK3IP1+VDAC2+WNT7A_1+1+1+1   \n",
       "CELL_218328                    JAK2+SLC7A5P1_1+1   \n",
       "CELL_218329  S100A6+SAT1+ONE-NON-GENE-SITE_1+1+1   \n",
       "CELL_218330                             CDKN2B_1   \n",
       "CELL_218331                            NO-SITE_1   \n",
       "\n",
       "                                        cov_drug_dose_name  \n",
       "cell_ID                                                     \n",
       "CELL_1                                     control_HLA-B_1  \n",
       "CELL_2                           control_NGFR+SERPINF1_1+1  \n",
       "CELL_3                                     control_HLA-B_1  \n",
       "CELL_4                            control_NMRK1+S100A6_1+1  \n",
       "CELL_5                                        control_NT_1  \n",
       "...                                                    ...  \n",
       "CELL_218327     coculture_CTSO+PIK3IP1+VDAC2+WNT7A_1+1+1+1  \n",
       "CELL_218328                    coculture_JAK2+SLC7A5P1_1+1  \n",
       "CELL_218329  coculture_S100A6+SAT1+ONE-NON-GENE-SITE_1+1+1  \n",
       "CELL_218330                             coculture_CDKN2B_1  \n",
       "CELL_218331                            coculture_NO-SITE_1  \n",
       "\n",
       "[218328 rows x 9 columns]"
      ]
     },
     "execution_count": 69,
     "metadata": {},
     "output_type": "execute_result"
    }
   ],
   "source": [
    "adata.obs"
   ]
  },
  {
   "cell_type": "code",
   "execution_count": null,
   "id": "204847ee-eb4c-4df3-862f-ce012d1d4446",
   "metadata": {
    "pycharm": {
     "name": "#%%\n"
    }
   },
   "outputs": [],
   "source": []
  }
 ],
 "metadata": {
  "kernelspec": {
   "display_name": "Python 3 (ipykernel)",
   "language": "python",
   "name": "python3"
  },
  "language_info": {
   "codemirror_mode": {
    "name": "ipython",
    "version": 3
   },
   "file_extension": ".py",
   "mimetype": "text/x-python",
   "name": "python",
   "nbconvert_exporter": "python",
   "pygments_lexer": "ipython3",
   "version": "3.8.13"
  }
 },
 "nbformat": 4,
 "nbformat_minor": 5
}

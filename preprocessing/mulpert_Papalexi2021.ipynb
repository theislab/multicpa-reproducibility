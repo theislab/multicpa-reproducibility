{
 "cells": [
  {
   "cell_type": "markdown",
   "id": "8aaed928",
   "metadata": {
    "pycharm": {
     "name": "#%% md\n"
    }
   },
   "source": [
    "# Papalexi2021 Preprocessing"
   ]
  },
  {
   "cell_type": "code",
   "execution_count": 6,
   "id": "106e5315",
   "metadata": {
    "collapsed": false,
    "jupyter": {
     "outputs_hidden": false
    },
    "pycharm": {
     "name": "#%%\n"
    }
   },
   "outputs": [],
   "source": [
    "import os\n",
    "import numpy as np\n",
    "import scanpy as sc\n",
    "import anndata as ad\n",
    "import pandas as pd\n",
    "import seaborn as sns\n",
    "import matplotlib.pyplot as plt\n",
    "from sklearn.model_selection import train_test_split\n",
    "from scipy.sparse import csr_matrix\n",
    "from scipy.stats.mstats import gmean\n",
    "import warnings"
   ]
  },
  {
   "cell_type": "code",
   "execution_count": 2,
   "id": "f35ae905-6c5a-4e06-ba47-b4d1cce7823a",
   "metadata": {
    "pycharm": {
     "name": "#%%\n"
    }
   },
   "outputs": [],
   "source": [
    "%matplotlib inline\n",
    "%config InlineBackend.figure_format='retina'"
   ]
  },
  {
   "cell_type": "code",
   "execution_count": 3,
   "id": "89b46b86-05cb-4403-90df-e818ea6a28a6",
   "metadata": {
    "pycharm": {
     "name": "#%%\n"
    }
   },
   "outputs": [
    {
     "name": "stdout",
     "output_type": "stream",
     "text": [
      "scanpy==1.9.1 anndata==0.8.0 umap==0.5.3 numpy==1.22.3 scipy==1.7.3 pandas==1.4.2 scikit-learn==1.0.2 statsmodels==0.13.2 python-igraph==0.9.11 pynndescent==0.5.7\n"
     ]
    }
   ],
   "source": [
    "sc.settings.verbosity = 3\n",
    "sc.logging.print_header()"
   ]
  },
  {
   "cell_type": "code",
   "execution_count": 4,
   "id": "8083efbd-c77e-42cc-90c7-0b0c367fef64",
   "metadata": {
    "pycharm": {
     "name": "#%%\n"
    }
   },
   "outputs": [
    {
     "data": {
      "text/plain": [
       "'/mnt/home/icb/kemal.inecik/work/codes/multicpa-reproducibility'"
      ]
     },
     "execution_count": 4,
     "metadata": {},
     "output_type": "execute_result"
    }
   ],
   "source": [
    "os.chdir('./../')\n",
    "os.getcwd()"
   ]
  },
  {
   "cell_type": "code",
   "execution_count": 5,
   "id": "9c289d5f-1a6d-4987-af0d-68f1127721ab",
   "metadata": {
    "pycharm": {
     "name": "#%%\n"
    }
   },
   "outputs": [],
   "source": [
    "%load_ext autoreload\n",
    "%autoreload 2 "
   ]
  },
  {
   "cell_type": "markdown",
   "id": "f306dfca-01db-4140-a2fa-a322522c08a1",
   "metadata": {
    "pycharm": {
     "name": "#%% md\n"
    }
   },
   "source": [
    "## Download"
   ]
  },
  {
   "cell_type": "markdown",
   "id": "1393055f-8251-47b2-8c2c-8d3bd814257a",
   "metadata": {
    "pycharm": {
     "name": "#%% md\n"
    }
   },
   "source": [
    "The dataset is taken from https://www.nature.com/articles/s41588-021-00778-2.\n",
    "\n",
    "The raw data files can be donloaded here: https://www.ncbi.nlm.nih.gov/geo/query/acc.cgi?acc=GSE153056.\n",
    "\n",
    "The following files were used for this notebook:\n",
    "* mRNA counts: GSM4633614_ECCITE_cDNA_counts\n",
    "* protein counts: GSM4633615_ECCITE_ADT_counts\n",
    "* type of perturbation: ECCITE_metadata\n",
    "\n",
    "Remark: An analysis of this dataset using Seurat can be found in https://satijalab.org/seurat/articles/mixscape_vignette.html."
   ]
  },
  {
   "cell_type": "markdown",
   "id": "34c06556-344a-401e-ba20-4b9002a3b2dc",
   "metadata": {
    "pycharm": {
     "name": "#%% md\n"
    }
   },
   "source": [
    "## Transform csv to h5ad"
   ]
  },
  {
   "cell_type": "markdown",
   "id": "8a65b98c-7b0d-4335-8af2-5d6143863602",
   "metadata": {
    "pycharm": {
     "name": "#%% md\n"
    }
   },
   "source": [
    "convert tsv files for rna and adt counts to anndata h5ad"
   ]
  },
  {
   "cell_type": "code",
   "execution_count": 6,
   "id": "3f43a9c9-9f0b-4b57-9e2c-d4ee7b3568e1",
   "metadata": {
    "pycharm": {
     "name": "#%%\n"
    }
   },
   "outputs": [],
   "source": [
    "fname = 'GSM4633614_ECCITE_cDNA_counts'\n",
    "raw_data_dir = \"/storage/groups/ml01/workspace/kemal.inecik/Papalexi2021\""
   ]
  },
  {
   "cell_type": "code",
   "execution_count": 7,
   "id": "db40b9b6-5365-4475-9d39-b6c5548225f5",
   "metadata": {
    "pycharm": {
     "name": "#%%\n"
    }
   },
   "outputs": [],
   "source": [
    "df = pd.read_csv(os.path.join(raw_data_dir, f'{fname}.tsv'), sep='\\t')"
   ]
  },
  {
   "cell_type": "code",
   "execution_count": 8,
   "id": "cd77c8c5-c82b-4e01-a06e-55204d994ec8",
   "metadata": {
    "pycharm": {
     "name": "#%%\n"
    }
   },
   "outputs": [
    {
     "data": {
      "text/html": [
       "<div>\n",
       "<style scoped>\n",
       "    .dataframe tbody tr th:only-of-type {\n",
       "        vertical-align: middle;\n",
       "    }\n",
       "\n",
       "    .dataframe tbody tr th {\n",
       "        vertical-align: top;\n",
       "    }\n",
       "\n",
       "    .dataframe thead th {\n",
       "        text-align: right;\n",
       "    }\n",
       "</style>\n",
       "<table border=\"1\" class=\"dataframe\">\n",
       "  <thead>\n",
       "    <tr style=\"text-align: right;\">\n",
       "      <th></th>\n",
       "      <th>0</th>\n",
       "      <th>1</th>\n",
       "      <th>2</th>\n",
       "      <th>3</th>\n",
       "      <th>4</th>\n",
       "      <th>5</th>\n",
       "      <th>6</th>\n",
       "      <th>7</th>\n",
       "      <th>8</th>\n",
       "      <th>9</th>\n",
       "      <th>...</th>\n",
       "      <th>18639</th>\n",
       "      <th>18640</th>\n",
       "      <th>18641</th>\n",
       "      <th>18642</th>\n",
       "      <th>18643</th>\n",
       "      <th>18644</th>\n",
       "      <th>18645</th>\n",
       "      <th>18646</th>\n",
       "      <th>18647</th>\n",
       "      <th>18648</th>\n",
       "    </tr>\n",
       "  </thead>\n",
       "  <tbody>\n",
       "    <tr>\n",
       "      <th>Unnamed: 0</th>\n",
       "      <td>AL627309.1</td>\n",
       "      <td>AP006222.2</td>\n",
       "      <td>RP4-669L17.10</td>\n",
       "      <td>RP11-206L10.3</td>\n",
       "      <td>RP11-206L10.2</td>\n",
       "      <td>RP11-206L10.9</td>\n",
       "      <td>LINC00115</td>\n",
       "      <td>FAM41C</td>\n",
       "      <td>SAMD11</td>\n",
       "      <td>NOC2L</td>\n",
       "      <td>...</td>\n",
       "      <td>RP11-403P17.5</td>\n",
       "      <td>SMCR5</td>\n",
       "      <td>GRAPL</td>\n",
       "      <td>MIR451B</td>\n",
       "      <td>RP11-214C8.2</td>\n",
       "      <td>L3MBTL4</td>\n",
       "      <td>CTB-31O20.9</td>\n",
       "      <td>AC092295.4</td>\n",
       "      <td>MYO18B</td>\n",
       "      <td>TMPRSS3</td>\n",
       "    </tr>\n",
       "    <tr>\n",
       "      <th>l1_AAACCTGAGCCAGAAC</th>\n",
       "      <td>0</td>\n",
       "      <td>0</td>\n",
       "      <td>0</td>\n",
       "      <td>0</td>\n",
       "      <td>0</td>\n",
       "      <td>0</td>\n",
       "      <td>0</td>\n",
       "      <td>0</td>\n",
       "      <td>0</td>\n",
       "      <td>0</td>\n",
       "      <td>...</td>\n",
       "      <td>0</td>\n",
       "      <td>0</td>\n",
       "      <td>0</td>\n",
       "      <td>0</td>\n",
       "      <td>0</td>\n",
       "      <td>0</td>\n",
       "      <td>0</td>\n",
       "      <td>0</td>\n",
       "      <td>0</td>\n",
       "      <td>0</td>\n",
       "    </tr>\n",
       "    <tr>\n",
       "      <th>l1_AAACCTGAGTGGACGT</th>\n",
       "      <td>0</td>\n",
       "      <td>0</td>\n",
       "      <td>0</td>\n",
       "      <td>0</td>\n",
       "      <td>0</td>\n",
       "      <td>0</td>\n",
       "      <td>0</td>\n",
       "      <td>0</td>\n",
       "      <td>0</td>\n",
       "      <td>0</td>\n",
       "      <td>...</td>\n",
       "      <td>0</td>\n",
       "      <td>0</td>\n",
       "      <td>0</td>\n",
       "      <td>0</td>\n",
       "      <td>0</td>\n",
       "      <td>0</td>\n",
       "      <td>0</td>\n",
       "      <td>0</td>\n",
       "      <td>0</td>\n",
       "      <td>0</td>\n",
       "    </tr>\n",
       "    <tr>\n",
       "      <th>l1_AAACCTGCATGAGCGA</th>\n",
       "      <td>0</td>\n",
       "      <td>0</td>\n",
       "      <td>0</td>\n",
       "      <td>0</td>\n",
       "      <td>0</td>\n",
       "      <td>0</td>\n",
       "      <td>0</td>\n",
       "      <td>0</td>\n",
       "      <td>0</td>\n",
       "      <td>1</td>\n",
       "      <td>...</td>\n",
       "      <td>0</td>\n",
       "      <td>0</td>\n",
       "      <td>0</td>\n",
       "      <td>0</td>\n",
       "      <td>0</td>\n",
       "      <td>0</td>\n",
       "      <td>0</td>\n",
       "      <td>0</td>\n",
       "      <td>0</td>\n",
       "      <td>0</td>\n",
       "    </tr>\n",
       "    <tr>\n",
       "      <th>l1_AAACCTGTCTTGTCAT</th>\n",
       "      <td>0</td>\n",
       "      <td>0</td>\n",
       "      <td>0</td>\n",
       "      <td>0</td>\n",
       "      <td>0</td>\n",
       "      <td>0</td>\n",
       "      <td>0</td>\n",
       "      <td>0</td>\n",
       "      <td>0</td>\n",
       "      <td>0</td>\n",
       "      <td>...</td>\n",
       "      <td>0</td>\n",
       "      <td>0</td>\n",
       "      <td>0</td>\n",
       "      <td>0</td>\n",
       "      <td>0</td>\n",
       "      <td>0</td>\n",
       "      <td>0</td>\n",
       "      <td>0</td>\n",
       "      <td>0</td>\n",
       "      <td>0</td>\n",
       "    </tr>\n",
       "  </tbody>\n",
       "</table>\n",
       "<p>5 rows × 18649 columns</p>\n",
       "</div>"
      ],
      "text/plain": [
       "                          0           1              2              3      \\\n",
       "Unnamed: 0           AL627309.1  AP006222.2  RP4-669L17.10  RP11-206L10.3   \n",
       "l1_AAACCTGAGCCAGAAC           0           0              0              0   \n",
       "l1_AAACCTGAGTGGACGT           0           0              0              0   \n",
       "l1_AAACCTGCATGAGCGA           0           0              0              0   \n",
       "l1_AAACCTGTCTTGTCAT           0           0              0              0   \n",
       "\n",
       "                             4              5          6       7       8      \\\n",
       "Unnamed: 0           RP11-206L10.2  RP11-206L10.9  LINC00115  FAM41C  SAMD11   \n",
       "l1_AAACCTGAGCCAGAAC              0              0          0       0       0   \n",
       "l1_AAACCTGAGTGGACGT              0              0          0       0       0   \n",
       "l1_AAACCTGCATGAGCGA              0              0          0       0       0   \n",
       "l1_AAACCTGTCTTGTCAT              0              0          0       0       0   \n",
       "\n",
       "                     9      ...          18639  18640  18641    18642  \\\n",
       "Unnamed: 0           NOC2L  ...  RP11-403P17.5  SMCR5  GRAPL  MIR451B   \n",
       "l1_AAACCTGAGCCAGAAC      0  ...              0      0      0        0   \n",
       "l1_AAACCTGAGTGGACGT      0  ...              0      0      0        0   \n",
       "l1_AAACCTGCATGAGCGA      1  ...              0      0      0        0   \n",
       "l1_AAACCTGTCTTGTCAT      0  ...              0      0      0        0   \n",
       "\n",
       "                            18643    18644        18645       18646   18647  \\\n",
       "Unnamed: 0           RP11-214C8.2  L3MBTL4  CTB-31O20.9  AC092295.4  MYO18B   \n",
       "l1_AAACCTGAGCCAGAAC             0        0            0           0       0   \n",
       "l1_AAACCTGAGTGGACGT             0        0            0           0       0   \n",
       "l1_AAACCTGCATGAGCGA             0        0            0           0       0   \n",
       "l1_AAACCTGTCTTGTCAT             0        0            0           0       0   \n",
       "\n",
       "                       18648  \n",
       "Unnamed: 0           TMPRSS3  \n",
       "l1_AAACCTGAGCCAGAAC        0  \n",
       "l1_AAACCTGAGTGGACGT        0  \n",
       "l1_AAACCTGCATGAGCGA        0  \n",
       "l1_AAACCTGTCTTGTCAT        0  \n",
       "\n",
       "[5 rows x 18649 columns]"
      ]
     },
     "execution_count": 8,
     "metadata": {},
     "output_type": "execute_result"
    }
   ],
   "source": [
    "df = df.T\n",
    "df.head()"
   ]
  },
  {
   "cell_type": "code",
   "execution_count": 9,
   "id": "f864d0e7-ba2f-4008-8219-570452b29b64",
   "metadata": {
    "pycharm": {
     "name": "#%%\n"
    }
   },
   "outputs": [
    {
     "data": {
      "text/html": [
       "<div>\n",
       "<style scoped>\n",
       "    .dataframe tbody tr th:only-of-type {\n",
       "        vertical-align: middle;\n",
       "    }\n",
       "\n",
       "    .dataframe tbody tr th {\n",
       "        vertical-align: top;\n",
       "    }\n",
       "\n",
       "    .dataframe thead th {\n",
       "        text-align: right;\n",
       "    }\n",
       "</style>\n",
       "<table border=\"1\" class=\"dataframe\">\n",
       "  <thead>\n",
       "    <tr style=\"text-align: right;\">\n",
       "      <th>Unnamed: 0</th>\n",
       "      <th>AL627309.1</th>\n",
       "      <th>AP006222.2</th>\n",
       "      <th>RP4-669L17.10</th>\n",
       "      <th>RP11-206L10.3</th>\n",
       "      <th>RP11-206L10.2</th>\n",
       "      <th>RP11-206L10.9</th>\n",
       "      <th>LINC00115</th>\n",
       "      <th>FAM41C</th>\n",
       "      <th>SAMD11</th>\n",
       "      <th>NOC2L</th>\n",
       "      <th>...</th>\n",
       "      <th>RP11-403P17.5</th>\n",
       "      <th>SMCR5</th>\n",
       "      <th>GRAPL</th>\n",
       "      <th>MIR451B</th>\n",
       "      <th>RP11-214C8.2</th>\n",
       "      <th>L3MBTL4</th>\n",
       "      <th>CTB-31O20.9</th>\n",
       "      <th>AC092295.4</th>\n",
       "      <th>MYO18B</th>\n",
       "      <th>TMPRSS3</th>\n",
       "    </tr>\n",
       "  </thead>\n",
       "  <tbody>\n",
       "    <tr>\n",
       "      <th>l1_AAACCTGAGCCAGAAC</th>\n",
       "      <td>0</td>\n",
       "      <td>0</td>\n",
       "      <td>0</td>\n",
       "      <td>0</td>\n",
       "      <td>0</td>\n",
       "      <td>0</td>\n",
       "      <td>0</td>\n",
       "      <td>0</td>\n",
       "      <td>0</td>\n",
       "      <td>0</td>\n",
       "      <td>...</td>\n",
       "      <td>0</td>\n",
       "      <td>0</td>\n",
       "      <td>0</td>\n",
       "      <td>0</td>\n",
       "      <td>0</td>\n",
       "      <td>0</td>\n",
       "      <td>0</td>\n",
       "      <td>0</td>\n",
       "      <td>0</td>\n",
       "      <td>0</td>\n",
       "    </tr>\n",
       "    <tr>\n",
       "      <th>l1_AAACCTGAGTGGACGT</th>\n",
       "      <td>0</td>\n",
       "      <td>0</td>\n",
       "      <td>0</td>\n",
       "      <td>0</td>\n",
       "      <td>0</td>\n",
       "      <td>0</td>\n",
       "      <td>0</td>\n",
       "      <td>0</td>\n",
       "      <td>0</td>\n",
       "      <td>0</td>\n",
       "      <td>...</td>\n",
       "      <td>0</td>\n",
       "      <td>0</td>\n",
       "      <td>0</td>\n",
       "      <td>0</td>\n",
       "      <td>0</td>\n",
       "      <td>0</td>\n",
       "      <td>0</td>\n",
       "      <td>0</td>\n",
       "      <td>0</td>\n",
       "      <td>0</td>\n",
       "    </tr>\n",
       "    <tr>\n",
       "      <th>l1_AAACCTGCATGAGCGA</th>\n",
       "      <td>0</td>\n",
       "      <td>0</td>\n",
       "      <td>0</td>\n",
       "      <td>0</td>\n",
       "      <td>0</td>\n",
       "      <td>0</td>\n",
       "      <td>0</td>\n",
       "      <td>0</td>\n",
       "      <td>0</td>\n",
       "      <td>1</td>\n",
       "      <td>...</td>\n",
       "      <td>0</td>\n",
       "      <td>0</td>\n",
       "      <td>0</td>\n",
       "      <td>0</td>\n",
       "      <td>0</td>\n",
       "      <td>0</td>\n",
       "      <td>0</td>\n",
       "      <td>0</td>\n",
       "      <td>0</td>\n",
       "      <td>0</td>\n",
       "    </tr>\n",
       "    <tr>\n",
       "      <th>l1_AAACCTGTCTTGTCAT</th>\n",
       "      <td>0</td>\n",
       "      <td>0</td>\n",
       "      <td>0</td>\n",
       "      <td>0</td>\n",
       "      <td>0</td>\n",
       "      <td>0</td>\n",
       "      <td>0</td>\n",
       "      <td>0</td>\n",
       "      <td>0</td>\n",
       "      <td>0</td>\n",
       "      <td>...</td>\n",
       "      <td>0</td>\n",
       "      <td>0</td>\n",
       "      <td>0</td>\n",
       "      <td>0</td>\n",
       "      <td>0</td>\n",
       "      <td>0</td>\n",
       "      <td>0</td>\n",
       "      <td>0</td>\n",
       "      <td>0</td>\n",
       "      <td>0</td>\n",
       "    </tr>\n",
       "    <tr>\n",
       "      <th>l1_AAACGGGAGAACAACT</th>\n",
       "      <td>0</td>\n",
       "      <td>0</td>\n",
       "      <td>0</td>\n",
       "      <td>0</td>\n",
       "      <td>0</td>\n",
       "      <td>0</td>\n",
       "      <td>0</td>\n",
       "      <td>0</td>\n",
       "      <td>0</td>\n",
       "      <td>0</td>\n",
       "      <td>...</td>\n",
       "      <td>0</td>\n",
       "      <td>0</td>\n",
       "      <td>0</td>\n",
       "      <td>0</td>\n",
       "      <td>0</td>\n",
       "      <td>0</td>\n",
       "      <td>0</td>\n",
       "      <td>0</td>\n",
       "      <td>0</td>\n",
       "      <td>0</td>\n",
       "    </tr>\n",
       "  </tbody>\n",
       "</table>\n",
       "<p>5 rows × 18649 columns</p>\n",
       "</div>"
      ],
      "text/plain": [
       "Unnamed: 0          AL627309.1 AP006222.2 RP4-669L17.10 RP11-206L10.3  \\\n",
       "l1_AAACCTGAGCCAGAAC          0          0             0             0   \n",
       "l1_AAACCTGAGTGGACGT          0          0             0             0   \n",
       "l1_AAACCTGCATGAGCGA          0          0             0             0   \n",
       "l1_AAACCTGTCTTGTCAT          0          0             0             0   \n",
       "l1_AAACGGGAGAACAACT          0          0             0             0   \n",
       "\n",
       "Unnamed: 0          RP11-206L10.2 RP11-206L10.9 LINC00115 FAM41C SAMD11 NOC2L  \\\n",
       "l1_AAACCTGAGCCAGAAC             0             0         0      0      0     0   \n",
       "l1_AAACCTGAGTGGACGT             0             0         0      0      0     0   \n",
       "l1_AAACCTGCATGAGCGA             0             0         0      0      0     1   \n",
       "l1_AAACCTGTCTTGTCAT             0             0         0      0      0     0   \n",
       "l1_AAACGGGAGAACAACT             0             0         0      0      0     0   \n",
       "\n",
       "Unnamed: 0           ... RP11-403P17.5 SMCR5 GRAPL MIR451B RP11-214C8.2  \\\n",
       "l1_AAACCTGAGCCAGAAC  ...             0     0     0       0            0   \n",
       "l1_AAACCTGAGTGGACGT  ...             0     0     0       0            0   \n",
       "l1_AAACCTGCATGAGCGA  ...             0     0     0       0            0   \n",
       "l1_AAACCTGTCTTGTCAT  ...             0     0     0       0            0   \n",
       "l1_AAACGGGAGAACAACT  ...             0     0     0       0            0   \n",
       "\n",
       "Unnamed: 0          L3MBTL4 CTB-31O20.9 AC092295.4 MYO18B TMPRSS3  \n",
       "l1_AAACCTGAGCCAGAAC       0           0          0      0       0  \n",
       "l1_AAACCTGAGTGGACGT       0           0          0      0       0  \n",
       "l1_AAACCTGCATGAGCGA       0           0          0      0       0  \n",
       "l1_AAACCTGTCTTGTCAT       0           0          0      0       0  \n",
       "l1_AAACGGGAGAACAACT       0           0          0      0       0  \n",
       "\n",
       "[5 rows x 18649 columns]"
      ]
     },
     "execution_count": 9,
     "metadata": {},
     "output_type": "execute_result"
    }
   ],
   "source": [
    "new_header = df.iloc[0]\n",
    "df = df[1:]\n",
    "df.columns = new_header\n",
    "df.head()"
   ]
  },
  {
   "cell_type": "code",
   "execution_count": 10,
   "id": "14046046-770a-4e51-a70b-13ed39ec8484",
   "metadata": {
    "pycharm": {
     "name": "#%%\n"
    }
   },
   "outputs": [],
   "source": [
    "sparse_df = csr_matrix(df.astype(np.float32))"
   ]
  },
  {
   "cell_type": "code",
   "execution_count": 11,
   "id": "67be30d9-3c88-4984-ab23-2f1b50525524",
   "metadata": {
    "pycharm": {
     "name": "#%%\n"
    }
   },
   "outputs": [
    {
     "data": {
      "text/html": [
       "<div>\n",
       "<style scoped>\n",
       "    .dataframe tbody tr th:only-of-type {\n",
       "        vertical-align: middle;\n",
       "    }\n",
       "\n",
       "    .dataframe tbody tr th {\n",
       "        vertical-align: top;\n",
       "    }\n",
       "\n",
       "    .dataframe thead th {\n",
       "        text-align: right;\n",
       "    }\n",
       "</style>\n",
       "<table border=\"1\" class=\"dataframe\">\n",
       "  <thead>\n",
       "    <tr style=\"text-align: right;\">\n",
       "      <th></th>\n",
       "      <th>Gene</th>\n",
       "    </tr>\n",
       "  </thead>\n",
       "  <tbody>\n",
       "    <tr>\n",
       "      <th>0</th>\n",
       "      <td>AL627309.1</td>\n",
       "    </tr>\n",
       "    <tr>\n",
       "      <th>1</th>\n",
       "      <td>AP006222.2</td>\n",
       "    </tr>\n",
       "    <tr>\n",
       "      <th>2</th>\n",
       "      <td>RP4-669L17.10</td>\n",
       "    </tr>\n",
       "    <tr>\n",
       "      <th>3</th>\n",
       "      <td>RP11-206L10.3</td>\n",
       "    </tr>\n",
       "    <tr>\n",
       "      <th>4</th>\n",
       "      <td>RP11-206L10.2</td>\n",
       "    </tr>\n",
       "    <tr>\n",
       "      <th>...</th>\n",
       "      <td>...</td>\n",
       "    </tr>\n",
       "    <tr>\n",
       "      <th>18644</th>\n",
       "      <td>L3MBTL4</td>\n",
       "    </tr>\n",
       "    <tr>\n",
       "      <th>18645</th>\n",
       "      <td>CTB-31O20.9</td>\n",
       "    </tr>\n",
       "    <tr>\n",
       "      <th>18646</th>\n",
       "      <td>AC092295.4</td>\n",
       "    </tr>\n",
       "    <tr>\n",
       "      <th>18647</th>\n",
       "      <td>MYO18B</td>\n",
       "    </tr>\n",
       "    <tr>\n",
       "      <th>18648</th>\n",
       "      <td>TMPRSS3</td>\n",
       "    </tr>\n",
       "  </tbody>\n",
       "</table>\n",
       "<p>18649 rows × 1 columns</p>\n",
       "</div>"
      ],
      "text/plain": [
       "                Gene\n",
       "0         AL627309.1\n",
       "1         AP006222.2\n",
       "2      RP4-669L17.10\n",
       "3      RP11-206L10.3\n",
       "4      RP11-206L10.2\n",
       "...              ...\n",
       "18644        L3MBTL4\n",
       "18645    CTB-31O20.9\n",
       "18646     AC092295.4\n",
       "18647         MYO18B\n",
       "18648        TMPRSS3\n",
       "\n",
       "[18649 rows x 1 columns]"
      ]
     },
     "execution_count": 11,
     "metadata": {},
     "output_type": "execute_result"
    }
   ],
   "source": [
    "df.columns.to_frame().rename(columns={'Unnamed: 0': 'Gene'}).reset_index(drop=True)"
   ]
  },
  {
   "cell_type": "code",
   "execution_count": 12,
   "id": "f9a25083-a3b4-43ce-9019-5f201130f4ee",
   "metadata": {
    "pycharm": {
     "name": "#%%\n"
    }
   },
   "outputs": [
    {
     "data": {
      "text/html": [
       "<div>\n",
       "<style scoped>\n",
       "    .dataframe tbody tr th:only-of-type {\n",
       "        vertical-align: middle;\n",
       "    }\n",
       "\n",
       "    .dataframe tbody tr th {\n",
       "        vertical-align: top;\n",
       "    }\n",
       "\n",
       "    .dataframe thead th {\n",
       "        text-align: right;\n",
       "    }\n",
       "</style>\n",
       "<table border=\"1\" class=\"dataframe\">\n",
       "  <thead>\n",
       "    <tr style=\"text-align: right;\">\n",
       "      <th></th>\n",
       "      <th>cell_ID</th>\n",
       "    </tr>\n",
       "  </thead>\n",
       "  <tbody>\n",
       "    <tr>\n",
       "      <th>0</th>\n",
       "      <td>l1_AAACCTGAGCCAGAAC</td>\n",
       "    </tr>\n",
       "    <tr>\n",
       "      <th>1</th>\n",
       "      <td>l1_AAACCTGAGTGGACGT</td>\n",
       "    </tr>\n",
       "    <tr>\n",
       "      <th>2</th>\n",
       "      <td>l1_AAACCTGCATGAGCGA</td>\n",
       "    </tr>\n",
       "    <tr>\n",
       "      <th>3</th>\n",
       "      <td>l1_AAACCTGTCTTGTCAT</td>\n",
       "    </tr>\n",
       "    <tr>\n",
       "      <th>4</th>\n",
       "      <td>l1_AAACGGGAGAACAACT</td>\n",
       "    </tr>\n",
       "    <tr>\n",
       "      <th>...</th>\n",
       "      <td>...</td>\n",
       "    </tr>\n",
       "    <tr>\n",
       "      <th>20724</th>\n",
       "      <td>l8_TTTGTCAGTCACTTCC</td>\n",
       "    </tr>\n",
       "    <tr>\n",
       "      <th>20725</th>\n",
       "      <td>l8_TTTGTCAGTGACGGTA</td>\n",
       "    </tr>\n",
       "    <tr>\n",
       "      <th>20726</th>\n",
       "      <td>l8_TTTGTCAGTTCCACAA</td>\n",
       "    </tr>\n",
       "    <tr>\n",
       "      <th>20727</th>\n",
       "      <td>l8_TTTGTCATCACGCATA</td>\n",
       "    </tr>\n",
       "    <tr>\n",
       "      <th>20728</th>\n",
       "      <td>l8_TTTGTCATCTGTACGA</td>\n",
       "    </tr>\n",
       "  </tbody>\n",
       "</table>\n",
       "<p>20729 rows × 1 columns</p>\n",
       "</div>"
      ],
      "text/plain": [
       "                   cell_ID\n",
       "0      l1_AAACCTGAGCCAGAAC\n",
       "1      l1_AAACCTGAGTGGACGT\n",
       "2      l1_AAACCTGCATGAGCGA\n",
       "3      l1_AAACCTGTCTTGTCAT\n",
       "4      l1_AAACGGGAGAACAACT\n",
       "...                    ...\n",
       "20724  l8_TTTGTCAGTCACTTCC\n",
       "20725  l8_TTTGTCAGTGACGGTA\n",
       "20726  l8_TTTGTCAGTTCCACAA\n",
       "20727  l8_TTTGTCATCACGCATA\n",
       "20728  l8_TTTGTCATCTGTACGA\n",
       "\n",
       "[20729 rows x 1 columns]"
      ]
     },
     "execution_count": 12,
     "metadata": {},
     "output_type": "execute_result"
    }
   ],
   "source": [
    "df.index.to_frame(name='cell_ID').reset_index(drop=True)"
   ]
  },
  {
   "cell_type": "code",
   "execution_count": 13,
   "id": "c81dfafc-7826-49f4-bcfb-59e886de60de",
   "metadata": {
    "pycharm": {
     "name": "#%%\n"
    }
   },
   "outputs": [
    {
     "name": "stderr",
     "output_type": "stream",
     "text": [
      "/home/icb/kemal.inecik/miniconda3/envs/mulpert/lib/python3.8/site-packages/anndata/_core/anndata.py:121: ImplicitModificationWarning: Transforming to str index.\n",
      "  warnings.warn(\"Transforming to str index.\", ImplicitModificationWarning)\n"
     ]
    }
   ],
   "source": [
    "adata = ad.AnnData(\n",
    "    X=sparse_df, \n",
    "    var=df.columns.to_frame().rename(columns={'Unnamed: 0': 'Gene'}).reset_index(drop=True), \n",
    "    obs=df.index.to_frame(name='cell_ID').reset_index(drop=True),\n",
    ")"
   ]
  },
  {
   "cell_type": "code",
   "execution_count": 14,
   "id": "91887012-aef3-4645-a0ff-b81d7a1a287a",
   "metadata": {
    "pycharm": {
     "name": "#%%\n"
    }
   },
   "outputs": [],
   "source": [
    "adata.write(os.path.join(raw_data_dir, f'{fname}.h5ad'))"
   ]
  },
  {
   "cell_type": "markdown",
   "id": "c6c68ec3-1b2e-475c-8bdf-c9a8832c6366",
   "metadata": {
    "pycharm": {
     "name": "#%% md\n"
    }
   },
   "source": [
    "## Merge h5ad files"
   ]
  },
  {
   "cell_type": "code",
   "execution_count": 15,
   "id": "8dc2213c-c099-4f13-ae4e-df954254a07e",
   "metadata": {
    "pycharm": {
     "name": "#%%\n"
    }
   },
   "outputs": [
    {
     "data": {
      "text/plain": [
       "AnnData object with n_obs × n_vars = 20729 × 18649\n",
       "    obs: 'cell_ID'\n",
       "    var: 'Gene'"
      ]
     },
     "execution_count": 15,
     "metadata": {},
     "output_type": "execute_result"
    }
   ],
   "source": [
    "fname = 'GSM4633614_ECCITE_cDNA_counts'\n",
    "adata = ad.read(os.path.join(raw_data_dir, f'{fname}.h5ad'))\n",
    "adata"
   ]
  },
  {
   "cell_type": "code",
   "execution_count": 16,
   "id": "88a003e7-b358-4747-ae89-17eddaeb1903",
   "metadata": {
    "pycharm": {
     "name": "#%%\n"
    }
   },
   "outputs": [],
   "source": [
    "adata.var = adata.var.set_index('Gene')\n",
    "adata.layers[\"counts\"] = adata.X.copy()"
   ]
  },
  {
   "cell_type": "code",
   "execution_count": 17,
   "id": "d4e12dfb-4cf0-493f-9721-ef51b6e49542",
   "metadata": {
    "pycharm": {
     "name": "#%%\n"
    }
   },
   "outputs": [
    {
     "data": {
      "text/html": [
       "<div>\n",
       "<style scoped>\n",
       "    .dataframe tbody tr th:only-of-type {\n",
       "        vertical-align: middle;\n",
       "    }\n",
       "\n",
       "    .dataframe tbody tr th {\n",
       "        vertical-align: top;\n",
       "    }\n",
       "\n",
       "    .dataframe thead th {\n",
       "        text-align: right;\n",
       "    }\n",
       "</style>\n",
       "<table border=\"1\" class=\"dataframe\">\n",
       "  <thead>\n",
       "    <tr style=\"text-align: right;\">\n",
       "      <th></th>\n",
       "      <th>orig.ident</th>\n",
       "      <th>nCount_RNA</th>\n",
       "      <th>nFeature_RNA</th>\n",
       "      <th>nCount_HTO</th>\n",
       "      <th>nFeature_HTO</th>\n",
       "      <th>nCount_GDO</th>\n",
       "      <th>nFeature_GDO</th>\n",
       "      <th>nCount_ADT</th>\n",
       "      <th>nFeature_ADT</th>\n",
       "      <th>percent.mito</th>\n",
       "      <th>...</th>\n",
       "      <th>guide_ID</th>\n",
       "      <th>guide_ID.global</th>\n",
       "      <th>gene</th>\n",
       "      <th>con</th>\n",
       "      <th>NT</th>\n",
       "      <th>crispr</th>\n",
       "      <th>replicate</th>\n",
       "      <th>S.Score</th>\n",
       "      <th>G2M.Score</th>\n",
       "      <th>Phase</th>\n",
       "    </tr>\n",
       "    <tr>\n",
       "      <th>cell_ID</th>\n",
       "      <th></th>\n",
       "      <th></th>\n",
       "      <th></th>\n",
       "      <th></th>\n",
       "      <th></th>\n",
       "      <th></th>\n",
       "      <th></th>\n",
       "      <th></th>\n",
       "      <th></th>\n",
       "      <th></th>\n",
       "      <th></th>\n",
       "      <th></th>\n",
       "      <th></th>\n",
       "      <th></th>\n",
       "      <th></th>\n",
       "      <th></th>\n",
       "      <th></th>\n",
       "      <th></th>\n",
       "      <th></th>\n",
       "      <th></th>\n",
       "      <th></th>\n",
       "    </tr>\n",
       "  </thead>\n",
       "  <tbody>\n",
       "    <tr>\n",
       "      <th>l1_AAACCTGAGCCAGAAC</th>\n",
       "      <td>Lane1</td>\n",
       "      <td>17207</td>\n",
       "      <td>3942</td>\n",
       "      <td>99</td>\n",
       "      <td>4</td>\n",
       "      <td>576</td>\n",
       "      <td>111</td>\n",
       "      <td>801</td>\n",
       "      <td>4</td>\n",
       "      <td>2.295577</td>\n",
       "      <td>...</td>\n",
       "      <td>STAT2g2</td>\n",
       "      <td>Singlet</td>\n",
       "      <td>STAT2</td>\n",
       "      <td>tx</td>\n",
       "      <td>STAT2g2</td>\n",
       "      <td>Perturbed</td>\n",
       "      <td>rep1</td>\n",
       "      <td>-0.252716</td>\n",
       "      <td>-0.771844</td>\n",
       "      <td>G1</td>\n",
       "    </tr>\n",
       "    <tr>\n",
       "      <th>l1_AAACCTGAGTGGACGT</th>\n",
       "      <td>Lane1</td>\n",
       "      <td>9506</td>\n",
       "      <td>2948</td>\n",
       "      <td>35</td>\n",
       "      <td>5</td>\n",
       "      <td>190</td>\n",
       "      <td>111</td>\n",
       "      <td>545</td>\n",
       "      <td>4</td>\n",
       "      <td>4.512939</td>\n",
       "      <td>...</td>\n",
       "      <td>CAV1g4</td>\n",
       "      <td>Singlet</td>\n",
       "      <td>CAV1</td>\n",
       "      <td>tx</td>\n",
       "      <td>CAV1g4</td>\n",
       "      <td>Perturbed</td>\n",
       "      <td>rep1</td>\n",
       "      <td>-0.123802</td>\n",
       "      <td>-0.335672</td>\n",
       "      <td>G1</td>\n",
       "    </tr>\n",
       "    <tr>\n",
       "      <th>l1_AAACCTGCATGAGCGA</th>\n",
       "      <td>Lane1</td>\n",
       "      <td>15256</td>\n",
       "      <td>4258</td>\n",
       "      <td>66</td>\n",
       "      <td>4</td>\n",
       "      <td>212</td>\n",
       "      <td>111</td>\n",
       "      <td>344</td>\n",
       "      <td>4</td>\n",
       "      <td>4.116413</td>\n",
       "      <td>...</td>\n",
       "      <td>STAT1g2</td>\n",
       "      <td>Singlet</td>\n",
       "      <td>STAT1</td>\n",
       "      <td>tx</td>\n",
       "      <td>STAT1g2</td>\n",
       "      <td>Perturbed</td>\n",
       "      <td>rep1</td>\n",
       "      <td>-0.154633</td>\n",
       "      <td>-0.693982</td>\n",
       "      <td>G1</td>\n",
       "    </tr>\n",
       "    <tr>\n",
       "      <th>l1_AAACCTGTCTTGTCAT</th>\n",
       "      <td>Lane1</td>\n",
       "      <td>5135</td>\n",
       "      <td>1780</td>\n",
       "      <td>22</td>\n",
       "      <td>3</td>\n",
       "      <td>243</td>\n",
       "      <td>111</td>\n",
       "      <td>539</td>\n",
       "      <td>4</td>\n",
       "      <td>5.491723</td>\n",
       "      <td>...</td>\n",
       "      <td>CD86g1</td>\n",
       "      <td>Singlet</td>\n",
       "      <td>CD86</td>\n",
       "      <td>tx</td>\n",
       "      <td>CD86g1</td>\n",
       "      <td>Perturbed</td>\n",
       "      <td>rep1</td>\n",
       "      <td>-0.061262</td>\n",
       "      <td>-0.035986</td>\n",
       "      <td>G1</td>\n",
       "    </tr>\n",
       "    <tr>\n",
       "      <th>l1_AAACGGGAGAACAACT</th>\n",
       "      <td>Lane1</td>\n",
       "      <td>9673</td>\n",
       "      <td>2671</td>\n",
       "      <td>99</td>\n",
       "      <td>5</td>\n",
       "      <td>198</td>\n",
       "      <td>111</td>\n",
       "      <td>1053</td>\n",
       "      <td>4</td>\n",
       "      <td>3.359868</td>\n",
       "      <td>...</td>\n",
       "      <td>IRF7g2</td>\n",
       "      <td>Singlet</td>\n",
       "      <td>IRF7</td>\n",
       "      <td>tx</td>\n",
       "      <td>IRF7g2</td>\n",
       "      <td>Perturbed</td>\n",
       "      <td>rep1</td>\n",
       "      <td>-0.132188</td>\n",
       "      <td>-0.356173</td>\n",
       "      <td>G1</td>\n",
       "    </tr>\n",
       "    <tr>\n",
       "      <th>...</th>\n",
       "      <td>...</td>\n",
       "      <td>...</td>\n",
       "      <td>...</td>\n",
       "      <td>...</td>\n",
       "      <td>...</td>\n",
       "      <td>...</td>\n",
       "      <td>...</td>\n",
       "      <td>...</td>\n",
       "      <td>...</td>\n",
       "      <td>...</td>\n",
       "      <td>...</td>\n",
       "      <td>...</td>\n",
       "      <td>...</td>\n",
       "      <td>...</td>\n",
       "      <td>...</td>\n",
       "      <td>...</td>\n",
       "      <td>...</td>\n",
       "      <td>...</td>\n",
       "      <td>...</td>\n",
       "      <td>...</td>\n",
       "      <td>...</td>\n",
       "    </tr>\n",
       "    <tr>\n",
       "      <th>l8_TTTGTCAGTCACTTCC</th>\n",
       "      <td>Lane8</td>\n",
       "      <td>20863</td>\n",
       "      <td>4884</td>\n",
       "      <td>294</td>\n",
       "      <td>4</td>\n",
       "      <td>290</td>\n",
       "      <td>111</td>\n",
       "      <td>398</td>\n",
       "      <td>4</td>\n",
       "      <td>5.469012</td>\n",
       "      <td>...</td>\n",
       "      <td>CMTM6g1</td>\n",
       "      <td>Singlet</td>\n",
       "      <td>CMTM6</td>\n",
       "      <td>tx</td>\n",
       "      <td>CMTM6g1</td>\n",
       "      <td>Perturbed</td>\n",
       "      <td>rep3</td>\n",
       "      <td>-0.323562</td>\n",
       "      <td>-0.797846</td>\n",
       "      <td>G1</td>\n",
       "    </tr>\n",
       "    <tr>\n",
       "      <th>l8_TTTGTCAGTGACGGTA</th>\n",
       "      <td>Lane8</td>\n",
       "      <td>17553</td>\n",
       "      <td>3787</td>\n",
       "      <td>528</td>\n",
       "      <td>3</td>\n",
       "      <td>870</td>\n",
       "      <td>111</td>\n",
       "      <td>3042</td>\n",
       "      <td>4</td>\n",
       "      <td>2.159175</td>\n",
       "      <td>...</td>\n",
       "      <td>NTg4</td>\n",
       "      <td>Singlet</td>\n",
       "      <td>NT</td>\n",
       "      <td>tx</td>\n",
       "      <td>NT</td>\n",
       "      <td>NT</td>\n",
       "      <td>rep2</td>\n",
       "      <td>-0.153514</td>\n",
       "      <td>-0.633978</td>\n",
       "      <td>G1</td>\n",
       "    </tr>\n",
       "    <tr>\n",
       "      <th>l8_TTTGTCAGTTCCACAA</th>\n",
       "      <td>Lane8</td>\n",
       "      <td>15106</td>\n",
       "      <td>4185</td>\n",
       "      <td>154</td>\n",
       "      <td>6</td>\n",
       "      <td>267</td>\n",
       "      <td>111</td>\n",
       "      <td>212</td>\n",
       "      <td>4</td>\n",
       "      <td>2.661194</td>\n",
       "      <td>...</td>\n",
       "      <td>ATF2g1</td>\n",
       "      <td>Singlet</td>\n",
       "      <td>ATF2</td>\n",
       "      <td>tx</td>\n",
       "      <td>ATF2g1</td>\n",
       "      <td>Perturbed</td>\n",
       "      <td>rep3</td>\n",
       "      <td>-0.191933</td>\n",
       "      <td>-0.578331</td>\n",
       "      <td>G1</td>\n",
       "    </tr>\n",
       "    <tr>\n",
       "      <th>l8_TTTGTCATCACGCATA</th>\n",
       "      <td>Lane8</td>\n",
       "      <td>11209</td>\n",
       "      <td>3204</td>\n",
       "      <td>132</td>\n",
       "      <td>3</td>\n",
       "      <td>202</td>\n",
       "      <td>111</td>\n",
       "      <td>258</td>\n",
       "      <td>4</td>\n",
       "      <td>7.369078</td>\n",
       "      <td>...</td>\n",
       "      <td>CAV1g2</td>\n",
       "      <td>Singlet</td>\n",
       "      <td>CAV1</td>\n",
       "      <td>tx</td>\n",
       "      <td>CAV1g2</td>\n",
       "      <td>Perturbed</td>\n",
       "      <td>rep3</td>\n",
       "      <td>-0.134585</td>\n",
       "      <td>-0.503400</td>\n",
       "      <td>G1</td>\n",
       "    </tr>\n",
       "    <tr>\n",
       "      <th>l8_TTTGTCATCTGTACGA</th>\n",
       "      <td>Lane8</td>\n",
       "      <td>23088</td>\n",
       "      <td>5073</td>\n",
       "      <td>95</td>\n",
       "      <td>4</td>\n",
       "      <td>234</td>\n",
       "      <td>111</td>\n",
       "      <td>584</td>\n",
       "      <td>4</td>\n",
       "      <td>2.191615</td>\n",
       "      <td>...</td>\n",
       "      <td>STAT3g1</td>\n",
       "      <td>Singlet</td>\n",
       "      <td>STAT3</td>\n",
       "      <td>tx</td>\n",
       "      <td>STAT3g1</td>\n",
       "      <td>Perturbed</td>\n",
       "      <td>rep3</td>\n",
       "      <td>-0.461981</td>\n",
       "      <td>-1.077826</td>\n",
       "      <td>G1</td>\n",
       "    </tr>\n",
       "  </tbody>\n",
       "</table>\n",
       "<p>20729 rows × 24 columns</p>\n",
       "</div>"
      ],
      "text/plain": [
       "                    orig.ident  nCount_RNA  nFeature_RNA  nCount_HTO  \\\n",
       "cell_ID                                                                \n",
       "l1_AAACCTGAGCCAGAAC      Lane1       17207          3942          99   \n",
       "l1_AAACCTGAGTGGACGT      Lane1        9506          2948          35   \n",
       "l1_AAACCTGCATGAGCGA      Lane1       15256          4258          66   \n",
       "l1_AAACCTGTCTTGTCAT      Lane1        5135          1780          22   \n",
       "l1_AAACGGGAGAACAACT      Lane1        9673          2671          99   \n",
       "...                        ...         ...           ...         ...   \n",
       "l8_TTTGTCAGTCACTTCC      Lane8       20863          4884         294   \n",
       "l8_TTTGTCAGTGACGGTA      Lane8       17553          3787         528   \n",
       "l8_TTTGTCAGTTCCACAA      Lane8       15106          4185         154   \n",
       "l8_TTTGTCATCACGCATA      Lane8       11209          3204         132   \n",
       "l8_TTTGTCATCTGTACGA      Lane8       23088          5073          95   \n",
       "\n",
       "                     nFeature_HTO  nCount_GDO  nFeature_GDO  nCount_ADT  \\\n",
       "cell_ID                                                                   \n",
       "l1_AAACCTGAGCCAGAAC             4         576           111         801   \n",
       "l1_AAACCTGAGTGGACGT             5         190           111         545   \n",
       "l1_AAACCTGCATGAGCGA             4         212           111         344   \n",
       "l1_AAACCTGTCTTGTCAT             3         243           111         539   \n",
       "l1_AAACGGGAGAACAACT             5         198           111        1053   \n",
       "...                           ...         ...           ...         ...   \n",
       "l8_TTTGTCAGTCACTTCC             4         290           111         398   \n",
       "l8_TTTGTCAGTGACGGTA             3         870           111        3042   \n",
       "l8_TTTGTCAGTTCCACAA             6         267           111         212   \n",
       "l8_TTTGTCATCACGCATA             3         202           111         258   \n",
       "l8_TTTGTCATCTGTACGA             4         234           111         584   \n",
       "\n",
       "                     nFeature_ADT  percent.mito  ... guide_ID guide_ID.global  \\\n",
       "cell_ID                                          ...                            \n",
       "l1_AAACCTGAGCCAGAAC             4      2.295577  ...  STAT2g2         Singlet   \n",
       "l1_AAACCTGAGTGGACGT             4      4.512939  ...   CAV1g4         Singlet   \n",
       "l1_AAACCTGCATGAGCGA             4      4.116413  ...  STAT1g2         Singlet   \n",
       "l1_AAACCTGTCTTGTCAT             4      5.491723  ...   CD86g1         Singlet   \n",
       "l1_AAACGGGAGAACAACT             4      3.359868  ...   IRF7g2         Singlet   \n",
       "...                           ...           ...  ...      ...             ...   \n",
       "l8_TTTGTCAGTCACTTCC             4      5.469012  ...  CMTM6g1         Singlet   \n",
       "l8_TTTGTCAGTGACGGTA             4      2.159175  ...     NTg4         Singlet   \n",
       "l8_TTTGTCAGTTCCACAA             4      2.661194  ...   ATF2g1         Singlet   \n",
       "l8_TTTGTCATCACGCATA             4      7.369078  ...   CAV1g2         Singlet   \n",
       "l8_TTTGTCATCTGTACGA             4      2.191615  ...  STAT3g1         Singlet   \n",
       "\n",
       "                      gene con       NT     crispr replicate   S.Score  \\\n",
       "cell_ID                                                                  \n",
       "l1_AAACCTGAGCCAGAAC  STAT2  tx  STAT2g2  Perturbed      rep1 -0.252716   \n",
       "l1_AAACCTGAGTGGACGT   CAV1  tx   CAV1g4  Perturbed      rep1 -0.123802   \n",
       "l1_AAACCTGCATGAGCGA  STAT1  tx  STAT1g2  Perturbed      rep1 -0.154633   \n",
       "l1_AAACCTGTCTTGTCAT   CD86  tx   CD86g1  Perturbed      rep1 -0.061262   \n",
       "l1_AAACGGGAGAACAACT   IRF7  tx   IRF7g2  Perturbed      rep1 -0.132188   \n",
       "...                    ...  ..      ...        ...       ...       ...   \n",
       "l8_TTTGTCAGTCACTTCC  CMTM6  tx  CMTM6g1  Perturbed      rep3 -0.323562   \n",
       "l8_TTTGTCAGTGACGGTA     NT  tx       NT         NT      rep2 -0.153514   \n",
       "l8_TTTGTCAGTTCCACAA   ATF2  tx   ATF2g1  Perturbed      rep3 -0.191933   \n",
       "l8_TTTGTCATCACGCATA   CAV1  tx   CAV1g2  Perturbed      rep3 -0.134585   \n",
       "l8_TTTGTCATCTGTACGA  STAT3  tx  STAT3g1  Perturbed      rep3 -0.461981   \n",
       "\n",
       "                    G2M.Score Phase  \n",
       "cell_ID                              \n",
       "l1_AAACCTGAGCCAGAAC -0.771844    G1  \n",
       "l1_AAACCTGAGTGGACGT -0.335672    G1  \n",
       "l1_AAACCTGCATGAGCGA -0.693982    G1  \n",
       "l1_AAACCTGTCTTGTCAT -0.035986    G1  \n",
       "l1_AAACGGGAGAACAACT -0.356173    G1  \n",
       "...                       ...   ...  \n",
       "l8_TTTGTCAGTCACTTCC -0.797846    G1  \n",
       "l8_TTTGTCAGTGACGGTA -0.633978    G1  \n",
       "l8_TTTGTCAGTTCCACAA -0.578331    G1  \n",
       "l8_TTTGTCATCACGCATA -0.503400    G1  \n",
       "l8_TTTGTCATCTGTACGA -1.077826    G1  \n",
       "\n",
       "[20729 rows x 24 columns]"
      ]
     },
     "execution_count": 17,
     "metadata": {},
     "output_type": "execute_result"
    }
   ],
   "source": [
    "metadata = pd.read_csv(os.path.join(raw_data_dir, 'GSE153056_ECCITE_metadata.tsv'), sep='\\t')\n",
    "adata.obs = metadata.rename(columns={'Unnamed: 0': 'cell_ID'}).set_index('cell_ID')\n",
    "adata.obs"
   ]
  },
  {
   "cell_type": "code",
   "execution_count": 18,
   "id": "84f0aaf7-da47-483b-b6ca-75007199147d",
   "metadata": {
    "pycharm": {
     "name": "#%%\n"
    }
   },
   "outputs": [
    {
     "data": {
      "text/html": [
       "<div>\n",
       "<style scoped>\n",
       "    .dataframe tbody tr th:only-of-type {\n",
       "        vertical-align: middle;\n",
       "    }\n",
       "\n",
       "    .dataframe tbody tr th {\n",
       "        vertical-align: top;\n",
       "    }\n",
       "\n",
       "    .dataframe thead th {\n",
       "        text-align: right;\n",
       "    }\n",
       "</style>\n",
       "<table border=\"1\" class=\"dataframe\">\n",
       "  <thead>\n",
       "    <tr style=\"text-align: right;\">\n",
       "      <th>Unnamed: 0</th>\n",
       "      <th>CD86</th>\n",
       "      <th>PDL1</th>\n",
       "      <th>PDL2</th>\n",
       "      <th>CD366</th>\n",
       "    </tr>\n",
       "  </thead>\n",
       "  <tbody>\n",
       "    <tr>\n",
       "      <th>l1_AAACCTGAGCCAGAAC</th>\n",
       "      <td>118</td>\n",
       "      <td>522</td>\n",
       "      <td>94</td>\n",
       "      <td>67</td>\n",
       "    </tr>\n",
       "    <tr>\n",
       "      <th>l1_AAACCTGAGTGGACGT</th>\n",
       "      <td>243</td>\n",
       "      <td>139</td>\n",
       "      <td>104</td>\n",
       "      <td>59</td>\n",
       "    </tr>\n",
       "    <tr>\n",
       "      <th>l1_AAACCTGCATGAGCGA</th>\n",
       "      <td>99</td>\n",
       "      <td>109</td>\n",
       "      <td>56</td>\n",
       "      <td>80</td>\n",
       "    </tr>\n",
       "    <tr>\n",
       "      <th>l1_AAACCTGTCTTGTCAT</th>\n",
       "      <td>110</td>\n",
       "      <td>334</td>\n",
       "      <td>48</td>\n",
       "      <td>47</td>\n",
       "    </tr>\n",
       "    <tr>\n",
       "      <th>l1_AAACGGGAGAACAACT</th>\n",
       "      <td>303</td>\n",
       "      <td>593</td>\n",
       "      <td>77</td>\n",
       "      <td>80</td>\n",
       "    </tr>\n",
       "    <tr>\n",
       "      <th>...</th>\n",
       "      <td>...</td>\n",
       "      <td>...</td>\n",
       "      <td>...</td>\n",
       "      <td>...</td>\n",
       "    </tr>\n",
       "    <tr>\n",
       "      <th>l8_TTTGTCAGTCACTTCC</th>\n",
       "      <td>98</td>\n",
       "      <td>151</td>\n",
       "      <td>135</td>\n",
       "      <td>14</td>\n",
       "    </tr>\n",
       "    <tr>\n",
       "      <th>l8_TTTGTCAGTGACGGTA</th>\n",
       "      <td>1781</td>\n",
       "      <td>1117</td>\n",
       "      <td>89</td>\n",
       "      <td>55</td>\n",
       "    </tr>\n",
       "    <tr>\n",
       "      <th>l8_TTTGTCAGTTCCACAA</th>\n",
       "      <td>84</td>\n",
       "      <td>73</td>\n",
       "      <td>38</td>\n",
       "      <td>17</td>\n",
       "    </tr>\n",
       "    <tr>\n",
       "      <th>l8_TTTGTCATCACGCATA</th>\n",
       "      <td>18</td>\n",
       "      <td>135</td>\n",
       "      <td>37</td>\n",
       "      <td>68</td>\n",
       "    </tr>\n",
       "    <tr>\n",
       "      <th>l8_TTTGTCATCTGTACGA</th>\n",
       "      <td>35</td>\n",
       "      <td>451</td>\n",
       "      <td>74</td>\n",
       "      <td>24</td>\n",
       "    </tr>\n",
       "  </tbody>\n",
       "</table>\n",
       "<p>20729 rows × 4 columns</p>\n",
       "</div>"
      ],
      "text/plain": [
       "Unnamed: 0           CD86  PDL1 PDL2 CD366\n",
       "l1_AAACCTGAGCCAGAAC   118   522   94    67\n",
       "l1_AAACCTGAGTGGACGT   243   139  104    59\n",
       "l1_AAACCTGCATGAGCGA    99   109   56    80\n",
       "l1_AAACCTGTCTTGTCAT   110   334   48    47\n",
       "l1_AAACGGGAGAACAACT   303   593   77    80\n",
       "...                   ...   ...  ...   ...\n",
       "l8_TTTGTCAGTCACTTCC    98   151  135    14\n",
       "l8_TTTGTCAGTGACGGTA  1781  1117   89    55\n",
       "l8_TTTGTCAGTTCCACAA    84    73   38    17\n",
       "l8_TTTGTCATCACGCATA    18   135   37    68\n",
       "l8_TTTGTCATCTGTACGA    35   451   74    24\n",
       "\n",
       "[20729 rows x 4 columns]"
      ]
     },
     "execution_count": 18,
     "metadata": {},
     "output_type": "execute_result"
    }
   ],
   "source": [
    "fname = 'GSM4633615_ECCITE_ADT_counts'\n",
    "protein_data = pd.read_csv(os.path.join(raw_data_dir, f'{fname}.tsv'), sep='\\t')\n",
    "protein_data = protein_data.T\n",
    "protein_names = protein_data.iloc[0]\n",
    "protein_data = protein_data[1:]\n",
    "protein_data.columns = protein_names\n",
    "protein_data"
   ]
  },
  {
   "cell_type": "code",
   "execution_count": 19,
   "id": "ef4c979f-7063-4ec7-92ad-e858d0c14744",
   "metadata": {
    "pycharm": {
     "name": "#%%\n"
    }
   },
   "outputs": [],
   "source": [
    "protein_data = protein_data.to_numpy(dtype=float)\n",
    "protein_names = protein_names.to_numpy()\n",
    "adata.uns['protein_names'] = protein_names\n",
    "adata.obsm['protein_expression_raw'] = protein_data"
   ]
  },
  {
   "cell_type": "code",
   "execution_count": 20,
   "id": "687f463b-1bab-48b4-972e-c49322808ae4",
   "metadata": {
    "pycharm": {
     "name": "#%%\n"
    }
   },
   "outputs": [
    {
     "data": {
      "text/plain": [
       "AnnData object with n_obs × n_vars = 20729 × 18649\n",
       "    obs: 'orig.ident', 'nCount_RNA', 'nFeature_RNA', 'nCount_HTO', 'nFeature_HTO', 'nCount_GDO', 'nFeature_GDO', 'nCount_ADT', 'nFeature_ADT', 'percent.mito', 'MULTI_ID', 'MULTI_classification', 'MULTI_classification.global', 'HTO_classification', 'guide_ID', 'guide_ID.global', 'gene', 'con', 'NT', 'crispr', 'replicate', 'S.Score', 'G2M.Score', 'Phase'\n",
       "    uns: 'protein_names'\n",
       "    obsm: 'protein_expression_raw'\n",
       "    layers: 'counts'"
      ]
     },
     "execution_count": 20,
     "metadata": {},
     "output_type": "execute_result"
    }
   ],
   "source": [
    "adata"
   ]
  },
  {
   "cell_type": "markdown",
   "id": "2056a71a-cdc2-42e1-b320-62451778e81a",
   "metadata": {
    "pycharm": {
     "name": "#%% md\n"
    }
   },
   "source": [
    "## Preprocess data"
   ]
  },
  {
   "cell_type": "markdown",
   "id": "5a8453d4-56e9-4439-bccb-0742786adf4a",
   "metadata": {
    "pycharm": {
     "name": "#%% md\n"
    }
   },
   "source": [
    "remove cells with low number of genes detected and log-normalize as in the paper"
   ]
  },
  {
   "cell_type": "code",
   "execution_count": 21,
   "id": "395ecdc7-23f7-4225-b984-ecb8bebd2b66",
   "metadata": {
    "pycharm": {
     "name": "#%%\n"
    }
   },
   "outputs": [
    {
     "name": "stdout",
     "output_type": "stream",
     "text": [
      "normalizing counts per cell\n",
      "    finished (0:00:00)\n",
      "extracting highly variable genes\n",
      "    finished (0:00:01)\n",
      "--> added\n",
      "    'highly_variable', boolean vector (adata.var)\n",
      "    'means', float vector (adata.var)\n",
      "    'dispersions', float vector (adata.var)\n",
      "    'dispersions_norm', float vector (adata.var)\n"
     ]
    }
   ],
   "source": [
    "sc.pp.filter_cells(adata, min_genes=100)\n",
    "sc.pp.normalize_total(adata)\n",
    "sc.pp.log1p(adata)\n",
    "sc.pp.highly_variable_genes(adata)"
   ]
  },
  {
   "cell_type": "code",
   "execution_count": 22,
   "id": "7bcf15c4-9b65-4bfe-8102-f19b6b6cc51a",
   "metadata": {
    "pycharm": {
     "name": "#%%\n"
    }
   },
   "outputs": [
    {
     "data": {
      "text/plain": [
       "15883"
      ]
     },
     "execution_count": 22,
     "metadata": {},
     "output_type": "execute_result"
    }
   ],
   "source": [
    "a=adata.var.copy()\n",
    "a=a.sort_values(by=[\"dispersions_norm\"])\n",
    "\n",
    "for ind, i in enumerate(a['highly_variable']):\n",
    "    if i:\n",
    "        break\n",
    "ind"
   ]
  },
  {
   "cell_type": "code",
   "execution_count": 23,
   "id": "4133e8f0-e26c-4046-b70c-f596571f82bb",
   "metadata": {
    "pycharm": {
     "name": "#%%\n"
    }
   },
   "outputs": [
    {
     "data": {
      "text/plain": [
       "18649"
      ]
     },
     "execution_count": 23,
     "metadata": {},
     "output_type": "execute_result"
    }
   ],
   "source": [
    "len(a)"
   ]
  },
  {
   "cell_type": "code",
   "execution_count": 24,
   "id": "e7229127-98f2-4948-b266-a82a90166b0f",
   "metadata": {
    "pycharm": {
     "name": "#%%\n"
    }
   },
   "outputs": [
    {
     "name": "stdout",
     "output_type": "stream",
     "text": [
      "1917\n"
     ]
    }
   ],
   "source": [
    "print(sum(a[\"highly_variable\"]))"
   ]
  },
  {
   "cell_type": "code",
   "execution_count": 25,
   "id": "5229043a-0e0b-4b53-affb-b06e65821da7",
   "metadata": {
    "pycharm": {
     "name": "#%%\n"
    }
   },
   "outputs": [
    {
     "name": "stdout",
     "output_type": "stream",
     "text": [
      "If you pass `n_top_genes`, all cutoffs are ignored.\n",
      "extracting highly variable genes\n",
      "    finished (0:00:01)\n",
      "--> added\n",
      "    'highly_variable', boolean vector (adata.var)\n",
      "    'means', float vector (adata.var)\n",
      "    'dispersions', float vector (adata.var)\n",
      "    'dispersions_norm', float vector (adata.var)\n"
     ]
    }
   ],
   "source": [
    "sc.pp.highly_variable_genes(adata,n_top_genes=5000, subset=True)"
   ]
  },
  {
   "cell_type": "code",
   "execution_count": 26,
   "id": "fa75f049-92ba-4ccb-adbf-e59385f88c20",
   "metadata": {
    "pycharm": {
     "name": "#%%\n"
    }
   },
   "outputs": [
    {
     "data": {
      "text/plain": [
       "8.206335"
      ]
     },
     "execution_count": 26,
     "metadata": {},
     "output_type": "execute_result"
    }
   ],
   "source": [
    "adata.X.A.max()"
   ]
  },
  {
   "cell_type": "markdown",
   "id": "e27763d4-cfd7-48f5-a3da-89a614680a98",
   "metadata": {
    "pycharm": {
     "name": "#%% md\n"
    }
   },
   "source": [
    "for protein data use centered log-ratio (CLR) normalization, computed independently for each feature according to Seurat"
   ]
  },
  {
   "cell_type": "code",
   "execution_count": 27,
   "id": "ad04b044-b498-438f-a53e-4012d1b81980",
   "metadata": {
    "pycharm": {
     "name": "#%%\n"
    }
   },
   "outputs": [],
   "source": [
    "def clr(x):\n",
    "    return np.log(x) - np.log(gmean(x[x>0]))"
   ]
  },
  {
   "cell_type": "code",
   "execution_count": 28,
   "id": "228f368c-d08f-4590-9a3c-c017dcb11495",
   "metadata": {
    "pycharm": {
     "name": "#%%\n"
    }
   },
   "outputs": [
    {
     "name": "stderr",
     "output_type": "stream",
     "text": [
      "/tmp/ipykernel_262232/2739772620.py:2: RuntimeWarning: divide by zero encountered in log\n",
      "  return np.log(x) - np.log(gmean(x[x>0]))\n"
     ]
    }
   ],
   "source": [
    "adata.obsm['protein_expression'] = np.apply_along_axis(clr, 0, adata.obsm['protein_expression_raw'].astype(np.float32))"
   ]
  },
  {
   "cell_type": "code",
   "execution_count": 29,
   "id": "22b60962-4494-40df-902f-e04512c0caab",
   "metadata": {
    "pycharm": {
     "name": "#%%\n"
    }
   },
   "outputs": [
    {
     "data": {
      "text/plain": [
       "3.7426944"
      ]
     },
     "execution_count": 29,
     "metadata": {},
     "output_type": "execute_result"
    }
   ],
   "source": [
    "adata.obsm['protein_expression'].max()"
   ]
  },
  {
   "cell_type": "markdown",
   "id": "d79f1cfb-91c4-4d9b-912a-1836e82b907a",
   "metadata": {
    "pycharm": {
     "name": "#%% md\n"
    }
   },
   "source": [
    "filter cells with inf values"
   ]
  },
  {
   "cell_type": "code",
   "execution_count": 30,
   "id": "f81c1898-e265-4b51-a299-da895da58dff",
   "metadata": {
    "pycharm": {
     "name": "#%%\n"
    }
   },
   "outputs": [
    {
     "data": {
      "text/plain": [
       "View of AnnData object with n_obs × n_vars = 20722 × 5000\n",
       "    obs: 'orig.ident', 'nCount_RNA', 'nFeature_RNA', 'nCount_HTO', 'nFeature_HTO', 'nCount_GDO', 'nFeature_GDO', 'nCount_ADT', 'nFeature_ADT', 'percent.mito', 'MULTI_ID', 'MULTI_classification', 'MULTI_classification.global', 'HTO_classification', 'guide_ID', 'guide_ID.global', 'gene', 'con', 'NT', 'crispr', 'replicate', 'S.Score', 'G2M.Score', 'Phase', 'n_genes'\n",
       "    var: 'highly_variable', 'means', 'dispersions', 'dispersions_norm'\n",
       "    uns: 'protein_names', 'log1p', 'hvg'\n",
       "    obsm: 'protein_expression_raw', 'protein_expression'\n",
       "    layers: 'counts'"
      ]
     },
     "execution_count": 30,
     "metadata": {},
     "output_type": "execute_result"
    }
   ],
   "source": [
    "adata = adata[~np.isinf(adata.obsm['protein_expression']).any(axis=1)]\n",
    "adata"
   ]
  },
  {
   "cell_type": "code",
   "execution_count": 31,
   "id": "cd23910b-6e5a-4a1d-b074-d7ee1787493e",
   "metadata": {
    "pycharm": {
     "name": "#%%\n"
    }
   },
   "outputs": [
    {
     "name": "stderr",
     "output_type": "stream",
     "text": [
      "/home/icb/kemal.inecik/miniconda3/envs/mulpert/lib/python3.8/site-packages/anndata/_core/anndata.py:1235: ImplicitModificationWarning: Trying to modify attribute `.obs` of view, initializing view as actual.\n",
      "  df[key] = c\n",
      "/home/icb/kemal.inecik/miniconda3/envs/mulpert/lib/python3.8/site-packages/anndata/_core/anndata.py:1235: ImplicitModificationWarning: Trying to modify attribute `.obs` of view, initializing view as actual.\n",
      "  df[key] = c\n"
     ]
    }
   ],
   "source": [
    "adata.write(os.path.join(raw_data_dir, f'Papalexi21_prep.h5ad'))"
   ]
  },
  {
   "cell_type": "markdown",
   "id": "c66dba11-f687-4882-bae8-35e99866c24d",
   "metadata": {
    "pycharm": {
     "name": "#%% md\n"
    }
   },
   "source": [
    "### Remove Outlier Genes"
   ]
  },
  {
   "cell_type": "code",
   "execution_count": 32,
   "id": "ed1c9be8-5a62-4766-809b-8031ad179384",
   "metadata": {
    "pycharm": {
     "name": "#%%\n"
    }
   },
   "outputs": [
    {
     "data": {
      "text/plain": [
       "<AxesSubplot:ylabel='Count'>"
      ]
     },
     "execution_count": 32,
     "metadata": {},
     "output_type": "execute_result"
    },
    {
     "data": {
      "image/png": "[encoded data removed]",
      "text/plain": [
       "<Figure size 864x288 with 1 Axes>"
      ]
     },
     "metadata": {
      "image/png": {
       "height": 248,
       "width": 729
      },
      "needs_background": "light"
     },
     "output_type": "display_data"
    }
   ],
   "source": [
    "mean_genes = adata.layers['counts'].mean(0)\n",
    "mean_genes = np.array(mean_genes)[0]\n",
    "plt.figure(figsize=(12,4))\n",
    "sns.histplot(sorted(mean_genes), bins=20)"
   ]
  },
  {
   "cell_type": "code",
   "execution_count": 33,
   "id": "146b4d32-82ee-4606-b5e1-26fcd8767e90",
   "metadata": {
    "pycharm": {
     "name": "#%%\n"
    }
   },
   "outputs": [
    {
     "data": {
      "text/plain": [
       "View of AnnData object with n_obs × n_vars = 20722 × 4993\n",
       "    obs: 'orig.ident', 'nCount_RNA', 'nFeature_RNA', 'nCount_HTO', 'nFeature_HTO', 'nCount_GDO', 'nFeature_GDO', 'nCount_ADT', 'nFeature_ADT', 'percent.mito', 'MULTI_ID', 'MULTI_classification', 'MULTI_classification.global', 'HTO_classification', 'guide_ID', 'guide_ID.global', 'gene', 'con', 'NT', 'crispr', 'replicate', 'S.Score', 'G2M.Score', 'Phase', 'n_genes'\n",
       "    var: 'highly_variable', 'means', 'dispersions', 'dispersions_norm'\n",
       "    uns: 'protein_names', 'log1p', 'hvg'\n",
       "    obsm: 'protein_expression_raw', 'protein_expression'\n",
       "    layers: 'counts'"
      ]
     },
     "execution_count": 33,
     "metadata": {},
     "output_type": "execute_result"
    }
   ],
   "source": [
    "THR = 75 \n",
    "adata = adata[:, adata.var[mean_genes < THR].index]\n",
    "adata"
   ]
  },
  {
   "cell_type": "code",
   "execution_count": 34,
   "id": "1af4e0d0-e157-4b27-af7e-9b01c5f77a45",
   "metadata": {
    "pycharm": {
     "name": "#%%\n"
    }
   },
   "outputs": [],
   "source": [
    "adata.write(os.path.join(raw_data_dir, f'Papalexi21_prep.h5ad'))"
   ]
  },
  {
   "cell_type": "markdown",
   "id": "820429e5-4b48-4e0b-b30c-8c12a3e53edb",
   "metadata": {
    "pycharm": {
     "name": "#%% md\n"
    }
   },
   "source": [
    "# Visualization"
   ]
  },
  {
   "cell_type": "code",
   "execution_count": null,
   "id": "c285bc39-2ed2-4067-9f29-58211481cfd5",
   "metadata": {
    "pycharm": {
     "name": "#%%\n"
    }
   },
   "outputs": [],
   "source": [
    "# Calculate the visualizations\n",
    "sc.pp.pca(adata, n_comps=50, use_highly_variable=True, svd_solver='arpack')\n",
    "sc.pp.neighbors(adata)\n",
    "sc.tl.umap(adata)"
   ]
  },
  {
   "cell_type": "code",
   "execution_count": null,
   "id": "04fddf87-b75f-4dcc-ae81-3250a8c183d9",
   "metadata": {
    "pycharm": {
     "name": "#%%\n"
    }
   },
   "outputs": [],
   "source": [
    "sc.pl.pca_scatter(adata, color=['nCount_RNA', 'n_genes', 'percent.mito'])\n",
    "sc.pl.umap(adata, color=['nCount_RNA', 'n_genes', 'percent.mito'])"
   ]
  },
  {
   "cell_type": "code",
   "execution_count": null,
   "id": "139ef04f-d2f9-4fa6-94f4-fac9b0c18ff6",
   "metadata": {
    "pycharm": {
     "name": "#%%\n"
    }
   },
   "outputs": [],
   "source": [
    "plt.rcParams['figure.figsize'] = (10, 10)\n",
    "sc.pl.umap(adata, color=['gene', 'crispr', 'Phase'], size=20)"
   ]
  },
  {
   "cell_type": "code",
   "execution_count": null,
   "id": "d56a61d5-d4db-4f39-80fb-b2f68414b2f8",
   "metadata": {
    "pycharm": {
     "name": "#%%\n"
    }
   },
   "outputs": [],
   "source": [
    "sc.tl.louvain(adata)"
   ]
  },
  {
   "cell_type": "code",
   "execution_count": null,
   "id": "a6bc5d8e-8282-42a7-ae7f-200263b29751",
   "metadata": {
    "pycharm": {
     "name": "#%%\n"
    }
   },
   "outputs": [],
   "source": [
    "sc.pl.umap(adata, color='louvain')"
   ]
  },
  {
   "cell_type": "code",
   "execution_count": null,
   "id": "a24f9980-5456-4839-a274-f7821d21488d",
   "metadata": {
    "pycharm": {
     "name": "#%%\n"
    }
   },
   "outputs": [],
   "source": [
    "adata"
   ]
  },
  {
   "cell_type": "code",
   "execution_count": null,
   "id": "edb31753-97b9-4a86-a9c5-250809f1f1e9",
   "metadata": {
    "pycharm": {
     "name": "#%%\n"
    }
   },
   "outputs": [],
   "source": [
    "adata.write(os.path.join(raw_data_dir, f'Papalexi21_prep.h5ad'))"
   ]
  },
  {
   "cell_type": "markdown",
   "id": "17617513-9541-4adf-a19c-902d51472684",
   "metadata": {
    "pycharm": {
     "name": "#%% md\n"
    }
   },
   "source": [
    "# Prepare for the model"
   ]
  },
  {
   "cell_type": "code",
   "execution_count": 35,
   "id": "f27b5601-fc0d-427e-85df-f06c1352dc74",
   "metadata": {
    "pycharm": {
     "name": "#%%\n"
    }
   },
   "outputs": [
    {
     "data": {
      "text/plain": [
       "array(['ATF2', 'BRD4', 'CAV1', 'CD86', 'CMTM6', 'CUL3', 'ETV7', 'IFNGR1',\n",
       "       'IFNGR2', 'IRF1', 'IRF7', 'JAK2', 'MARCH8', 'MYC', 'NFKBIA', 'NT',\n",
       "       'PDCD1LG2', 'POU2F2', 'SMAD4', 'SPI1', 'STAT1', 'STAT2', 'STAT3',\n",
       "       'STAT5A', 'TNFRSF14', 'UBE2L6'], dtype=object)"
      ]
     },
     "execution_count": 35,
     "metadata": {},
     "output_type": "execute_result"
    }
   ],
   "source": [
    "np.unique(adata.obs[\"gene\"])"
   ]
  },
  {
   "cell_type": "code",
   "execution_count": 36,
   "id": "b449c433-5453-4df0-8943-77910471e15b",
   "metadata": {
    "pycharm": {
     "name": "#%%\n"
    }
   },
   "outputs": [
    {
     "name": "stderr",
     "output_type": "stream",
     "text": [
      "/tmp/ipykernel_262232/1025521670.py:1: ImplicitModificationWarning: Trying to modify attribute `.obs` of view, initializing view as actual.\n",
      "  adata.obs['dose_val'] = 1.0\n"
     ]
    }
   ],
   "source": [
    "adata.obs['dose_val'] = 1.0\n",
    "adata.obs['cell_type'] = 'THP-1'\n",
    "adata.obs['drug_dose_name'] = adata.obs.gene.astype(str) + '_' + adata.obs.dose_val.astype(str)\n",
    "adata.obs['cov_drug_dose_name'] = adata.obs.cell_type.astype(str) + '_' + adata.obs.drug_dose_name.astype(str)\n",
    "adata.obs['condition'] = adata.obs.gene.copy()\n",
    "adata.obs['control'] = [1 if x == 'NT_1.0' else 0 for x in adata.obs.drug_dose_name.values]"
   ]
  },
  {
   "cell_type": "code",
   "execution_count": 37,
   "id": "7d2c899a-3e78-49b5-9741-5fe15ea50da2",
   "metadata": {
    "pycharm": {
     "name": "#%%\n"
    }
   },
   "outputs": [],
   "source": [
    "from MultiCPA.helper import rank_genes_groups_by_cov"
   ]
  },
  {
   "cell_type": "code",
   "execution_count": 38,
   "id": "4e95cc30-14da-426f-98cc-63c504e85150",
   "metadata": {
    "pycharm": {
     "name": "#%%\n"
    }
   },
   "outputs": [
    {
     "name": "stdout",
     "output_type": "stream",
     "text": [
      "THP-1\n",
      "WARNING: Default of the method has been changed to 't-test' from 't-test_overestim_var'\n",
      "ranking genes\n"
     ]
    },
    {
     "name": "stderr",
     "output_type": "stream",
     "text": [
      "/home/icb/kemal.inecik/miniconda3/envs/mulpert/lib/python3.8/site-packages/anndata/_core/anndata.py:1235: ImplicitModificationWarning: Trying to modify attribute `.obs` of view, initializing view as actual.\n",
      "  df[key] = c\n"
     ]
    },
    {
     "name": "stdout",
     "output_type": "stream",
     "text": [
      "    finished: added to `.uns['rank_genes_groups']`\n",
      "    'names', sorted np.recarray to be indexed by group ids\n",
      "    'scores', sorted np.recarray to be indexed by group ids\n",
      "    'logfoldchanges', sorted np.recarray to be indexed by group ids\n",
      "    'pvals', sorted np.recarray to be indexed by group ids\n",
      "    'pvals_adj', sorted np.recarray to be indexed by group ids (0:00:01)\n"
     ]
    }
   ],
   "source": [
    "with warnings.catch_warnings():\n",
    "    warnings.simplefilter('ignore', pd.errors.PerformanceWarning)\n",
    "    rank_genes_groups_by_cov(adata, groupby='cov_drug_dose_name', covariate='cell_type', control_group='NT_1.0')"
   ]
  },
  {
   "cell_type": "code",
   "execution_count": 39,
   "id": "df1c854f-2cf5-422e-973e-ab9e54a23bd5",
   "metadata": {
    "pycharm": {
     "name": "#%%\n"
    }
   },
   "outputs": [
    {
     "data": {
      "text/plain": [
       "array(['THP-1_ATF2_1.0', 'THP-1_BRD4_1.0', 'THP-1_CAV1_1.0',\n",
       "       'THP-1_CD86_1.0', 'THP-1_CMTM6_1.0', 'THP-1_CUL3_1.0',\n",
       "       'THP-1_ETV7_1.0', 'THP-1_IFNGR1_1.0', 'THP-1_IFNGR2_1.0',\n",
       "       'THP-1_IRF1_1.0', 'THP-1_IRF7_1.0', 'THP-1_JAK2_1.0',\n",
       "       'THP-1_MARCH8_1.0', 'THP-1_MYC_1.0', 'THP-1_NFKBIA_1.0',\n",
       "       'THP-1_NT_1.0', 'THP-1_PDCD1LG2_1.0', 'THP-1_POU2F2_1.0',\n",
       "       'THP-1_SMAD4_1.0', 'THP-1_SPI1_1.0', 'THP-1_STAT1_1.0',\n",
       "       'THP-1_STAT2_1.0', 'THP-1_STAT3_1.0', 'THP-1_STAT5A_1.0',\n",
       "       'THP-1_TNFRSF14_1.0', 'THP-1_UBE2L6_1.0'], dtype=object)"
      ]
     },
     "execution_count": 39,
     "metadata": {},
     "output_type": "execute_result"
    }
   ],
   "source": [
    "np.unique(adata.obs[\"cov_drug_dose_name\"])"
   ]
  },
  {
   "cell_type": "code",
   "execution_count": 40,
   "id": "2b2c3d24-0446-444e-a9c9-4d39650f69a4",
   "metadata": {
    "pycharm": {
     "name": "#%%\n"
    }
   },
   "outputs": [
    {
     "data": {
      "text/plain": [
       "dict_keys(['THP-1_ATF2_1.0', 'THP-1_BRD4_1.0', 'THP-1_CAV1_1.0', 'THP-1_CD86_1.0', 'THP-1_CMTM6_1.0', 'THP-1_CUL3_1.0', 'THP-1_ETV7_1.0', 'THP-1_IFNGR1_1.0', 'THP-1_IFNGR2_1.0', 'THP-1_IRF1_1.0', 'THP-1_IRF7_1.0', 'THP-1_JAK2_1.0', 'THP-1_MARCH8_1.0', 'THP-1_MYC_1.0', 'THP-1_NFKBIA_1.0', 'THP-1_PDCD1LG2_1.0', 'THP-1_POU2F2_1.0', 'THP-1_SMAD4_1.0', 'THP-1_SPI1_1.0', 'THP-1_STAT1_1.0', 'THP-1_STAT2_1.0', 'THP-1_STAT3_1.0', 'THP-1_STAT5A_1.0', 'THP-1_TNFRSF14_1.0', 'THP-1_UBE2L6_1.0'])"
      ]
     },
     "execution_count": 40,
     "metadata": {},
     "output_type": "execute_result"
    }
   ],
   "source": [
    "adata.uns[\"rank_genes_groups_cov\"].keys()"
   ]
  },
  {
   "cell_type": "code",
   "execution_count": 41,
   "id": "6fa65127-95e4-4166-b2bf-caa81d16f5fb",
   "metadata": {
    "pycharm": {
     "name": "#%%\n"
    }
   },
   "outputs": [],
   "source": [
    "adata.write(os.path.join(raw_data_dir, f'Papalexi21_prep.h5ad'))"
   ]
  },
  {
   "cell_type": "code",
   "execution_count": 42,
   "id": "afe92a78-0fee-46d5-8037-d31db0cce2c7",
   "metadata": {
    "pycharm": {
     "name": "#%%\n"
    }
   },
   "outputs": [
    {
     "data": {
      "text/plain": [
       "AnnData object with n_obs × n_vars = 20722 × 4993\n",
       "    obs: 'orig.ident', 'nCount_RNA', 'nFeature_RNA', 'nCount_HTO', 'nFeature_HTO', 'nCount_GDO', 'nFeature_GDO', 'nCount_ADT', 'nFeature_ADT', 'percent.mito', 'MULTI_ID', 'MULTI_classification', 'MULTI_classification.global', 'HTO_classification', 'guide_ID', 'guide_ID.global', 'gene', 'con', 'NT', 'crispr', 'replicate', 'S.Score', 'G2M.Score', 'Phase', 'n_genes', 'dose_val', 'cell_type', 'drug_dose_name', 'cov_drug_dose_name', 'condition', 'control'\n",
       "    var: 'highly_variable', 'means', 'dispersions', 'dispersions_norm'\n",
       "    uns: 'protein_names', 'log1p', 'hvg', 'rank_genes_groups_cov'\n",
       "    obsm: 'protein_expression_raw', 'protein_expression'\n",
       "    layers: 'counts'"
      ]
     },
     "execution_count": 42,
     "metadata": {},
     "output_type": "execute_result"
    }
   ],
   "source": [
    "adata"
   ]
  },
  {
   "cell_type": "markdown",
   "id": "d5ea06dd-73b0-4e82-b1e5-6d1290030891",
   "metadata": {
    "pycharm": {
     "name": "#%% md\n"
    }
   },
   "source": [
    "# Splits"
   ]
  },
  {
   "cell_type": "code",
   "execution_count": 43,
   "id": "92f9c77b-6c02-4d8a-ba26-46713c54e64b",
   "metadata": {
    "pycharm": {
     "name": "#%%\n"
    }
   },
   "outputs": [
    {
     "data": {
      "text/plain": [
       "gene\n",
       "NT          2385\n",
       "IFNGR1      1341\n",
       "IFNGR2      1212\n",
       "CD86        1197\n",
       "ATF2        1102\n",
       "IRF1        1073\n",
       "JAK2        1024\n",
       "MARCH8      1003\n",
       "TNFRSF14     962\n",
       "CAV1         882\n",
       "ETV7         841\n",
       "CMTM6        817\n",
       "NFKBIA       787\n",
       "STAT2        661\n",
       "POU2F2       661\n",
       "STAT5A       659\n",
       "SMAD4        659\n",
       "PDCD1LG2     617\n",
       "IRF7         614\n",
       "UBE2L6       518\n",
       "STAT3        493\n",
       "STAT1        443\n",
       "BRD4         341\n",
       "CUL3         274\n",
       "MYC          109\n",
       "SPI1          47\n",
       "dtype: int64"
      ]
     },
     "execution_count": 43,
     "metadata": {},
     "output_type": "execute_result"
    }
   ],
   "source": [
    "adata.obs.groupby(['gene']).size().sort_values(ascending=False)"
   ]
  },
  {
   "cell_type": "code",
   "execution_count": 44,
   "id": "1d1bca24-ad27-4367-b3d0-504b2795d9b3",
   "metadata": {
    "pycharm": {
     "name": "#%%\n"
    }
   },
   "outputs": [
    {
     "data": {
      "text/plain": [
       "20722"
      ]
     },
     "execution_count": 44,
     "metadata": {},
     "output_type": "execute_result"
    }
   ],
   "source": [
    "sum(adata.obs.groupby(['gene']).size())"
   ]
  },
  {
   "cell_type": "code",
   "execution_count": 45,
   "id": "b6cb5cd9-1bf4-4d82-9230-c91a51143b31",
   "metadata": {
    "pycharm": {
     "name": "#%%\n"
    }
   },
   "outputs": [],
   "source": [
    "adata.obs['split'] = 'nan'\n",
    "for cov_drug_dose_name in np.unique(adata.obs[\"cov_drug_dose_name\"]):\n",
    "    adata_idx = adata.obs_names[adata.obs[\"cov_drug_dose_name\"] == cov_drug_dose_name]\n",
    "    # print(f\"{cov_drug_dose_name}\\t{len(adata_idx)}\")\n",
    "    adata_idx_train, adata_idx_test = train_test_split(adata_idx, test_size=0.15, random_state=42)\n",
    "    adata.obs.loc[adata_idx_train, 'split'] = 'train'\n",
    "    adata.obs.loc[adata_idx_test, 'split'] = 'test'\n",
    "adata_idx = adata.obs_names\n",
    "_, adata_idx_ood = train_test_split(adata_idx, test_size=0.0003, random_state=42)\n",
    "adata.obs.loc[adata_idx_ood, 'split'] = 'ood'\n"
   ]
  },
  {
   "cell_type": "code",
   "execution_count": 46,
   "id": "b758f69f-3a97-4abb-a360-94860dc13df3",
   "metadata": {
    "pycharm": {
     "name": "#%%\n"
    }
   },
   "outputs": [
    {
     "data": {
      "text/plain": [
       "split\n",
       "ood          7\n",
       "test      3122\n",
       "train    17593\n",
       "dtype: int64"
      ]
     },
     "execution_count": 46,
     "metadata": {},
     "output_type": "execute_result"
    }
   ],
   "source": [
    "adata.obs.groupby('split').size()"
   ]
  },
  {
   "cell_type": "markdown",
   "id": "b384c4e3-295b-483c-8acf-476669208a43",
   "metadata": {
    "pycharm": {
     "name": "#%% md\n"
    },
    "tags": []
   },
   "source": [
    "### ood selection - DEPRECATED"
   ]
  },
  {
   "cell_type": "markdown",
   "id": "47358711-c7ad-4e17-94f5-366226767208",
   "metadata": {
    "pycharm": {
     "name": "#%% md\n"
    }
   },
   "source": [
    "stat2 can be a nice ood considering we have stat1 and stat3 in the dataset."
   ]
  },
  {
   "cell_type": "markdown",
   "id": "68b839b6-d25a-43eb-80e1-afac6b5b9ad8",
   "metadata": {
    "pycharm": {
     "name": "#%% md\n"
    }
   },
   "source": [
    "IFNGR1 can be a nice ood considering we have IFNGR2 in the dataset. but stat2 is a part of the pathway anyway."
   ]
  },
  {
   "cell_type": "markdown",
   "id": "896b5d8f-2596-4726-89f2-27e452ae5cd2",
   "metadata": {
    "pycharm": {
     "name": "#%% md\n"
    }
   },
   "source": [
    "SPI1 and MYC as there are low number of them and downstream TFs of the others."
   ]
  },
  {
   "cell_type": "code",
   "execution_count": null,
   "id": "636f0485-ec0f-41d6-8f29-9e63e1e7fab0",
   "metadata": {
    "pycharm": {
     "name": "#%%\n"
    }
   },
   "outputs": [],
   "source": [
    "for cov_drug_dose_name in [\"THP-1_MYC_1.0\", \"THP-1_STAT2_1.0\", \"THP-1_SPI1_1.0\"]:\n",
    "    adata_idx = adata.obs_names[adata.obs[\"cov_drug_dose_name\"] == cov_drug_dose_name]\n",
    "    print(f\"{cov_drug_dose_name}\\t{len(adata_idx)}\")\n",
    "    adata.obs.loc[adata_idx, 'split'] = 'ood'"
   ]
  },
  {
   "cell_type": "code",
   "execution_count": null,
   "id": "37752530-9de1-42fe-b69b-bbeaf7569449",
   "metadata": {
    "pycharm": {
     "name": "#%%\n"
    }
   },
   "outputs": [],
   "source": [
    "# remove control cells from ood data\n",
    "adata_idx_ = adata[(adata.obs['gene'] == 'NT') & (adata.obs['split'] == 'ood')].obs_names\n",
    "adata.obs['split'].loc[adata_idx_] = 'test'"
   ]
  },
  {
   "cell_type": "code",
   "execution_count": null,
   "id": "51310dea-b5ad-4e3a-a3dd-7a45844dd842",
   "metadata": {
    "pycharm": {
     "name": "#%%\n"
    }
   },
   "outputs": [],
   "source": [
    "adata.obs.groupby(['split']).size()"
   ]
  },
  {
   "cell_type": "code",
   "execution_count": null,
   "id": "f452d383-f51b-4918-893b-ce0766296704",
   "metadata": {
    "pycharm": {
     "name": "#%%\n"
    }
   },
   "outputs": [],
   "source": [
    "pd.set_option('display.max_rows', 100)\n",
    "adata.obs.groupby(['split', 'gene']).size()"
   ]
  },
  {
   "cell_type": "markdown",
   "id": "a36b2f66-088b-4684-bb92-96dedd595a07",
   "metadata": {
    "pycharm": {
     "name": "#%% md\n"
    }
   },
   "source": [
    "# Cleanup"
   ]
  },
  {
   "cell_type": "code",
   "execution_count": 47,
   "id": "9a6bd2d2-6299-44af-9f46-a07416f63d3a",
   "metadata": {
    "pycharm": {
     "name": "#%%\n"
    }
   },
   "outputs": [
    {
     "data": {
      "text/plain": [
       "AnnData object with n_obs × n_vars = 20722 × 4993\n",
       "    obs: 'orig.ident', 'nCount_RNA', 'nFeature_RNA', 'nCount_HTO', 'nFeature_HTO', 'nCount_GDO', 'nFeature_GDO', 'nCount_ADT', 'nFeature_ADT', 'percent.mito', 'MULTI_ID', 'MULTI_classification', 'MULTI_classification.global', 'HTO_classification', 'guide_ID', 'guide_ID.global', 'gene', 'con', 'NT', 'crispr', 'replicate', 'S.Score', 'G2M.Score', 'Phase', 'n_genes', 'dose_val', 'cell_type', 'drug_dose_name', 'cov_drug_dose_name', 'condition', 'control', 'split'\n",
       "    var: 'highly_variable', 'means', 'dispersions', 'dispersions_norm'\n",
       "    uns: 'protein_names', 'log1p', 'hvg', 'rank_genes_groups_cov'\n",
       "    obsm: 'protein_expression_raw', 'protein_expression'\n",
       "    layers: 'counts'"
      ]
     },
     "execution_count": 47,
     "metadata": {},
     "output_type": "execute_result"
    }
   ],
   "source": [
    "adata"
   ]
  },
  {
   "cell_type": "code",
   "execution_count": 48,
   "id": "76788412-496a-409b-8026-50a476030120",
   "metadata": {
    "pycharm": {
     "name": "#%%\n"
    }
   },
   "outputs": [],
   "source": [
    "adata.write(os.path.join(raw_data_dir, f'Papalexi21_prep.h5ad'))"
   ]
  },
  {
   "cell_type": "code",
   "execution_count": 49,
   "id": "f9a2a824-4a5a-43eb-84f6-3065e8915ac5",
   "metadata": {
    "pycharm": {
     "name": "#%%\n"
    }
   },
   "outputs": [
    {
     "data": {
      "text/plain": [
       "1650981275.1730063"
      ]
     },
     "execution_count": 49,
     "metadata": {},
     "output_type": "execute_result"
    }
   ],
   "source": [
    "import time\n",
    "time.time()"
   ]
  },
  {
   "cell_type": "code",
   "execution_count": null,
   "id": "04249aed-feeb-45f0-9501-00b212280b0d",
   "metadata": {
    "pycharm": {
     "name": "#%%\n"
    }
   },
   "outputs": [],
   "source": []
  }
 ],
 "metadata": {
  "kernelspec": {
   "display_name": "Python 3 (ipykernel)",
   "language": "python",
   "name": "python3"
  },
  "language_info": {
   "codemirror_mode": {
    "name": "ipython",
    "version": 3
   },
   "file_extension": ".py",
   "mimetype": "text/x-python",
   "name": "python",
   "nbconvert_exporter": "python",
   "pygments_lexer": "ipython3",
   "version": "3.8.13"
  }
 },
 "nbformat": 4,
 "nbformat_minor": 5
}

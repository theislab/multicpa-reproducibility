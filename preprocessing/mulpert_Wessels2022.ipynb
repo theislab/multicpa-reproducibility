{
 "cells": [
  {
   "cell_type": "markdown",
   "id": "1e561152-9159-4f70-b152-a6c3d4472174",
   "metadata": {},
   "source": [
    "# Wessels2022 Preprocessing"
   ]
  },
  {
   "cell_type": "code",
   "execution_count": 1,
   "id": "580fcf61-0620-416a-a417-771c2778c8db",
   "metadata": {
    "pycharm": {
     "name": "#%%\n"
    }
   },
   "outputs": [],
   "source": [
    "import os\n",
    "import numpy as np\n",
    "import scanpy as sc\n",
    "import pandas as pd\n",
    "import seaborn as sns\n",
    "import matplotlib.pyplot as plt\n",
    "from sklearn.model_selection import train_test_split"
   ]
  },
  {
   "cell_type": "code",
   "execution_count": 2,
   "id": "7d23e8b2-0af6-472c-b166-37f91ba5d229",
   "metadata": {
    "pycharm": {
     "name": "#%%\n"
    }
   },
   "outputs": [],
   "source": [
    "%matplotlib inline\n",
    "%config InlineBackend.figure_format='retina'"
   ]
  },
  {
   "cell_type": "code",
   "execution_count": 3,
   "id": "89b46b86-05cb-4403-90df-e818ea6a28a6",
   "metadata": {
    "pycharm": {
     "name": "#%%\n"
    }
   },
   "outputs": [],
   "source": [
    "sc.settings.verbosity = 3\n",
    "#sc.logging.print_header()"
   ]
  },
  {
   "cell_type": "code",
   "execution_count": 4,
   "id": "8083efbd-c77e-42cc-90c7-0b0c367fef64",
   "metadata": {
    "pycharm": {
     "name": "#%%\n"
    }
   },
   "outputs": [
    {
     "data": {
      "text/plain": [
       "'/mnt/home/icb/kemal.inecik/work/codes/multicpa-reproducibility'"
      ]
     },
     "execution_count": 4,
     "metadata": {},
     "output_type": "execute_result"
    }
   ],
   "source": [
    "os.chdir('./../')\n",
    "os.getcwd()"
   ]
  },
  {
   "cell_type": "code",
   "execution_count": 5,
   "id": "9c289d5f-1a6d-4987-af0d-68f1127721ab",
   "metadata": {
    "pycharm": {
     "name": "#%%\n"
    }
   },
   "outputs": [],
   "source": [
    "%load_ext autoreload\n",
    "%autoreload 2 "
   ]
  },
  {
   "cell_type": "markdown",
   "id": "f306dfca-01db-4140-a2fa-a322522c08a1",
   "metadata": {
    "jp-MarkdownHeadingCollapsed": true,
    "pycharm": {
     "name": "#%% md\n"
    },
    "tags": []
   },
   "source": [
    "## Download"
   ]
  },
  {
   "cell_type": "markdown",
   "id": "de996aa9-48ad-41a1-b39d-4906edc2130d",
   "metadata": {
    "pycharm": {
     "name": "#%% md\n"
    }
   },
   "source": [
    "Find the Seurat object for our combinatorial single cell screen behind this link: 'Link is removed. Please contact to the authors of the original paper.'"
   ]
  },
  {
   "cell_type": "markdown",
   "id": "34c06556-344a-401e-ba20-4b9002a3b2dc",
   "metadata": {
    "jp-MarkdownHeadingCollapsed": true,
    "pycharm": {
     "name": "#%% md\n"
    },
    "tags": []
   },
   "source": [
    "## Get data from RDS"
   ]
  },
  {
   "cell_type": "markdown",
   "id": "8a65b98c-7b0d-4335-8af2-5d6143863602",
   "metadata": {
    "pycharm": {
     "name": "#%% md\n"
    }
   },
   "source": [
    "convert tsv files for rna and adt counts to anndata h5ad"
   ]
  },
  {
   "cell_type": "code",
   "execution_count": 6,
   "id": "db8e04ff-6633-41b2-be88-9681572c96ff",
   "metadata": {
    "pycharm": {
     "name": "#%%\n"
    }
   },
   "outputs": [],
   "source": [
    "import anndata2ri"
   ]
  },
  {
   "cell_type": "code",
   "execution_count": 7,
   "id": "7d977dbc-6528-42ca-b6c7-f3d4dece1cce",
   "metadata": {
    "pycharm": {
     "name": "#%%\n"
    }
   },
   "outputs": [],
   "source": [
    "seurat_path = \"/storage/groups/ml01/workspace/kemal.inecik/Wessel2022/THP1.CaRPoolSeq.RDS\"\n",
    "base_path = \"/storage/groups/ml01/workspace/kemal.inecik/Wessel2022\"\n",
    "fname=\"onlyRNA\""
   ]
  },
  {
   "cell_type": "code",
   "execution_count": 8,
   "id": "b70045ae-b76f-45aa-a18c-ae170ee0cb6d",
   "metadata": {
    "pycharm": {
     "name": "#%%\n"
    }
   },
   "outputs": [],
   "source": [
    "anndata2ri.activate()\n",
    "%load_ext rpy2.ipython"
   ]
  },
  {
   "cell_type": "code",
   "execution_count": 9,
   "id": "67beb648-fb67-4968-8134-452ca1567719",
   "metadata": {
    "pycharm": {
     "name": "#%%\n"
    }
   },
   "outputs": [
    {
     "name": "stdout",
     "output_type": "stream",
     "text": [
      "An object of class Seurat \n",
      "17328 features across 30707 samples within 3 assays \n",
      "Active assay: RNA (16920 features, 2000 variable features)\n",
      " 2 other assays present: GUIDE, ADT\n",
      " 2 dimensional reductions calculated: pca, umap\n"
     ]
    }
   ],
   "source": [
    "%%R -i seurat_path\n",
    "suppressPackageStartupMessages(library(SingleCellExperiment))\n",
    "suppressPackageStartupMessages(library(Seurat))\n",
    "allen <- readRDS(file = seurat_path)\n",
    "allen"
   ]
  },
  {
   "cell_type": "code",
   "execution_count": 10,
   "id": "b180ea8e-b5d9-4080-a8d3-c69765b8c7e5",
   "metadata": {
    "pycharm": {
     "name": "#%%\n"
    }
   },
   "outputs": [],
   "source": [
    "%%R -o adata\n",
    "adata <- as.SingleCellExperiment(allen, assay = c(\"RNA\", \"GUIDE\"))"
   ]
  },
  {
   "cell_type": "code",
   "execution_count": 11,
   "id": "222a5d8d-b9d3-4e10-aead-a47fff049df0",
   "metadata": {
    "pycharm": {
     "name": "#%%\n"
    }
   },
   "outputs": [
    {
     "data": {
      "text/plain": [
       "AnnData object with n_obs × n_vars = 30707 × 16920\n",
       "    obs: 'nCount_RNA', 'nFeature_RNA', 'percent.mt', 'S.Score', 'G2M.Score', 'Phase', 'PhaseWeissman', 'nCount_HTO', 'HTO', 'nCount_ADT', 'TenX.Lane', 'Guides', 'nCount_GUIDE', 'CRISPR.Array', 'GenePair', 'Guide.Class', 'UMI.g1', 'UMI.g2', 'ID.g1', 'ID.g2', 'fraction.g1.over.all', 'fraction.g1.over.g2', 'g1.by.g2', 'ident'\n",
       "    obsm: 'X_pca', 'X_umap'\n",
       "    layers: 'logcounts'"
      ]
     },
     "execution_count": 11,
     "metadata": {},
     "output_type": "execute_result"
    }
   ],
   "source": [
    "adata"
   ]
  },
  {
   "cell_type": "code",
   "execution_count": 12,
   "id": "28fad677-9b23-45dd-9871-7d28b2917323",
   "metadata": {
    "pycharm": {
     "name": "#%%\n"
    }
   },
   "outputs": [
    {
     "name": "stdout",
     "output_type": "stream",
     "text": [
      "[1] \"RNA\"   \"GUIDE\" \"ADT\"   \"pca\"   \"umap\" \n"
     ]
    }
   ],
   "source": [
    "%%R\n",
    "DefaultAssay(object = allen) = \"ADT\"\n",
    "names(allen)"
   ]
  },
  {
   "cell_type": "code",
   "execution_count": 13,
   "id": "37f82ec6-1e4d-4bb0-b066-a776596aa309",
   "metadata": {
    "pycharm": {
     "name": "#%%\n"
    }
   },
   "outputs": [
    {
     "name": "stdout",
     "output_type": "stream",
     "text": [
      "CD127-GTGTGTTGTCCTATG CD135-CAGTAGATGGAGCAT  CD29-GTATTCCCTCAGTCA \n",
      "              \"CD127\"               \"CD135\"                \"CD29\" \n"
     ]
    }
   ],
   "source": [
    "%%R\n",
    "head(rownames(allen),3)"
   ]
  },
  {
   "cell_type": "code",
   "execution_count": 14,
   "id": "5c163d41-3d16-42c7-9cff-c29c8bce5eff",
   "metadata": {
    "pycharm": {
     "name": "#%%\n"
    }
   },
   "outputs": [
    {
     "name": "stdout",
     "output_type": "stream",
     "text": [
      " [1] \"CD127-GTGTGTTGTCCTATG\"       \"CD135-CAGTAGATGGAGCAT\"      \n",
      " [3] \"CD29-GTATTCCCTCAGTCA\"        \"CD45RA-TCAATCCTTCCGCTT\"     \n",
      " [5] \"CD46-ACAGTACGACCTTCT\"        \"CD52-CTTTGTACGAGCAAA\"       \n",
      " [7] \"CD55-GCTCATTACCCATTA\"        \"CD56-TCCTTTCCTGATAGG\"       \n",
      " [9] \"CD59-AATTAGCCGTCGAGA\"        \"CD63-GAGATGTCTGCAACT\"       \n",
      "[11] \"CD71-CCGTGTTCCTCATTA\"        \"CD9-GAGTCACCAATCTGC\"        \n",
      "[13] \"CD11a-TATATCCTTGTGAGC\"       \"CD11b-GACAAGTGATCTGCA\"      \n",
      "[15] \"CD11c-TACGCCTATAACTTG\"       \"CD123-CTTCACTCTGTCAGG\"      \n",
      "[17] \"CD16-AAGTTCACTCTTTGC\"        \"CD183-GCGATGGTAGATTAT\"      \n",
      "[19] \"CD185-AATTCAACCGTCGCC\"       \"CD1C-GAGCTACTTCACTCG\"       \n",
      "[21] \"CD33-TAACTCAGGGCCTAT\"        \"HLA-DR-AATAGCGAGCAAGTA\"     \n",
      "[23] \"IgM-TAGCGAGCCCGTATA\"         \"CD14-custom-CACATTGCGTTAGAA\"\n"
     ]
    }
   ],
   "source": [
    "%%R\n",
    "names(rownames(allen))"
   ]
  },
  {
   "cell_type": "code",
   "execution_count": 15,
   "id": "7d630206-c558-4be4-b5db-5e99b530df47",
   "metadata": {
    "pycharm": {
     "name": "#%%\n"
    }
   },
   "outputs": [],
   "source": [
    "%%R -o adt_counts\n",
    "adt_counts <- GetAssayData(object = allen, slot = \"counts\")"
   ]
  },
  {
   "cell_type": "code",
   "execution_count": 16,
   "id": "9d986073-354b-45f5-a5cd-4a25d252def2",
   "metadata": {
    "pycharm": {
     "name": "#%%\n"
    }
   },
   "outputs": [
    {
     "name": "stdout",
     "output_type": "stream",
     "text": [
      "(30707, 24)\n"
     ]
    },
    {
     "data": {
      "text/plain": [
       "array([[ 40.,  21.,  14., ..., 818., 116.,  38.],\n",
       "       [ 35.,   6.,  19., ..., 264., 104.,   9.],\n",
       "       [ 38.,  13.,  23., ..., 834., 125.,  29.],\n",
       "       ...,\n",
       "       [  4.,   5.,   2., ..., 295.,  48.,  15.],\n",
       "       [ 11.,   3.,   4., ..., 292.,  35.,   9.],\n",
       "       [ 12.,   2.,   2., ..., 141.,  30.,   8.]])"
      ]
     },
     "execution_count": 16,
     "metadata": {},
     "output_type": "execute_result"
    }
   ],
   "source": [
    "adt_counts = adt_counts.T\n",
    "print(adt_counts.shape)\n",
    "adt_counts.A"
   ]
  },
  {
   "cell_type": "code",
   "execution_count": 17,
   "id": "2ffdb769-6033-418f-9f2c-750e84a627c2",
   "metadata": {
    "pycharm": {
     "name": "#%%\n"
    }
   },
   "outputs": [],
   "source": [
    "%%R -o adt_names\n",
    "adt_names = as.character(rownames(allen))"
   ]
  },
  {
   "cell_type": "code",
   "execution_count": 18,
   "id": "ba804238-125b-48d1-9aa1-fbc31a082190",
   "metadata": {
    "pycharm": {
     "name": "#%%\n"
    }
   },
   "outputs": [
    {
     "data": {
      "text/plain": [
       "array(['CD127', 'CD135', 'CD29', 'CD45RA', 'CD46', 'CD52', 'CD55', 'CD56',\n",
       "       'CD59', 'CD63', 'CD71', 'CD9', 'CD11a', 'CD11b', 'CD11c', 'CD123',\n",
       "       'CD16', 'CD183', 'CD185', 'CD1C', 'CD33', 'HLADR', 'IgM',\n",
       "       'CD14custom'], dtype='<U10')"
      ]
     },
     "execution_count": 18,
     "metadata": {},
     "output_type": "execute_result"
    }
   ],
   "source": [
    "adt_names = np.array(adt_names)\n",
    "adt_names"
   ]
  },
  {
   "cell_type": "code",
   "execution_count": 19,
   "id": "873402b0-aadf-46bd-b61e-15a26110feed",
   "metadata": {
    "pycharm": {
     "name": "#%%\n"
    }
   },
   "outputs": [],
   "source": [
    "%%R -o adt_data\n",
    "adt_data <- GetAssayData(object = allen, slot = \"data\")"
   ]
  },
  {
   "cell_type": "code",
   "execution_count": 20,
   "id": "f35e79b7-a32f-42d9-80cf-fed21dcc832d",
   "metadata": {
    "pycharm": {
     "name": "#%%\n"
    }
   },
   "outputs": [
    {
     "name": "stdout",
     "output_type": "stream",
     "text": [
      "(30707, 24)\n"
     ]
    },
    {
     "data": {
      "text/plain": [
       "array([[3.43089553, 2.81539439, 2.43943037, ..., 6.41761925, 4.47417829,\n",
       "        3.38130384],\n",
       "       [3.97025828, 2.29394589, 3.37511359, ..., 5.97435685, 5.04670353,\n",
       "        2.66521021],\n",
       "       [3.42650442, 2.41449287, 2.94538685, ..., 6.48364085, 4.59435199,\n",
       "        3.16624988],\n",
       "       ...,\n",
       "       [2.21012798, 2.41109001, 1.62105844, ..., 6.39629634, 4.5890672 ,\n",
       "        3.44802727],\n",
       "       [3.28312564, 2.07917909, 2.33510399, ..., 6.52521878, 4.41452013,\n",
       "        3.09075613],\n",
       "       [3.90682675, 2.21085096, 2.21085096, ..., 6.35211553, 4.81098162,\n",
       "        3.51136355]])"
      ]
     },
     "execution_count": 20,
     "metadata": {},
     "output_type": "execute_result"
    }
   ],
   "source": [
    "adt_data = adt_data.T\n",
    "print(adt_data.shape)\n",
    "adt_data.A"
   ]
  },
  {
   "cell_type": "code",
   "execution_count": 21,
   "id": "a1bb0bd5-6b56-4c40-81a0-1fcfb905cdb3",
   "metadata": {
    "pycharm": {
     "name": "#%%\n"
    }
   },
   "outputs": [],
   "source": [
    "adata.obs[\"nFeature_RNA\"] = adata.obs[\"nFeature_RNA\"].astype(int)\n",
    "adata.obs[\"nCount_RNA\"] = adata.obs[\"nCount_RNA\"].astype(int)"
   ]
  },
  {
   "cell_type": "code",
   "execution_count": 22,
   "id": "1237c425-e5dd-43b8-bb79-74a9521e6fe8",
   "metadata": {
    "pycharm": {
     "name": "#%%\n"
    }
   },
   "outputs": [
    {
     "data": {
      "text/plain": [
       "AnnData object with n_obs × n_vars = 30707 × 16920\n",
       "    obs: 'nCount_RNA', 'nFeature_RNA', 'percent.mt', 'S.Score', 'G2M.Score', 'Phase', 'PhaseWeissman', 'nCount_HTO', 'HTO', 'nCount_ADT', 'TenX.Lane', 'Guides', 'nCount_GUIDE', 'CRISPR.Array', 'GenePair', 'Guide.Class', 'UMI.g1', 'UMI.g2', 'ID.g1', 'ID.g2', 'fraction.g1.over.all', 'fraction.g1.over.g2', 'g1.by.g2', 'ident'\n",
       "    obsm: 'X_pca', 'X_umap'\n",
       "    layers: 'logcounts'"
      ]
     },
     "execution_count": 22,
     "metadata": {},
     "output_type": "execute_result"
    }
   ],
   "source": [
    "adata"
   ]
  },
  {
   "cell_type": "markdown",
   "id": "c6c68ec3-1b2e-475c-8bdf-c9a8832c6366",
   "metadata": {
    "pycharm": {
     "name": "#%% md\n"
    },
    "tags": []
   },
   "source": [
    "### Merge h5ad files"
   ]
  },
  {
   "cell_type": "code",
   "execution_count": 23,
   "id": "78be119b-def2-4b0c-bb5a-033779ea1910",
   "metadata": {
    "pycharm": {
     "name": "#%%\n"
    }
   },
   "outputs": [],
   "source": [
    "adata.obs.index.name = \"cell_ID\"\n",
    "adata.layers[\"counts\"] = adata.X.copy()\n",
    "adata.X = adata.layers[\"logcounts\"].copy()\n",
    "del adata.layers[\"logcounts\"]"
   ]
  },
  {
   "cell_type": "code",
   "execution_count": 24,
   "id": "e3dccf8e-4ff5-438a-a78a-6b36b6875dc8",
   "metadata": {
    "pycharm": {
     "name": "#%%\n"
    }
   },
   "outputs": [],
   "source": [
    "protein_data = np.array(adt_counts.A).astype(dtype=float)\n",
    "protein_names = np.array(adt_names)\n",
    "adata.uns['protein_names'] = protein_names\n",
    "adata.obsm['protein_expression_raw'] = protein_data\n",
    "protein_data = np.array(adt_data.A).astype(dtype=float)\n",
    "adata.obsm['protein_expression'] = protein_data"
   ]
  },
  {
   "cell_type": "code",
   "execution_count": 28,
   "id": "2f05635e-ef23-4fb9-99d8-bb051dd8fee5",
   "metadata": {
    "pycharm": {
     "name": "#%%\n"
    }
   },
   "outputs": [],
   "source": [
    "adata.var.index.name = \"index\""
   ]
  },
  {
   "cell_type": "code",
   "execution_count": 26,
   "id": "8c138b83-1335-47a8-8054-817c7ee047c0",
   "metadata": {
    "pycharm": {
     "name": "#%%\n"
    }
   },
   "outputs": [
    {
     "name": "stderr",
     "output_type": "stream",
     "text": [
      "... storing 'Phase' as categorical\n",
      "... storing 'PhaseWeissman' as categorical\n",
      "... storing 'HTO' as categorical\n",
      "... storing 'TenX.Lane' as categorical\n",
      "... storing 'Guides' as categorical\n",
      "... storing 'CRISPR.Array' as categorical\n",
      "... storing 'GenePair' as categorical\n",
      "... storing 'Guide.Class' as categorical\n",
      "... storing 'ID.g1' as categorical\n",
      "... storing 'ID.g2' as categorical\n"
     ]
    }
   ],
   "source": [
    "adata.write(os.path.join(base_path, f'THP1.CaRPoolSeq_RNA_ADT.h5ad'))"
   ]
  },
  {
   "cell_type": "code",
   "execution_count": 27,
   "id": "14cae10f-daca-4ea3-9303-ef968c87191f",
   "metadata": {
    "pycharm": {
     "name": "#%%\n"
    }
   },
   "outputs": [
    {
     "data": {
      "text/plain": [
       "AnnData object with n_obs × n_vars = 30707 × 16920\n",
       "    obs: 'nCount_RNA', 'nFeature_RNA', 'percent.mt', 'S.Score', 'G2M.Score', 'Phase', 'PhaseWeissman', 'nCount_HTO', 'HTO', 'nCount_ADT', 'TenX.Lane', 'Guides', 'nCount_GUIDE', 'CRISPR.Array', 'GenePair', 'Guide.Class', 'UMI.g1', 'UMI.g2', 'ID.g1', 'ID.g2', 'fraction.g1.over.all', 'fraction.g1.over.g2', 'g1.by.g2', 'ident'\n",
       "    uns: 'protein_names'\n",
       "    obsm: 'X_pca', 'X_umap', 'protein_expression_raw', 'protein_expression'\n",
       "    layers: 'counts'"
      ]
     },
     "execution_count": 27,
     "metadata": {},
     "output_type": "execute_result"
    }
   ],
   "source": [
    "adata"
   ]
  },
  {
   "cell_type": "markdown",
   "id": "f9a0b09e-365b-45a6-9ef8-c9cb1e0363b8",
   "metadata": {
    "pycharm": {
     "name": "#%% md\n"
    },
    "tags": []
   },
   "source": [
    "# Check perturbations"
   ]
  },
  {
   "cell_type": "code",
   "execution_count": 6,
   "id": "4108d51e-8a77-40db-aae1-ccc6922ea61b",
   "metadata": {
    "pycharm": {
     "name": "#%%\n"
    }
   },
   "outputs": [],
   "source": [
    "base_path = \"/storage/groups/ml01/workspace/kemal.inecik/Wessel2022\"\n",
    "adata = sc.read(os.path.join(base_path, f'THP1.CaRPoolSeq_RNA_ADT.h5ad'))"
   ]
  },
  {
   "cell_type": "code",
   "execution_count": 7,
   "id": "1e9deaa6-4adb-4641-b9c5-be78e28ac3a1",
   "metadata": {
    "pycharm": {
     "name": "#%%\n"
    }
   },
   "outputs": [],
   "source": [
    "perts = adata.obs[['GenePair', 'Guide.Class']].drop_duplicates().reset_index(drop=True)"
   ]
  },
  {
   "cell_type": "code",
   "execution_count": 8,
   "id": "f8440cc1-f4b7-4107-a464-d048b4f7558a",
   "metadata": {
    "pycharm": {
     "name": "#%%\n"
    }
   },
   "outputs": [
    {
     "data": {
      "text/plain": [
       "array({'SUPT5H', 'DOT1L', 'EP300', 'HDAC3', 'MED24', 'GATA2', 'RCOR1', 'RING1', 'SSRP1', 'SMARCD1', 'MED14', 'CD14', 'MED22', 'INTS1', 'SUPT6H', 'ATXN7L3', 'FLI1', 'KDM1A', 'MED19', 'IKZF1', 'SMARCA5', 'GFI1', 'VPRBP', 'MED16', 'MED13L', 'GSE1', 'MYB', 'NT', 'SUPT16H'},\n",
       "      dtype=object)"
      ]
     },
     "execution_count": 8,
     "metadata": {},
     "output_type": "execute_result"
    }
   ],
   "source": [
    "np.array(set([j for i in [i.split(\"_\") for i in perts[\"GenePair\"]] for j in i]))"
   ]
  },
  {
   "cell_type": "code",
   "execution_count": 9,
   "id": "0c594ee7-4d25-4511-af94-84edcae07fda",
   "metadata": {
    "pycharm": {
     "name": "#%%\n"
    }
   },
   "outputs": [
    {
     "name": "stdout",
     "output_type": "stream",
     "text": [
      "28095\n",
      "2188\n",
      "424\n"
     ]
    }
   ],
   "source": [
    "for gc in [\"Dual\", \"Single\", \"NT\"]:\n",
    "    print(len(adata[adata.obs[\"GenePair\"].isin(list(perts[perts[\"Guide.Class\"] == gc][\"GenePair\"]))]))"
   ]
  },
  {
   "cell_type": "code",
   "execution_count": 10,
   "id": "b5f9a137-a66b-4ea4-861b-77b7d76ed611",
   "metadata": {
    "pycharm": {
     "name": "#%%\n"
    }
   },
   "outputs": [
    {
     "data": {
      "text/plain": [
       "['EP300+GSE1',\n",
       " 'IKZF1+SMARCD1',\n",
       " 'SUPT16H+SUPT5H',\n",
       " 'DOT1L+INTS1',\n",
       " 'INTS1+RING1',\n",
       " 'MED24+SSRP1',\n",
       " 'DOT1L+GFI1',\n",
       " 'GSE1+RCOR1',\n",
       " 'SMARCD1+NT',\n",
       " 'INTS1+NT']"
      ]
     },
     "execution_count": 10,
     "metadata": {},
     "output_type": "execute_result"
    }
   ],
   "source": [
    "a = [[i[(i.index(\"NT\")-1)%2], \"NT\"] if \"NT\" in i else i for i in list(adata.obs[\"GenePair\"].str.split('_'))] # bring NT second pos always\n",
    "a = [\"+\".join(i) if not i == [\"NT\", \"NT\"] else \"NT\" for i in a] # replace NT+NT with NT\n",
    "a[:10]"
   ]
  },
  {
   "cell_type": "code",
   "execution_count": 11,
   "id": "06d30634-8f72-4d3d-a8a9-fd5923c633f1",
   "metadata": {
    "pycharm": {
     "name": "#%%\n"
    },
    "tags": []
   },
   "outputs": [],
   "source": [
    "adata.obs[\"condition\"] = a"
   ]
  },
  {
   "cell_type": "code",
   "execution_count": 12,
   "id": "91187410-df48-44f7-856c-258e317898b2",
   "metadata": {
    "pycharm": {
     "name": "#%%\n"
    }
   },
   "outputs": [
    {
     "data": {
      "text/plain": [
       "AnnData object with n_obs × n_vars = 30707 × 16920\n",
       "    obs: 'nCount_RNA', 'nFeature_RNA', 'percent.mt', 'S.Score', 'G2M.Score', 'Phase', 'PhaseWeissman', 'nCount_HTO', 'HTO', 'nCount_ADT', 'TenX.Lane', 'Guides', 'nCount_GUIDE', 'CRISPR.Array', 'GenePair', 'Guide.Class', 'UMI.g1', 'UMI.g2', 'ID.g1', 'ID.g2', 'fraction.g1.over.all', 'fraction.g1.over.g2', 'g1.by.g2', 'ident', 'condition'\n",
       "    uns: 'protein_names'\n",
       "    obsm: 'X_pca', 'X_umap', 'protein_expression', 'protein_expression_raw'\n",
       "    layers: 'counts'"
      ]
     },
     "execution_count": 12,
     "metadata": {},
     "output_type": "execute_result"
    }
   ],
   "source": [
    "adata"
   ]
  },
  {
   "cell_type": "markdown",
   "id": "2056a71a-cdc2-42e1-b320-62451778e81a",
   "metadata": {
    "pycharm": {
     "name": "#%% md\n"
    }
   },
   "source": [
    "## Preprocess data"
   ]
  },
  {
   "cell_type": "code",
   "execution_count": 13,
   "id": "395ecdc7-23f7-4225-b984-ecb8bebd2b66",
   "metadata": {
    "pycharm": {
     "name": "#%%\n"
    }
   },
   "outputs": [
    {
     "name": "stdout",
     "output_type": "stream",
     "text": [
      "extracting highly variable genes\n",
      "    finished (0:00:02)\n",
      "--> added\n",
      "    'highly_variable', boolean vector (adata.var)\n",
      "    'means', float vector (adata.var)\n",
      "    'dispersions', float vector (adata.var)\n",
      "    'dispersions_norm', float vector (adata.var)\n"
     ]
    }
   ],
   "source": [
    "# As normalized data is obtained from rds\n",
    "    # sc.pp.normalize_total(adata) \n",
    "    # sc.pp.log1p(adata)\n",
    "sc.pp.highly_variable_genes(adata)"
   ]
  },
  {
   "cell_type": "code",
   "execution_count": 14,
   "id": "7e36b940-2bb8-450d-a117-5e775d789993",
   "metadata": {
    "pycharm": {
     "name": "#%%\n"
    }
   },
   "outputs": [
    {
     "data": {
      "text/plain": [
       "14280"
      ]
     },
     "execution_count": 14,
     "metadata": {},
     "output_type": "execute_result"
    }
   ],
   "source": [
    "a=adata.var.copy()\n",
    "a=a.sort_values(by=[\"dispersions_norm\"])\n",
    "\n",
    "for ind, i in enumerate(a['highly_variable']):\n",
    "    if i:\n",
    "        break\n",
    "ind"
   ]
  },
  {
   "cell_type": "code",
   "execution_count": 15,
   "id": "9a3fb261-1141-423a-9089-1169db1234e5",
   "metadata": {
    "pycharm": {
     "name": "#%%\n"
    }
   },
   "outputs": [
    {
     "data": {
      "text/plain": [
       "16920"
      ]
     },
     "execution_count": 15,
     "metadata": {},
     "output_type": "execute_result"
    }
   ],
   "source": [
    "len(a)"
   ]
  },
  {
   "cell_type": "code",
   "execution_count": 16,
   "id": "bbe3bb40-4779-43c1-91e0-05896deff7a6",
   "metadata": {
    "pycharm": {
     "name": "#%%\n"
    }
   },
   "outputs": [
    {
     "name": "stdout",
     "output_type": "stream",
     "text": [
      "1465\n"
     ]
    }
   ],
   "source": [
    "print(sum(a[\"highly_variable\"]))"
   ]
  },
  {
   "cell_type": "code",
   "execution_count": 17,
   "id": "13247bd7-b6f4-4f4d-bf93-1463b3d2e1de",
   "metadata": {
    "pycharm": {
     "name": "#%%\n"
    }
   },
   "outputs": [
    {
     "name": "stdout",
     "output_type": "stream",
     "text": [
      "If you pass `n_top_genes`, all cutoffs are ignored.\n",
      "extracting highly variable genes\n",
      "    finished (0:00:02)\n",
      "--> added\n",
      "    'highly_variable', boolean vector (adata.var)\n",
      "    'means', float vector (adata.var)\n",
      "    'dispersions', float vector (adata.var)\n",
      "    'dispersions_norm', float vector (adata.var)\n"
     ]
    }
   ],
   "source": [
    "sc.pp.highly_variable_genes(adata, n_top_genes=5000, subset=True)"
   ]
  },
  {
   "cell_type": "code",
   "execution_count": 18,
   "id": "9782252e-5ba3-4d9d-b79f-96c6f13d5392",
   "metadata": {
    "pycharm": {
     "name": "#%%\n"
    }
   },
   "outputs": [
    {
     "data": {
      "text/plain": [
       "AnnData object with n_obs × n_vars = 30707 × 5000\n",
       "    obs: 'nCount_RNA', 'nFeature_RNA', 'percent.mt', 'S.Score', 'G2M.Score', 'Phase', 'PhaseWeissman', 'nCount_HTO', 'HTO', 'nCount_ADT', 'TenX.Lane', 'Guides', 'nCount_GUIDE', 'CRISPR.Array', 'GenePair', 'Guide.Class', 'UMI.g1', 'UMI.g2', 'ID.g1', 'ID.g2', 'fraction.g1.over.all', 'fraction.g1.over.g2', 'g1.by.g2', 'ident', 'condition'\n",
       "    var: 'highly_variable', 'means', 'dispersions', 'dispersions_norm'\n",
       "    uns: 'protein_names', 'hvg'\n",
       "    obsm: 'X_pca', 'X_umap', 'protein_expression', 'protein_expression_raw'\n",
       "    layers: 'counts'"
      ]
     },
     "execution_count": 18,
     "metadata": {},
     "output_type": "execute_result"
    }
   ],
   "source": [
    "adata"
   ]
  },
  {
   "cell_type": "code",
   "execution_count": 19,
   "id": "66637bc1-7749-4329-8ec0-9dfdb827615d",
   "metadata": {
    "pycharm": {
     "name": "#%%\n"
    }
   },
   "outputs": [
    {
     "data": {
      "text/plain": [
       "6.711815849485947"
      ]
     },
     "execution_count": 19,
     "metadata": {},
     "output_type": "execute_result"
    }
   ],
   "source": [
    "adata.X.A.max()"
   ]
  },
  {
   "cell_type": "markdown",
   "id": "17617513-9541-4adf-a19c-902d51472684",
   "metadata": {
    "pycharm": {
     "name": "#%% md\n"
    }
   },
   "source": [
    "# Prepare for the model"
   ]
  },
  {
   "cell_type": "code",
   "execution_count": 20,
   "id": "533a76fe-5f2d-43d3-826e-5cca8572566c",
   "metadata": {
    "pycharm": {
     "name": "#%%\n"
    }
   },
   "outputs": [],
   "source": [
    "adata.obs['dose_val'] = [\"1\" if i == \"NT\" else \"1+1\" for i in adata.obs['condition']]\n",
    "adata.obs['cell_type'] = 'THP-1'\n",
    "adata.obs['control'] = [1 if x == 'NT' else 0 for x in adata.obs.condition.values]"
   ]
  },
  {
   "cell_type": "code",
   "execution_count": 21,
   "id": "d069830e-dd88-47d2-a882-398841a7ff03",
   "metadata": {
    "pycharm": {
     "name": "#%%\n"
    }
   },
   "outputs": [
    {
     "data": {
      "text/plain": [
       "array([0, 1])"
      ]
     },
     "execution_count": 21,
     "metadata": {},
     "output_type": "execute_result"
    }
   ],
   "source": [
    "np.unique(adata.obs['control'])"
   ]
  },
  {
   "cell_type": "code",
   "execution_count": 22,
   "id": "23e722c6-ed8a-4ac5-a72d-c54b4af2b14c",
   "metadata": {
    "pycharm": {
     "name": "#%%\n"
    }
   },
   "outputs": [],
   "source": [
    "adata.obs['drug_dose_name'] = adata.obs.condition.astype(str) + '_' + adata.obs.dose_val.astype(str)\n",
    "adata.obs['cov_drug_dose_name'] = adata.obs.cell_type.astype(str) + '_' + adata.obs.drug_dose_name.astype(str)"
   ]
  },
  {
   "cell_type": "code",
   "execution_count": 23,
   "id": "f7a14181-d4de-4cfe-97e4-f9bbe939da91",
   "metadata": {
    "pycharm": {
     "name": "#%%\n"
    }
   },
   "outputs": [],
   "source": [
    "from compert.helper import rank_genes_groups_by_cov\n",
    "import warnings"
   ]
  },
  {
   "cell_type": "code",
   "execution_count": 24,
   "id": "25e7411b-3961-48ed-9e44-a35348095649",
   "metadata": {
    "pycharm": {
     "name": "#%%\n"
    }
   },
   "outputs": [
    {
     "name": "stdout",
     "output_type": "stream",
     "text": [
      "THP-1\n",
      "WARNING: Default of the method has been changed to 't-test' from 't-test_overestim_var'\n",
      "ranking genes\n"
     ]
    },
    {
     "name": "stderr",
     "output_type": "stream",
     "text": [
      "/home/icb/kemal.inecik/miniconda3/envs/scvienv/lib/python3.9/site-packages/anndata/_core/anndata.py:1235: ImplicitModificationWarning: Trying to modify attribute `.obs` of view, initializing view as actual.\n",
      "  df[key] = c\n",
      "/home/icb/kemal.inecik/miniconda3/envs/scvienv/lib/python3.9/contextlib.py:126: FutureWarning: X.dtype being converted to np.float32 from float64. In the next version of anndata (0.9) conversion will not be automatic. Pass dtype explicitly to avoid this warning. Pass `AnnData(X, dtype=X.dtype, ...)` to get the future behavour.\n",
      "  next(self.gen)\n",
      "/home/icb/kemal.inecik/miniconda3/envs/scvienv/lib/python3.9/site-packages/anndata/_core/anndata.py:1235: ImplicitModificationWarning: Trying to modify attribute `.obs` of view, initializing view as actual.\n",
      "  df[key] = c\n",
      "/home/icb/kemal.inecik/miniconda3/envs/scvienv/lib/python3.9/site-packages/anndata/_core/anndata.py:1235: ImplicitModificationWarning: Trying to modify attribute `.obs` of view, initializing view as actual.\n",
      "  df[key] = c\n"
     ]
    },
    {
     "name": "stdout",
     "output_type": "stream",
     "text": [
      "    finished: added to `.uns['rank_genes_groups']`\n",
      "    'names', sorted np.recarray to be indexed by group ids\n",
      "    'scores', sorted np.recarray to be indexed by group ids\n",
      "    'logfoldchanges', sorted np.recarray to be indexed by group ids\n",
      "    'pvals', sorted np.recarray to be indexed by group ids\n",
      "    'pvals_adj', sorted np.recarray to be indexed by group ids (0:00:07)\n"
     ]
    }
   ],
   "source": [
    "with warnings.catch_warnings():\n",
    "    warnings.simplefilter('ignore', pd.errors.PerformanceWarning)\n",
    "    rank_genes_groups_by_cov(adata, groupby='cov_drug_dose_name', covariate='cell_type', control_group='NT_1', n_genes=20)"
   ]
  },
  {
   "cell_type": "code",
   "execution_count": 25,
   "id": "109680fe-aace-4637-85d8-0f40a348d669",
   "metadata": {
    "pycharm": {
     "name": "#%%\n"
    }
   },
   "outputs": [
    {
     "data": {
      "text/plain": [
       "AnnData object with n_obs × n_vars = 30707 × 5000\n",
       "    obs: 'nCount_RNA', 'nFeature_RNA', 'percent.mt', 'S.Score', 'G2M.Score', 'Phase', 'PhaseWeissman', 'nCount_HTO', 'HTO', 'nCount_ADT', 'TenX.Lane', 'Guides', 'nCount_GUIDE', 'CRISPR.Array', 'GenePair', 'Guide.Class', 'UMI.g1', 'UMI.g2', 'ID.g1', 'ID.g2', 'fraction.g1.over.all', 'fraction.g1.over.g2', 'g1.by.g2', 'ident', 'condition', 'dose_val', 'cell_type', 'control', 'drug_dose_name', 'cov_drug_dose_name'\n",
       "    var: 'highly_variable', 'means', 'dispersions', 'dispersions_norm'\n",
       "    uns: 'protein_names', 'hvg', 'rank_genes_groups_cov'\n",
       "    obsm: 'X_pca', 'X_umap', 'protein_expression', 'protein_expression_raw'\n",
       "    layers: 'counts'"
      ]
     },
     "execution_count": 25,
     "metadata": {},
     "output_type": "execute_result"
    }
   ],
   "source": [
    "adata"
   ]
  },
  {
   "cell_type": "code",
   "execution_count": 26,
   "id": "a75bfcd6-1166-4dd6-ab10-1e0cc46cb014",
   "metadata": {
    "pycharm": {
     "name": "#%%\n"
    }
   },
   "outputs": [
    {
     "name": "stdout",
     "output_type": "stream",
     "text": [
      "<class 'dict'>\n"
     ]
    }
   ],
   "source": [
    "print(type(adata.uns[\"rank_genes_groups_cov\"]))\n",
    "#for i in adata.uns[\"rank_genes_groups_cov\"]:\n",
    "#    print(f\"{i}: {len(adata.uns['rank_genes_groups_cov'][i])}\")"
   ]
  },
  {
   "cell_type": "code",
   "execution_count": 27,
   "id": "9e23199f-21ef-456c-9b1f-3926ffc2079d",
   "metadata": {
    "pycharm": {
     "name": "#%%\n"
    }
   },
   "outputs": [
    {
     "data": {
      "text/plain": [
       "array(['CD127', 'CD135', 'CD29', 'CD45RA', 'CD46', 'CD52', 'CD55', 'CD56',\n",
       "       'CD59', 'CD63', 'CD71', 'CD9', 'CD11a', 'CD11b', 'CD11c', 'CD123',\n",
       "       'CD16', 'CD183', 'CD185', 'CD1C', 'CD33', 'HLADR', 'IgM',\n",
       "       'CD14custom'], dtype=object)"
      ]
     },
     "execution_count": 27,
     "metadata": {},
     "output_type": "execute_result"
    }
   ],
   "source": [
    "adata.uns['protein_names']"
   ]
  },
  {
   "cell_type": "code",
   "execution_count": 28,
   "id": "18e369ba-ca1a-4964-b1d4-47f013fb1833",
   "metadata": {
    "pycharm": {
     "name": "#%%\n"
    }
   },
   "outputs": [],
   "source": [
    "_keep_col = [i for i in range(len(adata.uns['protein_names'])) if i != list(adata.uns['protein_names']).index('IgM')]\n",
    "adata.obsm['protein_expression_raw'] = adata.obsm['protein_expression_raw'][:,_keep_col]\n",
    "adata.obsm['protein_expression'] = adata.obsm['protein_expression'][:,_keep_col]\n",
    "adata.uns['protein_names'] = adata.uns['protein_names'][_keep_col]"
   ]
  },
  {
   "cell_type": "markdown",
   "id": "4eba636c-3f84-4853-820f-f55fd45f12b9",
   "metadata": {
    "pycharm": {
     "name": "#%% md\n"
    },
    "tags": []
   },
   "source": [
    "# Visualization"
   ]
  },
  {
   "cell_type": "code",
   "execution_count": null,
   "id": "c285bc39-2ed2-4067-9f29-58211481cfd5",
   "metadata": {
    "pycharm": {
     "name": "#%%\n"
    }
   },
   "outputs": [
    {
     "name": "stdout",
     "output_type": "stream",
     "text": [
      "computing PCA\n",
      "    on highly variable genes\n",
      "    with n_comps=50\n"
     ]
    }
   ],
   "source": [
    "# Calculate the visualizations\n",
    "sc.pp.pca(adata, n_comps=50, use_highly_variable=True, svd_solver='arpack')\n",
    "sc.pp.neighbors(adata)\n",
    "sc.tl.umap(adata)"
   ]
  },
  {
   "cell_type": "code",
   "execution_count": null,
   "id": "04fddf87-b75f-4dcc-ae81-3250a8c183d9",
   "metadata": {
    "pycharm": {
     "name": "#%%\n"
    }
   },
   "outputs": [],
   "source": [
    "sc.pl.pca_scatter(adata, color=['nCount_RNA', 'nFeature_RNA', 'percent.mt'])\n",
    "sc.pl.umap(adata, color=['nCount_RNA', 'nFeature_RNA', 'percent.mt'])"
   ]
  },
  {
   "cell_type": "code",
   "execution_count": null,
   "id": "139ef04f-d2f9-4fa6-94f4-fac9b0c18ff6",
   "metadata": {
    "pycharm": {
     "name": "#%%\n"
    }
   },
   "outputs": [],
   "source": [
    "sc.pl.umap(adata, color=['Guide.Class', 'PhaseWeissman', 'Phase'], size=10)"
   ]
  },
  {
   "cell_type": "code",
   "execution_count": null,
   "id": "d56a61d5-d4db-4f39-80fb-b2f68414b2f8",
   "metadata": {
    "pycharm": {
     "name": "#%%\n"
    }
   },
   "outputs": [],
   "source": [
    "sc.tl.louvain(adata)"
   ]
  },
  {
   "cell_type": "code",
   "execution_count": null,
   "id": "a6bc5d8e-8282-42a7-ae7f-200263b29751",
   "metadata": {
    "pycharm": {
     "name": "#%%\n"
    }
   },
   "outputs": [],
   "source": [
    "sc.pl.umap(adata, color='louvain')"
   ]
  },
  {
   "cell_type": "code",
   "execution_count": null,
   "id": "a392f45f-7c49-4578-8d84-64b32fbaa1b4",
   "metadata": {
    "pycharm": {
     "name": "#%%\n"
    }
   },
   "outputs": [],
   "source": []
  },
  {
   "cell_type": "markdown",
   "id": "d5ea06dd-73b0-4e82-b1e5-6d1290030891",
   "metadata": {
    "pycharm": {
     "name": "#%% md\n"
    }
   },
   "source": [
    "# Splits"
   ]
  },
  {
   "cell_type": "code",
   "execution_count": 29,
   "id": "b2caeff3-4e95-4df6-aa27-90cf76e0f9b4",
   "metadata": {
    "pycharm": {
     "name": "#%%\n"
    }
   },
   "outputs": [],
   "source": [
    "adata.obs['split'] = 'nan'\n",
    "for cov_drug_dose_name in np.unique(adata.obs[\"cov_drug_dose_name\"]):\n",
    "    adata_idx = adata.obs_names[adata.obs[\"cov_drug_dose_name\"] == cov_drug_dose_name]\n",
    "    # print(f\"{cov_drug_dose_name}\\t{len(adata_idx)}\")\n",
    "    adata_idx_train, adata_idx_test = train_test_split(adata_idx, test_size=0.15, random_state=42)\n",
    "    adata.obs.loc[adata_idx_train, 'split'] = 'train'\n",
    "    adata.obs.loc[adata_idx_test, 'split'] = 'test'\n",
    "adata_idx = adata.obs_names\n",
    "_, adata_idx_ood = train_test_split(adata_idx, test_size=0.0003, random_state=42)\n",
    "adata.obs.loc[adata_idx_ood, 'split'] = 'ood'"
   ]
  },
  {
   "cell_type": "code",
   "execution_count": 30,
   "id": "b250f96b-8611-4550-bec3-8396c56dbb6d",
   "metadata": {
    "pycharm": {
     "name": "#%%\n"
    }
   },
   "outputs": [],
   "source": [
    "adata.obs['split2'] = 'nan'\n",
    "for cov_drug_dose_name in np.unique(adata.obs[\"cov_drug_dose_name\"]):\n",
    "    adata_idx = adata.obs_names[adata.obs[\"cov_drug_dose_name\"] == cov_drug_dose_name]\n",
    "    # print(f\"{cov_drug_dose_name}\\t{len(adata_idx)}\")\n",
    "    adata_idx_train, adata_idx_test = train_test_split(adata_idx, test_size=0.10, random_state=42)\n",
    "    adata.obs.loc[adata_idx_train, 'split2'] = 'train'\n",
    "    adata.obs.loc[adata_idx_test, 'split2'] = 'test'\n",
    "adata_idx = adata.obs_names\n",
    "ood_groups = ['THP-1_FLI1+INTS1_1+1', 'THP-1_HDAC3+SMARCD1_1+1', 'THP-1_DOT1L+EP300_1+1', 'THP-1_KDM1A+SMARCD1_1+1']\n",
    "adata.obs.loc[adata.obs.index[adata.obs[\"cov_drug_dose_name\"].isin(ood_groups)], 'split2'] = 'ood'"
   ]
  },
  {
   "cell_type": "code",
   "execution_count": 31,
   "id": "761d24ad-aeed-4ada-97b2-279b87e1ada1",
   "metadata": {
    "pycharm": {
     "name": "#%%\n"
    }
   },
   "outputs": [
    {
     "data": {
      "text/plain": [
       "split\n",
       "ood         10\n",
       "test      4694\n",
       "train    26003\n",
       "dtype: int64"
      ]
     },
     "execution_count": 31,
     "metadata": {},
     "output_type": "execute_result"
    }
   ],
   "source": [
    "adata.obs.groupby('split').size()"
   ]
  },
  {
   "cell_type": "code",
   "execution_count": 32,
   "id": "e007b83d-b719-4032-8491-9a6962228686",
   "metadata": {
    "pycharm": {
     "name": "#%%\n"
    }
   },
   "outputs": [
    {
     "data": {
      "text/plain": [
       "split2\n",
       "ood       1133\n",
       "test      3032\n",
       "train    26542\n",
       "dtype: int64"
      ]
     },
     "execution_count": 32,
     "metadata": {},
     "output_type": "execute_result"
    }
   ],
   "source": [
    "adata.obs.groupby('split2').size()"
   ]
  },
  {
   "cell_type": "code",
   "execution_count": 33,
   "id": "97a39410-1102-4215-9dc9-d7890e57abc2",
   "metadata": {
    "pycharm": {
     "name": "#%%\n"
    }
   },
   "outputs": [],
   "source": [
    "#with pd.option_context('display.max_rows', None, 'display.max_columns', None):  # more options can be specified also\n",
    "#    print(pd.DataFrame(adata.obs.groupby(\"cov_drug_dose_name\").size()).sort_values(by=[0]))"
   ]
  },
  {
   "cell_type": "markdown",
   "id": "9c599471-7f18-4db2-a697-1942494eaab0",
   "metadata": {
    "pycharm": {
     "name": "#%% md\n"
    }
   },
   "source": [
    "## Remove Outlier Genes"
   ]
  },
  {
   "cell_type": "code",
   "execution_count": 34,
   "id": "efd7da68-0219-4366-b61b-9df4b45c563e",
   "metadata": {
    "pycharm": {
     "name": "#%%\n"
    }
   },
   "outputs": [
    {
     "data": {
      "text/plain": [
       "<AxesSubplot:ylabel='Count'>"
      ]
     },
     "execution_count": 34,
     "metadata": {},
     "output_type": "execute_result"
    },
    {
     "data": {
      "image/png": "[encoded data removed]",
      "text/plain": [
       "<Figure size 864x288 with 1 Axes>"
      ]
     },
     "metadata": {
      "image/png": {
       "height": 248,
       "width": 730
      },
      "needs_background": "light"
     },
     "output_type": "display_data"
    }
   ],
   "source": [
    "mean_genes = adata.layers['counts'].mean(0)\n",
    "mean_genes = np.array(mean_genes)[0]\n",
    "plt.figure(figsize=(12,4))\n",
    "sns.histplot(sorted(mean_genes), bins=20)"
   ]
  },
  {
   "cell_type": "code",
   "execution_count": 35,
   "id": "0f94182f-afb1-494a-b8ff-b60599055f64",
   "metadata": {
    "pycharm": {
     "name": "#%%\n"
    }
   },
   "outputs": [
    {
     "data": {
      "text/plain": [
       "View of AnnData object with n_obs × n_vars = 30707 × 4992\n",
       "    obs: 'nCount_RNA', 'nFeature_RNA', 'percent.mt', 'S.Score', 'G2M.Score', 'Phase', 'PhaseWeissman', 'nCount_HTO', 'HTO', 'nCount_ADT', 'TenX.Lane', 'Guides', 'nCount_GUIDE', 'CRISPR.Array', 'GenePair', 'Guide.Class', 'UMI.g1', 'UMI.g2', 'ID.g1', 'ID.g2', 'fraction.g1.over.all', 'fraction.g1.over.g2', 'g1.by.g2', 'ident', 'condition', 'dose_val', 'cell_type', 'control', 'drug_dose_name', 'cov_drug_dose_name', 'split', 'split2'\n",
       "    var: 'highly_variable', 'means', 'dispersions', 'dispersions_norm'\n",
       "    uns: 'protein_names', 'hvg', 'rank_genes_groups_cov'\n",
       "    obsm: 'X_pca', 'X_umap', 'protein_expression', 'protein_expression_raw'\n",
       "    layers: 'counts'"
      ]
     },
     "execution_count": 35,
     "metadata": {},
     "output_type": "execute_result"
    }
   ],
   "source": [
    "THR = 50\n",
    "adata = adata[:, adata.var[mean_genes < THR].index]\n",
    "adata"
   ]
  },
  {
   "cell_type": "markdown",
   "id": "d7efbb77-4073-4806-bbf5-be45a86f58e8",
   "metadata": {
    "pycharm": {
     "name": "#%% md\n"
    }
   },
   "source": [
    "# Write"
   ]
  },
  {
   "cell_type": "code",
   "execution_count": 36,
   "id": "76788412-496a-409b-8026-50a476030120",
   "metadata": {
    "pycharm": {
     "name": "#%%\n"
    }
   },
   "outputs": [
    {
     "name": "stderr",
     "output_type": "stream",
     "text": [
      "/home/icb/kemal.inecik/miniconda3/envs/scvienv/lib/python3.9/site-packages/anndata/_core/anndata.py:1235: ImplicitModificationWarning: Trying to modify attribute `.obs` of view, initializing view as actual.\n",
      "  df[key] = c\n",
      "/home/icb/kemal.inecik/miniconda3/envs/scvienv/lib/python3.9/contextlib.py:126: FutureWarning: X.dtype being converted to np.float32 from float64. In the next version of anndata (0.9) conversion will not be automatic. Pass dtype explicitly to avoid this warning. Pass `AnnData(X, dtype=X.dtype, ...)` to get the future behavour.\n",
      "  next(self.gen)\n",
      "/home/icb/kemal.inecik/miniconda3/envs/scvienv/lib/python3.9/site-packages/anndata/_core/anndata.py:1235: ImplicitModificationWarning: Trying to modify attribute `.obs` of view, initializing view as actual.\n",
      "  df[key] = c\n",
      "/home/icb/kemal.inecik/miniconda3/envs/scvienv/lib/python3.9/site-packages/anndata/_core/anndata.py:1235: ImplicitModificationWarning: Trying to modify attribute `.obs` of view, initializing view as actual.\n",
      "  df[key] = c\n"
     ]
    }
   ],
   "source": [
    "adata.write(os.path.join(base_path, f'Wessel22_prep.h5ad'))"
   ]
  },
  {
   "cell_type": "markdown",
   "id": "ac1fba2a-60b0-4a29-b634-daf694699494",
   "metadata": {
    "pycharm": {
     "name": "#%% md\n"
    }
   },
   "source": [
    "#### No Protein"
   ]
  },
  {
   "cell_type": "code",
   "execution_count": 37,
   "id": "edd52685-84db-4067-808e-0fe494cfe50f",
   "metadata": {
    "pycharm": {
     "name": "#%%\n"
    }
   },
   "outputs": [],
   "source": [
    "adata.obsm['protein_expression'] = np.array([[]]*len(adata.obsm['protein_expression']))\n",
    "adata.obsm['protein_expression_raw'] = np.array([[]]*len(adata.obsm['protein_expression_raw']))"
   ]
  },
  {
   "cell_type": "code",
   "execution_count": 38,
   "id": "7d6b73ed-5990-468d-a994-9804c792ec38",
   "metadata": {
    "pycharm": {
     "name": "#%%\n"
    }
   },
   "outputs": [],
   "source": [
    "adata.uns['protein_names'] = np.array([])"
   ]
  },
  {
   "cell_type": "code",
   "execution_count": 39,
   "id": "f9a2a824-4a5a-43eb-84f6-3065e8915ac5",
   "metadata": {
    "pycharm": {
     "name": "#%%\n"
    }
   },
   "outputs": [],
   "source": [
    "adata.write(os.path.join(base_path, f'Wessel22_noprot_prep.h5ad'))"
   ]
  },
  {
   "cell_type": "code",
   "execution_count": 40,
   "id": "20364de1-28aa-4bc8-aa8d-f2f20c389ae9",
   "metadata": {
    "pycharm": {
     "name": "#%%\n"
    }
   },
   "outputs": [
    {
     "data": {
      "text/plain": [
       "AnnData object with n_obs × n_vars = 30707 × 4992\n",
       "    obs: 'nCount_RNA', 'nFeature_RNA', 'percent.mt', 'S.Score', 'G2M.Score', 'Phase', 'PhaseWeissman', 'nCount_HTO', 'HTO', 'nCount_ADT', 'TenX.Lane', 'Guides', 'nCount_GUIDE', 'CRISPR.Array', 'GenePair', 'Guide.Class', 'UMI.g1', 'UMI.g2', 'ID.g1', 'ID.g2', 'fraction.g1.over.all', 'fraction.g1.over.g2', 'g1.by.g2', 'ident', 'condition', 'dose_val', 'cell_type', 'control', 'drug_dose_name', 'cov_drug_dose_name', 'split', 'split2'\n",
       "    var: 'highly_variable', 'means', 'dispersions', 'dispersions_norm'\n",
       "    uns: 'protein_names', 'hvg', 'rank_genes_groups_cov'\n",
       "    obsm: 'X_pca', 'X_umap', 'protein_expression', 'protein_expression_raw'\n",
       "    layers: 'counts'"
      ]
     },
     "execution_count": 40,
     "metadata": {},
     "output_type": "execute_result"
    }
   ],
   "source": [
    "adata"
   ]
  },
  {
   "cell_type": "code",
   "execution_count": null,
   "id": "798030df-8cd0-4928-9743-fabf9b3fb8ed",
   "metadata": {
    "pycharm": {
     "name": "#%%\n"
    }
   },
   "outputs": [],
   "source": []
  },
  {
   "cell_type": "code",
   "execution_count": null,
   "id": "ebfdca81",
   "metadata": {
    "collapsed": false,
    "jupyter": {
     "outputs_hidden": false
    },
    "pycharm": {
     "name": "#%%\n"
    }
   },
   "outputs": [],
   "source": []
  }
 ],
 "metadata": {
  "kernelspec": {
   "display_name": "Python 3 (ipykernel)",
   "language": "python",
   "name": "python3"
  },
  "language_info": {
   "codemirror_mode": {
    "name": "ipython",
    "version": 3
   },
   "file_extension": ".py",
   "mimetype": "text/x-python",
   "name": "python",
   "nbconvert_exporter": "python",
   "pygments_lexer": "ipython3",
   "version": "3.8.13"
  }
 },
 "nbformat": 4,
 "nbformat_minor": 5
}

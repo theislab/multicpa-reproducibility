{
 "cells": [
  {
   "cell_type": "markdown",
   "id": "f73e8208-2d14-4bc1-8dd1-a3d114e1b8e0",
   "metadata": {
    "pycharm": {
     "name": "#%% md\n"
    }
   },
   "source": [
    "# TotalVI Comparisons"
   ]
  },
  {
   "cell_type": "markdown",
   "id": "4405077d-3d86-4af7-8499-ebdb257405b5",
   "metadata": {
    "pycharm": {
     "name": "#%% md\n"
    }
   },
   "source": [
    "Get the r2 prediction using TotalVI counterfactual prediction facility."
   ]
  },
  {
   "cell_type": "markdown",
   "id": "acb6a105-ec72-47cd-bd85-4209f9087ce8",
   "metadata": {},
   "source": [
    "Note: use `scvienv` conda environment for this notebook."
   ]
  },
  {
   "cell_type": "code",
   "execution_count": 1,
   "id": "1c61aa6b-10b2-4665-83e3-c6f838de89ea",
   "metadata": {
    "pycharm": {
     "name": "#%%\n"
    }
   },
   "outputs": [],
   "source": [
    "import sys\n",
    "sys.path.append(\"../../multicpa\")"
   ]
  },
  {
   "cell_type": "code",
   "execution_count": 2,
   "id": "c048e8a9-2e89-4518-b88e-1457a6734b1c",
   "metadata": {
    "pycharm": {
     "name": "#%%\n"
    }
   },
   "outputs": [],
   "source": [
    "import seaborn as sns\n",
    "import torch\n",
    "import pickle\n",
    "import numpy as np\n",
    "import pandas as pd\n",
    "from itertools import compress\n",
    "import contextlib\n",
    "import warnings\n",
    "import os\n",
    "import scanpy as sc\n",
    "from sklearn.metrics import r2_score\n",
    "from MultiCPA.helper import model_importer"
   ]
  },
  {
   "cell_type": "code",
   "execution_count": 3,
   "id": "2a431896-87be-4ed6-a178-b9d8c23934e9",
   "metadata": {
    "pycharm": {
     "name": "#%%\n"
    }
   },
   "outputs": [
    {
     "name": "stderr",
     "output_type": "stream",
     "text": [
      "Global seed set to 0\n"
     ]
    }
   ],
   "source": [
    "import scvi"
   ]
  },
  {
   "cell_type": "code",
   "execution_count": 4,
   "id": "899f25ad-d344-4bd9-9327-36a2a6b2651a",
   "metadata": {
    "pycharm": {
     "name": "#%%\n"
    }
   },
   "outputs": [],
   "source": [
    "%matplotlib inline\n",
    "%config InlineBackend.figure_format='retina'"
   ]
  },
  {
   "cell_type": "code",
   "execution_count": 5,
   "id": "51d9b177-32b4-4c9b-bb65-4a7c64882541",
   "metadata": {
    "pycharm": {
     "name": "#%%\n"
    }
   },
   "outputs": [],
   "source": [
    "import matplotlib.pyplot as plt\n",
    "plt.rcParams['font.family'] = 'serif'\n",
    "plt.rcParams['font.serif'] = ['Times New Roman'] + plt.rcParams['font.serif']"
   ]
  },
  {
   "cell_type": "code",
   "execution_count": 6,
   "id": "bfc0ab9b-17e4-4a56-87fb-f0bb7fe1ee6c",
   "metadata": {
    "pycharm": {
     "name": "#%%\n"
    }
   },
   "outputs": [
    {
     "data": {
      "text/plain": [
       "'/mnt/home/icb/kemal.inecik/work/codes/multicpa-reproducibility'"
      ]
     },
     "execution_count": 6,
     "metadata": {},
     "output_type": "execute_result"
    }
   ],
   "source": [
    "os.chdir('./../')\n",
    "os.getcwd()"
   ]
  },
  {
   "cell_type": "code",
   "execution_count": 7,
   "id": "48f60173-02a1-4b71-9239-1c0e6d6f4bb9",
   "metadata": {
    "pycharm": {
     "name": "#%%\n"
    }
   },
   "outputs": [],
   "source": [
    "DATAM = {'papalexi': {'raw_dir_name': 'Papalexi2021', 'adata_name': 'Papalexi21_prep.h5ad', 'seml': 'mpert12',\n",
    "                    'nt_condition': \"THP-1_NT_1.0\"},\n",
    "        'wessel': {'raw_dir_name': 'Wessel2022', 'adata_name': 'Wessel22_prep.h5ad', 'seml': 'mpert15',\n",
    "                  'nt_condition': \"THP-1_NT_1\"},\n",
    "        'wessel_ood': {'raw_dir_name': 'Wessel2022', 'adata_name': 'Wessel22_prep.h5ad', 'seml': 'mpert16',\n",
    "                  'nt_condition': \"THP-1_NT_1\"},\n",
    "        'wessel_ood_noprot': {'raw_dir_name': 'Wessel2022', 'adata_name': 'Wessel22_noprot_prep.h5ad', 'seml': 'mpert17',\n",
    "                  'nt_condition': \"THP-1_NT_1\"},\n",
    "        'papalexi_all': {'raw_dir_name': 'Papalexi2021', 'adata_name': 'Papalexi21_prep.h5ad', 'seml': 'mpert18',\n",
    "                    'nt_condition': \"THP-1_NT_1.0\"},\n",
    "       }\n",
    "dataset = 'wessel_ood'\n",
    "DATA = DATAM[dataset]"
   ]
  },
  {
   "cell_type": "code",
   "execution_count": 8,
   "id": "297e5590-141b-48d6-bd33-6339df589c0e",
   "metadata": {
    "pycharm": {
     "name": "#%%\n"
    }
   },
   "outputs": [],
   "source": [
    "raw_data_dir = f\"/storage/groups/ml01/workspace/kemal.inecik/{DATA['raw_dir_name']}\"\n",
    "adata = sc.read(os.path.join(raw_data_dir, DATA['adata_name']))\n",
    "\n",
    "adata.X = adata.layers['counts'].copy()\n",
    "adata.obsm[\"protein_expression\"] = adata.obsm[\"protein_expression_raw\"].copy()\n",
    "del adata.layers['counts']\n",
    "del adata.obsm[\"protein_expression_raw\"]\n",
    "\n",
    "adata.obsm['protein_expression'] = pd.DataFrame(adata.obsm['protein_expression'].astype(int), index=adata.obs.index, columns=adata.uns['protein_names'])\n",
    "adata.X = adata.X.A.astype(int)\n",
    "de_genes = adata.uns[\"rank_genes_groups_cov\"].copy()\n",
    "del adata.uns\n",
    "del adata.var\n",
    "adata.obs = adata.obs[['cov_drug_dose_name', 'control', 'split']]\n",
    "adata.obs.columns = ['batch', 'control', 'split']\n",
    "adata.uns[\"rank_genes_groups_cov\"] = de_genes"
   ]
  },
  {
   "cell_type": "code",
   "execution_count": 9,
   "id": "3eee439c-70ac-432d-9429-f7980563e286",
   "metadata": {},
   "outputs": [
    {
     "data": {
      "text/plain": [
       "False"
      ]
     },
     "execution_count": 9,
     "metadata": {},
     "output_type": "execute_result"
    }
   ],
   "source": [
    "torch.cuda.is_available()"
   ]
  },
  {
   "cell_type": "markdown",
   "id": "1fe2dd79-3599-4b0d-bc2f-cb9ca1bd5859",
   "metadata": {
    "pycharm": {
     "name": "#%% md\n"
    },
    "tags": []
   },
   "source": [
    "## Train TotalVI model"
   ]
  },
  {
   "cell_type": "code",
   "execution_count": 10,
   "id": "669e25dd-a9e7-4de8-a536-84e039c92da6",
   "metadata": {
    "pycharm": {
     "name": "#%%\n"
    }
   },
   "outputs": [],
   "source": [
    "if False:\n",
    "    scvi.model.TOTALVI.setup_anndata(adata, batch_key=\"batch\", protein_expression_obsm_key=\"protein_expression\")\n",
    "    model = scvi.model.TOTALVI(adata)\n",
    "    # as the Papalexi split is 0.85 to 0.15\n",
    "    model.train(train_size=0.75, validation_size = 0.10, max_epochs=480)\n",
    "\n",
    "    plt.plot(model.history[\"elbo_train\"], label=\"train\")\n",
    "    plt.plot(model.history[\"elbo_validation\"], label=\"val\")\n",
    "    plt.title(\"Negative ELBO over training epochs\")\n",
    "    plt.legend(); plt.show()\n",
    "\n",
    "    with open(f\"pretrained_models/TotalVI_{DATA['raw_dir_name']}_model.pt\", 'wb') as f1:\n",
    "        pickle.dump(model, f1)\n",
    "    with open(f\"pretrained_models/TotalVI_{DATA['raw_dir_name']}_adata.pt\", 'wb') as f2:\n",
    "        pickle.dump(adata, f2)\n",
    "else:\n",
    "    with open(f\"pretrained_models/TotalVI_{DATA['raw_dir_name']}_model.pt\", 'rb') as f1:\n",
    "        model = pickle.load(f1)\n",
    "    with open(f\"pretrained_models/TotalVI_{DATA['raw_dir_name']}_adata.pt\", 'rb') as f2:\n",
    "        adata_train = pickle.load(f2)"
   ]
  },
  {
   "cell_type": "markdown",
   "id": "157538b7-f60c-401c-8085-a759adce598b",
   "metadata": {
    "pycharm": {
     "name": "#%% md\n"
    },
    "tags": []
   },
   "source": [
    "## Load MulPert Model"
   ]
  },
  {
   "cell_type": "code",
   "execution_count": 11,
   "id": "d22b69c7-eb4e-49d6-9a82-a0c2452fb3b1",
   "metadata": {
    "pycharm": {
     "name": "#%%\n"
    }
   },
   "outputs": [
    {
     "data": {
      "text/html": [
       "<div>\n",
       "<style scoped>\n",
       "    .dataframe tbody tr th:only-of-type {\n",
       "        vertical-align: middle;\n",
       "    }\n",
       "\n",
       "    .dataframe tbody tr th {\n",
       "        vertical-align: top;\n",
       "    }\n",
       "\n",
       "    .dataframe thead th {\n",
       "        text-align: right;\n",
       "    }\n",
       "</style>\n",
       "<table border=\"1\" class=\"dataframe\">\n",
       "  <thead>\n",
       "    <tr style=\"text-align: right;\">\n",
       "      <th></th>\n",
       "      <th>ood_mean_score_genes_last</th>\n",
       "      <th>ood_mean_score_genes_de_last</th>\n",
       "      <th>ood_mean_score_proteins_last</th>\n",
       "      <th>training_mean_score_genes_last</th>\n",
       "      <th>test_mean_score_genes_de_last</th>\n",
       "      <th>training_mean_score_proteins_last</th>\n",
       "      <th>test_mean_score_genes_last</th>\n",
       "      <th>test_mean_score_genes_de_last</th>\n",
       "      <th>test_mean_score_proteins_last</th>\n",
       "      <th>overall_best</th>\n",
       "    </tr>\n",
       "    <tr>\n",
       "      <th>_id</th>\n",
       "      <th></th>\n",
       "      <th></th>\n",
       "      <th></th>\n",
       "      <th></th>\n",
       "      <th></th>\n",
       "      <th></th>\n",
       "      <th></th>\n",
       "      <th></th>\n",
       "      <th></th>\n",
       "      <th></th>\n",
       "    </tr>\n",
       "  </thead>\n",
       "  <tbody>\n",
       "    <tr>\n",
       "      <th>12600</th>\n",
       "      <td>0.966469</td>\n",
       "      <td>0.902744</td>\n",
       "      <td>0.987495</td>\n",
       "      <td>0.979036</td>\n",
       "      <td>0.900969</td>\n",
       "      <td>0.992201</td>\n",
       "      <td>0.950628</td>\n",
       "      <td>0.900969</td>\n",
       "      <td>0.989438</td>\n",
       "      <td>1.372108</td>\n",
       "    </tr>\n",
       "    <tr>\n",
       "      <th>523</th>\n",
       "      <td>0.958885</td>\n",
       "      <td>0.875930</td>\n",
       "      <td>0.989729</td>\n",
       "      <td>0.974262</td>\n",
       "      <td>0.893977</td>\n",
       "      <td>0.997580</td>\n",
       "      <td>0.946808</td>\n",
       "      <td>0.893977</td>\n",
       "      <td>0.991967</td>\n",
       "      <td>1.371293</td>\n",
       "    </tr>\n",
       "    <tr>\n",
       "      <th>146</th>\n",
       "      <td>0.952903</td>\n",
       "      <td>0.869856</td>\n",
       "      <td>0.985075</td>\n",
       "      <td>0.974326</td>\n",
       "      <td>0.892263</td>\n",
       "      <td>0.997993</td>\n",
       "      <td>0.946064</td>\n",
       "      <td>0.892263</td>\n",
       "      <td>0.990685</td>\n",
       "      <td>1.369851</td>\n",
       "    </tr>\n",
       "    <tr>\n",
       "      <th>161</th>\n",
       "      <td>0.953077</td>\n",
       "      <td>0.859862</td>\n",
       "      <td>0.992664</td>\n",
       "      <td>0.974665</td>\n",
       "      <td>0.892307</td>\n",
       "      <td>0.997942</td>\n",
       "      <td>0.945947</td>\n",
       "      <td>0.892307</td>\n",
       "      <td>0.988619</td>\n",
       "      <td>1.368277</td>\n",
       "    </tr>\n",
       "    <tr>\n",
       "      <th>12609</th>\n",
       "      <td>0.940798</td>\n",
       "      <td>0.820272</td>\n",
       "      <td>0.992355</td>\n",
       "      <td>0.970010</td>\n",
       "      <td>0.887484</td>\n",
       "      <td>0.999067</td>\n",
       "      <td>0.942726</td>\n",
       "      <td>0.887484</td>\n",
       "      <td>0.991082</td>\n",
       "      <td>1.367836</td>\n",
       "    </tr>\n",
       "  </tbody>\n",
       "</table>\n",
       "</div>"
      ],
      "text/plain": [
       "       ood_mean_score_genes_last  ood_mean_score_genes_de_last  \\\n",
       "_id                                                              \n",
       "12600                   0.966469                      0.902744   \n",
       "523                     0.958885                      0.875930   \n",
       "146                     0.952903                      0.869856   \n",
       "161                     0.953077                      0.859862   \n",
       "12609                   0.940798                      0.820272   \n",
       "\n",
       "       ood_mean_score_proteins_last  training_mean_score_genes_last  \\\n",
       "_id                                                                   \n",
       "12600                      0.987495                        0.979036   \n",
       "523                        0.989729                        0.974262   \n",
       "146                        0.985075                        0.974326   \n",
       "161                        0.992664                        0.974665   \n",
       "12609                      0.992355                        0.970010   \n",
       "\n",
       "       test_mean_score_genes_de_last  training_mean_score_proteins_last  \\\n",
       "_id                                                                       \n",
       "12600                       0.900969                           0.992201   \n",
       "523                         0.893977                           0.997580   \n",
       "146                         0.892263                           0.997993   \n",
       "161                         0.892307                           0.997942   \n",
       "12609                       0.887484                           0.999067   \n",
       "\n",
       "       test_mean_score_genes_last  test_mean_score_genes_de_last  \\\n",
       "_id                                                                \n",
       "12600                    0.950628                       0.900969   \n",
       "523                      0.946808                       0.893977   \n",
       "146                      0.946064                       0.892263   \n",
       "161                      0.945947                       0.892307   \n",
       "12609                    0.942726                       0.887484   \n",
       "\n",
       "       test_mean_score_proteins_last  overall_best  \n",
       "_id                                                 \n",
       "12600                       0.989438      1.372108  \n",
       "523                         0.991967      1.371293  \n",
       "146                         0.990685      1.369851  \n",
       "161                         0.988619      1.368277  \n",
       "12609                       0.991082      1.367836  "
      ]
     },
     "execution_count": 11,
     "metadata": {},
     "output_type": "execute_result"
    }
   ],
   "source": [
    "mulpert_models = pd.read_pickle(f\"/storage/groups/ml01/workspace/kemal.inecik/seml/{DATA['seml']}/{DATA['seml']}_pickled.pk\")\n",
    "spt = 'test'\n",
    "focus_metric_1 = f\"{spt}_mean_score_genes_last\"\n",
    "focus_metric_2 = f\"{spt}_mean_score_proteins_last\"\n",
    "\n",
    "mulpert_models = mulpert_models[(mulpert_models['status'] == 1)]\n",
    "mulpert_models = mulpert_models[(mulpert_models[focus_metric_1] > 0) & (mulpert_models[focus_metric_2] > 0)]\n",
    "mulpert_models[\"overall_best\"] = np.sqrt(mulpert_models[focus_metric_1]**2 + mulpert_models[focus_metric_2]**2)\n",
    "\n",
    "top_top = 5\n",
    "mulpert_models = mulpert_models.sort_values(by=[\"overall_best\"], ascending=False)[:top_top]\n",
    "mulpert_models[[f\"{'ood'}_mean_score_genes_last\", f\"{'ood'}_mean_score_genes_de_last\", f\"{'ood'}_mean_score_proteins_last\",\n",
    "    f\"{'training'}_mean_score_genes_last\", f\"{'test'}_mean_score_genes_de_last\", f\"{'training'}_mean_score_proteins_last\", \n",
    "                f\"{'test'}_mean_score_genes_last\", f\"{'test'}_mean_score_genes_de_last\", f\"{'test'}_mean_score_proteins_last\", \n",
    "                \"overall_best\"]]"
   ]
  },
  {
   "cell_type": "code",
   "execution_count": 12,
   "id": "319e80ad-57f8-4f8e-8dbc-296c88b40bd9",
   "metadata": {
    "pycharm": {
     "name": "#%%\n"
    }
   },
   "outputs": [
    {
     "name": "stdout",
     "output_type": "stream",
     "text": [
      "12600\n"
     ]
    }
   ],
   "source": [
    "chosen_model = mulpert_models.index[0]\n",
    "print(chosen_model)"
   ]
  },
  {
   "cell_type": "code",
   "execution_count": 14,
   "id": "a09a4bf9-8512-4f0b-ab8c-9871fc69510e",
   "metadata": {
    "pycharm": {
     "name": "#%%\n"
    }
   },
   "outputs": [
    {
     "name": "stderr",
     "output_type": "stream",
     "text": [
      "/mnt/home/icb/kemal.inecik/work/codes/multicpa-reproducibility/notebooks/../../multicpa/MultiCPA/data.py:107: UserWarning: Creating a tensor from a list of numpy.ndarrays is extremely slow. Please consider converting the list to a single numpy.ndarray with numpy.array() before converting to a tensor. (Triggered internally at  /opt/conda/conda-bld/pytorch_1646756402876/work/torch/csrc/utils/tensor_new.cpp:210.)\n",
      "  self.drugs = torch.Tensor(drugs)\n"
     ]
    },
    {
     "name": "stdout",
     "output_type": "stream",
     "text": [
      "True\n"
     ]
    }
   ],
   "source": [
    "chosen_model_entry = mulpert_models.loc[chosen_model]\n",
    "cm_autoencoder, cm_datasets, cm_state, cm_history, cm_hypers = \\\n",
    "    model_importer(chosen_model, mulpert_models, \n",
    "                   model_dir=f\"/storage/groups/ml01/workspace/kemal.inecik/seml/{DATA['seml']}/_last/\", \n",
    "                   dataset_relative_to=\"/home/icb/kemal.inecik/work/codes/multicpa-reproducibility\",)\n",
    "print(cm_hypers['hparams']['adversary_wd'] == mulpert_models.loc[chosen_model]['config.model.model_args.hparams.adversary_wd'])"
   ]
  },
  {
   "cell_type": "markdown",
   "id": "68baed5b-adb1-464c-95c2-c2f3f7b9f958",
   "metadata": {
    "pycharm": {
     "name": "#%% md\n"
    },
    "tags": []
   },
   "source": [
    "## Baseline Vol 1: Calculate R^2 score"
   ]
  },
  {
   "cell_type": "code",
   "execution_count": 15,
   "id": "dfe81dc0-2c05-4c35-b928-5b5b6f956e6b",
   "metadata": {
    "pycharm": {
     "name": "#%%\n"
    }
   },
   "outputs": [],
   "source": [
    "# for debugging etc\n",
    "def gene_threshold(true_gene_matrix, threshold=np.inf):\n",
    "    meanss = np.array(true_gene_matrix).mean(0)\n",
    "    inn = meanss < threshold\n",
    "    return inn\n",
    "gene_thr = np.inf # np.inf to deactivate"
   ]
  },
  {
   "cell_type": "code",
   "execution_count": 32,
   "id": "a21bea2a-0993-477f-a3ec-d9077ab36e87",
   "metadata": {
    "pycharm": {
     "name": "#%%\n"
    }
   },
   "outputs": [
    {
     "name": "stdout",
     "output_type": "stream",
     "text": [
      "1/187 \u001b[34mINFO    \u001b[0m Input AnnData not setup with scvi-tools. attempting to transfer AnnData setup       \n",
      "2/187 3/187 4/187 5/187 6/187 7/187 8/187 9/187 10/187 11/187 12/187 13/187 14/187 15/187 16/187 17/187 18/187 19/187 20/187 21/187 22/187 23/187 24/187 25/187 26/187 27/187 28/187 29/187 30/187 31/187 32/187 33/187 34/187 35/187 36/187 37/187 38/187 39/187 40/187 41/187 42/187 43/187 44/187 45/187 46/187 47/187 48/187 49/187 50/187 51/187 52/187 53/187 54/187 55/187 56/187 57/187 58/187 59/187 60/187 61/187 62/187 63/187 64/187 65/187 66/187 67/187 68/187 69/187 70/187 71/187 72/187 73/187 74/187 75/187 76/187 77/187 78/187 79/187 80/187 81/187 82/187 83/187 84/187 85/187 86/187 87/187 88/187 89/187 90/187 91/187 92/187 93/187 94/187 95/187 96/187 97/187 98/187 99/187 100/187 101/187 102/187 103/187 104/187 105/187 106/187 107/187 108/187 109/187 110/187 111/187 112/187 113/187 114/187 115/187 116/187 117/187 118/187 119/187 120/187 121/187 122/187 123/187 124/187 125/187 126/187 127/187 128/187 129/187 130/187 131/187 132/187 133/187 134/187 135/187 136/187 137/187 138/187 139/187 140/187 141/187 142/187 143/187 144/187 145/187 146/187 147/187 148/187 149/187 150/187 151/187 152/187 153/187 154/187 155/187 156/187 157/187 158/187 159/187 160/187 161/187 162/187 163/187 164/187 165/187 166/187 167/187 168/187 169/187 170/187 171/187 172/187 173/187 174/187 175/187 176/187 177/187 178/187 179/187 180/187 181/187 182/187 183/187 184/187 185/187 186/187 187/187 186\n"
     ]
    }
   ],
   "source": [
    "nt_condition = DATA['nt_condition']\n",
    "set_test = set(model.test_indices)\n",
    "\n",
    "true_genes = pd.DataFrame(adata_train.X, index=adata_train.obs.index, columns=adata_train.var.index)\n",
    "true_proteins = adata_train.obsm['protein_expression'].copy()\n",
    "scale_factors = np.array(np.sum(true_genes, axis=1)).ravel()\n",
    "mmm = gene_threshold(adata_train.X, gene_thr)\n",
    "\n",
    "test_bools = np.array([i in set_test for i in range(len(adata_train))])\n",
    "NT_cells = (adata_train.obs['batch'] == nt_condition) & test_bools\n",
    "scale_factors = scale_factors[NT_cells]\n",
    "\n",
    "r2genes, r2proteins, r2genes_de = [], [], []\n",
    "perts_tot = []\n",
    "\n",
    "perts = sorted(np.unique(adata_train.obs[\"batch\"]))\n",
    "for ind, perturbation in enumerate(perts):\n",
    "    print(f\"{ind + 1}/{len(perts)}\", end=' ')\n",
    "    \n",
    "    if perturbation != nt_condition:\n",
    "        ii = adata_train.obs[(adata_train.obs['batch'] == perturbation) & test_bools].index\n",
    "        \n",
    "        if len(ii) > 20:\n",
    "            perts_tot.append(perturbation)\n",
    "            \n",
    "            idx_de = adata_train.var.index.isin(adata_train.uns[\"rank_genes_groups_cov\"][perturbation]) & mmm\n",
    "            \n",
    "            # get perturbed batch from NT cells\n",
    "            gene_means, protein_means = model.get_normalized_expression(\n",
    "                indices=NT_cells, \n",
    "                transform_batch=perturbation,\n",
    "                include_protein_background=True,\n",
    "                sample_protein_mixing=False,\n",
    "                return_mean=True,\n",
    "                scale_protein=False,\n",
    "            )\n",
    "            gene_means = (gene_means.T * scale_factors).T\n",
    "        \n",
    "            # get true perturbed cells\n",
    "            ii_p = true_proteins.loc[ii]\n",
    "            ii_g = true_genes.loc[ii]\n",
    "\n",
    "            # Get mean value for each gene for a given perturbation\n",
    "            predicted_genes_mean = gene_means.to_numpy().mean(0)\n",
    "            predicted_proteins_mean = protein_means.to_numpy().mean(0)\n",
    "            true_genes_mean = ii_g.to_numpy().mean(0)\n",
    "            true_proteins_mean = ii_p.to_numpy().mean(0)\n",
    "\n",
    "            # Calculate r^2 score for both\n",
    "            r2genes.append(r2_score(true_genes_mean[mmm], predicted_genes_mean[mmm]))\n",
    "            r2proteins.append(r2_score(true_proteins_mean, predicted_proteins_mean))\n",
    "            r2genes_de.append(r2_score(true_genes_mean[idx_de], predicted_genes_mean[idx_de]))\n",
    "            \n",
    "print(ind)"
   ]
  },
  {
   "cell_type": "code",
   "execution_count": 33,
   "id": "d94dfad8-4eb9-4603-a994-d7d6a9bdae2f",
   "metadata": {
    "pycharm": {
     "name": "#%%\n"
    }
   },
   "outputs": [
    {
     "name": "stdout",
     "output_type": "stream",
     "text": [
      "186\n"
     ]
    }
   ],
   "source": [
    "dataset = cm_datasets[\"test_treated\"]\n",
    "genes_control = cm_datasets[\"test_control\"].raw_genes\n",
    "proteins_control = cm_datasets[\"test_control\"].raw_proteins\n",
    "num, dim_genes = genes_control.size(0), genes_control.size(1)\n",
    "dim_proteins = proteins_control.size(1)\n",
    "assert np.all(cm_datasets[\"test_control\"].var_names == adata.var.index) # for mm consistency\n",
    "mmm = gene_threshold(adata.X, gene_thr)\n",
    "\n",
    "mean_score_proteins = []\n",
    "mean_score_genes = []\n",
    "mean_score_genes_de = []\n",
    "perts_mul = []\n",
    "for pert_category in sorted(np.unique(dataset.pert_categories)):\n",
    "    de_idx = np.where(dataset.var_names[mmm].isin(np.array(dataset.de_genes[pert_category])))[0]\n",
    "    idx = np.where(dataset.pert_categories == pert_category)[0]\n",
    "    \n",
    "    if len(idx) > 20:\n",
    "        perts_mul.append(pert_category)\n",
    "        \n",
    "        emb_drugs = dataset.drugs[idx][0].view(1, -1).repeat(num, 1).clone()\n",
    "        emb_cts = dataset.cell_types[idx][0].view(1, -1).repeat(num, 1).clone()\n",
    "\n",
    "        gene_predictions, protein_predictions = cm_autoencoder.predict(genes_control, emb_drugs, emb_cts, proteins_control)\n",
    "        gene_predictions = gene_predictions.detach().cpu()\n",
    "        protein_predictions = protein_predictions.detach().cpu()\n",
    "\n",
    "        mean_predict_genes = gene_predictions[:, :dim_genes]\n",
    "        mean_predict_proteins = protein_predictions[:, :dim_proteins]\n",
    "\n",
    "        y_true_genes = dataset.raw_genes[idx, :].numpy()\n",
    "        yt_m_genes = y_true_genes.mean(axis=0)\n",
    "        yp_m_genes = np.array(mean_predict_genes.mean(0))\n",
    "        mean_score_genes.append(r2_score(yt_m_genes[mmm], yp_m_genes[mmm]))\n",
    "        mean_score_genes_de.append(r2_score(yt_m_genes[de_idx], yp_m_genes[de_idx]))\n",
    "\n",
    "        y_true_proteins = dataset.raw_proteins[idx, :].numpy()\n",
    "        yt_m_proteins = y_true_proteins.mean(axis=0)\n",
    "        yp_m_proteins = mean_predict_proteins.mean(0)\n",
    "        mean_score_proteins.append(r2_score(yt_m_proteins, yp_m_proteins))\n",
    "        \n",
    "print(ind)"
   ]
  },
  {
   "cell_type": "code",
   "execution_count": 34,
   "id": "54a9c296-1902-4aa6-9209-9f88f42c005f",
   "metadata": {
    "pycharm": {
     "name": "#%%\n"
    }
   },
   "outputs": [
    {
     "name": "stdout",
     "output_type": "stream",
     "text": [
      "[ True  True  True  True  True  True  True  True  True  True  True  True\n",
      "  True  True  True  True  True  True  True  True  True  True  True  True\n",
      "  True  True  True  True  True  True  True  True  True  True  True  True\n",
      "  True  True  True  True]\n",
      "True\n"
     ]
    }
   ],
   "source": [
    "perts_mul_filter = [i in perts_tot for i in perts_mul]\n",
    "perts_tot_filter = [i in perts_mul for i in perts_tot]\n",
    "perts_mul = list(compress(perts_mul, perts_mul_filter))\n",
    "perts_tot = list(compress(perts_tot, perts_tot_filter)) \n",
    "print(np.array(perts_tot) == np.array(perts_mul))\n",
    "print(np.all(np.array(perts_tot) == np.array(perts_mul)))"
   ]
  },
  {
   "cell_type": "code",
   "execution_count": 35,
   "id": "d48fc425-3ac1-4380-91d0-4e703f859d02",
   "metadata": {
    "pycharm": {
     "name": "#%%\n"
    }
   },
   "outputs": [],
   "source": [
    "r2genes = list(compress(r2genes, perts_tot_filter)) \n",
    "r2genes_de = list(compress(r2genes_de, perts_tot_filter)) \n",
    "r2proteins = list(compress(r2proteins, perts_tot_filter)) \n",
    "mean_score_genes = list(compress(mean_score_genes, perts_mul_filter))\n",
    "mean_score_genes_de = list(compress(mean_score_genes_de, perts_mul_filter))\n",
    "mean_score_proteins = list(compress(mean_score_proteins, perts_mul_filter))"
   ]
  },
  {
   "cell_type": "code",
   "execution_count": 36,
   "id": "c2ca7daa-a4ae-4155-b1a7-910ff1c1d354",
   "metadata": {
    "pycharm": {
     "name": "#%%\n"
    }
   },
   "outputs": [
    {
     "name": "stdout",
     "output_type": "stream",
     "text": [
      "0.9145235719220024\n",
      "0.8631998480584182\n",
      "0.9856835318790356\n"
     ]
    }
   ],
   "source": [
    "tot_genes = np.mean(r2genes)\n",
    "tot_genes_de = np.mean(r2genes_de)\n",
    "tot_proteins = np.mean(r2proteins)\n",
    "\n",
    "print(tot_genes)\n",
    "print(tot_genes_de)\n",
    "print(tot_proteins)"
   ]
  },
  {
   "cell_type": "code",
   "execution_count": 37,
   "id": "a0deada5-00b3-4013-ad04-2ea14a0d2546",
   "metadata": {
    "pycharm": {
     "name": "#%%\n"
    }
   },
   "outputs": [
    {
     "name": "stdout",
     "output_type": "stream",
     "text": [
      "0.9476191554518312\n",
      "0.8951870651493008\n",
      "0.984176392172212\n"
     ]
    }
   ],
   "source": [
    "mulp_genes = np.mean(mean_score_genes)\n",
    "mulp_genes_de = np.mean(mean_score_genes_de)\n",
    "mulp_proteins = np.mean(mean_score_proteins)\n",
    "\n",
    "print(mulp_genes)\n",
    "print(mulp_genes_de)\n",
    "print(mulp_proteins)"
   ]
  },
  {
   "cell_type": "code",
   "execution_count": 38,
   "id": "2bf51e33-6a8a-420b-8a33-34cb1147f140",
   "metadata": {
    "pycharm": {
     "name": "#%%\n"
    }
   },
   "outputs": [],
   "source": [
    "if False:\n",
    "    plt.subplots(figsize=(8, 4))\n",
    "    plt.subplot(1, 2, 1)\n",
    "    plt.title(f\"TotalVI Genes r$^2$ Score\\n{perturbation}\")\n",
    "    plt.scatter(true_genes_mean[mmm], predicted_genes_mean[mmm])\n",
    "    plt.xlabel(\"True\"); plt.ylabel(\"Predicted\")\n",
    "    plt.subplot(1, 2, 2)\n",
    "    plt.title(f\"TotalVI Proteins r$^2$ Score\\n{perturbation}\")\n",
    "    plt.scatter(true_proteins_mean, predicted_proteins_mean)\n",
    "    plt.xlabel(\"True\"); plt.ylabel(\"Predicted\")\n",
    "    plt.tight_layout()\n",
    "    plt.show()\n",
    "\n",
    "    plt.subplots(figsize=(8, 4))\n",
    "    plt.subplot(1, 2, 1)\n",
    "    plt.title(f\"MulPert Genes r$^2$ Score\\n{pert_category}\")\n",
    "    plt.scatter(yt_m_genes[mmm], yp_m_genes[mmm])\n",
    "    plt.xlabel(\"True\"); plt.ylabel(\"Predicted\")\n",
    "    plt.subplot(1, 2, 2)\n",
    "    plt.title(f\"MulPert Proteins r$^2$ Score\\n{pert_category}\")\n",
    "    plt.scatter(yt_m_proteins, yp_m_proteins)\n",
    "    plt.xlabel(\"True\"); plt.ylabel(\"Predicted\")\n",
    "    plt.tight_layout()\n",
    "    plt.show()"
   ]
  },
  {
   "cell_type": "code",
   "execution_count": 39,
   "id": "1ec3e520-fee0-4c8a-9185-d97868c79124",
   "metadata": {
    "pycharm": {
     "name": "#%%\n"
    }
   },
   "outputs": [
    {
     "data": {
      "image/png": "[encoded data removed]",
      "text/plain": [
       "<Figure size 864x288 with 3 Axes>"
      ]
     },
     "metadata": {
      "image/png": {
       "height": 279,
       "width": 856
      },
      "needs_background": "light"
     },
     "output_type": "display_data"
    }
   ],
   "source": [
    "plt.subplots(figsize=(12, 4))\n",
    "plt.subplot(1, 3, 1)\n",
    "plt.title(f\"Genes r$^2$ Scores\")\n",
    "plt.scatter(r2genes, mean_score_genes)\n",
    "plt.xlabel(\"TotalVI\"); plt.ylabel(\"MulPert\")\n",
    "\n",
    "plt.subplot(1, 3, 2)\n",
    "plt.title(f\"DE Genes r$^2$ Scores\")\n",
    "plt.scatter(r2genes_de, mean_score_genes_de)\n",
    "plt.xlabel(\"TotalVI\"); plt.ylabel(\"MulPert\")\n",
    "\n",
    "plt.subplot(1, 3, 3)\n",
    "plt.title(f\"Proteins r$^2$ Scores\")\n",
    "plt.scatter(r2proteins, mean_score_proteins)\n",
    "plt.xlabel(\"TotalVI\"); plt.ylabel(\"MulPert\")\n",
    "plt.tight_layout()\n",
    "plt.show()"
   ]
  },
  {
   "cell_type": "code",
   "execution_count": 40,
   "id": "20f2d13d-0a36-4e2c-a51d-368d7768c49c",
   "metadata": {
    "pycharm": {
     "name": "#%%\n"
    }
   },
   "outputs": [],
   "source": [
    "df_tot = pd.DataFrame([perts_tot, r2genes, r2genes_de, r2proteins]).T\n",
    "df_mul = pd.DataFrame([perts_mul, mean_score_genes, mean_score_genes_de, mean_score_proteins]).T\n",
    "df_cols_ = [\"Perturbation\", \"All Genes\", \"DE Genes\", \"Proteins\"]\n",
    "df_tot.columns = df_cols_\n",
    "df_mul.columns = df_cols_\n",
    "df_tot[\"Model\"] = \"TotalVI\"\n",
    "df_mul[\"Model\"] = \"MultiCPA\"\n",
    "df_all = pd.concat([df_tot, df_mul])\n",
    "df_all[\"Dataset\"] = DATA['raw_dir_name']"
   ]
  },
  {
   "cell_type": "code",
   "execution_count": 41,
   "id": "763929df-37b9-429e-a838-139a083e650e",
   "metadata": {
    "pycharm": {
     "name": "#%%\n"
    }
   },
   "outputs": [],
   "source": [
    "#run all above first papalexi then wessel, do not run this block in wessel\n",
    "if DATA['raw_dir_name'] == 'Papalexi2021':\n",
    "    df_all_papalexi = df_all.copy()\n",
    "elif DATA['raw_dir_name'] == 'Wessel2022':\n",
    "    df_all_wessel = df_all.copy()"
   ]
  },
  {
   "cell_type": "code",
   "execution_count": 42,
   "id": "16b92919-747e-4628-8da4-585c69505529",
   "metadata": {
    "pycharm": {
     "name": "#%%\n"
    }
   },
   "outputs": [],
   "source": [
    "df = pd.concat([df_all_wessel, df_all_papalexi])\n",
    "df.reset_index(inplace=True, drop=True)"
   ]
  },
  {
   "cell_type": "code",
   "execution_count": 43,
   "id": "e2e03917-71f0-4751-833a-af72010d4cd6",
   "metadata": {
    "pycharm": {
     "name": "#%%\n"
    }
   },
   "outputs": [],
   "source": [
    "df_ = pd.DataFrame()\n",
    "for m in [\"All Genes\", \"DE Genes\", \"Proteins\"]:\n",
    "    df_a = df[['Perturbation', 'Model', 'Dataset', m]]\n",
    "    df_a.columns = ['Perturbation', 'Model', 'Dataset', 'Score']\n",
    "    with warnings.catch_warnings():\n",
    "        warnings.filterwarnings(\"ignore\")\n",
    "        df_a['Feature Set'] = m\n",
    "    df_ = pd.concat([df_, df_a])\n",
    "df = df_.copy()\n",
    "del df_\n",
    "df.reset_index(inplace=True, drop=True)\n",
    "df[\"Dataset\"] = df[\"Dataset\"].replace({'Wessel2022': 'Wessels2022'})"
   ]
  },
  {
   "cell_type": "code",
   "execution_count": 44,
   "id": "5c9f5f1d-2b36-4cb6-8780-6ab1ca5e3873",
   "metadata": {
    "pycharm": {
     "name": "#%%\n"
    }
   },
   "outputs": [
    {
     "data": {
      "text/html": [
       "<div>\n",
       "<style scoped>\n",
       "    .dataframe tbody tr th:only-of-type {\n",
       "        vertical-align: middle;\n",
       "    }\n",
       "\n",
       "    .dataframe tbody tr th {\n",
       "        vertical-align: top;\n",
       "    }\n",
       "\n",
       "    .dataframe thead th {\n",
       "        text-align: right;\n",
       "    }\n",
       "</style>\n",
       "<table border=\"1\" class=\"dataframe\">\n",
       "  <thead>\n",
       "    <tr style=\"text-align: right;\">\n",
       "      <th></th>\n",
       "      <th>Perturbation</th>\n",
       "      <th>Model</th>\n",
       "      <th>Dataset</th>\n",
       "      <th>Score</th>\n",
       "      <th>Feature Set</th>\n",
       "    </tr>\n",
       "  </thead>\n",
       "  <tbody>\n",
       "    <tr>\n",
       "      <th>0</th>\n",
       "      <td>THP-1_DOT1L+HDAC3_1+1</td>\n",
       "      <td>TotalVI</td>\n",
       "      <td>Wessels2022</td>\n",
       "      <td>0.989858</td>\n",
       "      <td>All Genes</td>\n",
       "    </tr>\n",
       "    <tr>\n",
       "      <th>1</th>\n",
       "      <td>THP-1_DOT1L+INTS1_1+1</td>\n",
       "      <td>TotalVI</td>\n",
       "      <td>Wessels2022</td>\n",
       "      <td>0.988128</td>\n",
       "      <td>All Genes</td>\n",
       "    </tr>\n",
       "    <tr>\n",
       "      <th>2</th>\n",
       "      <td>THP-1_DOT1L+MED24_1+1</td>\n",
       "      <td>TotalVI</td>\n",
       "      <td>Wessels2022</td>\n",
       "      <td>0.934873</td>\n",
       "      <td>All Genes</td>\n",
       "    </tr>\n",
       "    <tr>\n",
       "      <th>3</th>\n",
       "      <td>THP-1_DOT1L+SMARCD1_1+1</td>\n",
       "      <td>TotalVI</td>\n",
       "      <td>Wessels2022</td>\n",
       "      <td>0.946844</td>\n",
       "      <td>All Genes</td>\n",
       "    </tr>\n",
       "    <tr>\n",
       "      <th>4</th>\n",
       "      <td>THP-1_EP300+HDAC3_1+1</td>\n",
       "      <td>TotalVI</td>\n",
       "      <td>Wessels2022</td>\n",
       "      <td>0.982269</td>\n",
       "      <td>All Genes</td>\n",
       "    </tr>\n",
       "    <tr>\n",
       "      <th>...</th>\n",
       "      <td>...</td>\n",
       "      <td>...</td>\n",
       "      <td>...</td>\n",
       "      <td>...</td>\n",
       "      <td>...</td>\n",
       "    </tr>\n",
       "    <tr>\n",
       "      <th>373</th>\n",
       "      <td>THP-1_STAT2_1.0</td>\n",
       "      <td>MultiCPA</td>\n",
       "      <td>Papalexi2021</td>\n",
       "      <td>0.991131</td>\n",
       "      <td>Proteins</td>\n",
       "    </tr>\n",
       "    <tr>\n",
       "      <th>374</th>\n",
       "      <td>THP-1_STAT3_1.0</td>\n",
       "      <td>MultiCPA</td>\n",
       "      <td>Papalexi2021</td>\n",
       "      <td>0.997176</td>\n",
       "      <td>Proteins</td>\n",
       "    </tr>\n",
       "    <tr>\n",
       "      <th>375</th>\n",
       "      <td>THP-1_STAT5A_1.0</td>\n",
       "      <td>MultiCPA</td>\n",
       "      <td>Papalexi2021</td>\n",
       "      <td>0.996926</td>\n",
       "      <td>Proteins</td>\n",
       "    </tr>\n",
       "    <tr>\n",
       "      <th>376</th>\n",
       "      <td>THP-1_TNFRSF14_1.0</td>\n",
       "      <td>MultiCPA</td>\n",
       "      <td>Papalexi2021</td>\n",
       "      <td>0.997537</td>\n",
       "      <td>Proteins</td>\n",
       "    </tr>\n",
       "    <tr>\n",
       "      <th>377</th>\n",
       "      <td>THP-1_UBE2L6_1.0</td>\n",
       "      <td>MultiCPA</td>\n",
       "      <td>Papalexi2021</td>\n",
       "      <td>0.999241</td>\n",
       "      <td>Proteins</td>\n",
       "    </tr>\n",
       "  </tbody>\n",
       "</table>\n",
       "<p>378 rows × 5 columns</p>\n",
       "</div>"
      ],
      "text/plain": [
       "                Perturbation     Model       Dataset     Score Feature Set\n",
       "0      THP-1_DOT1L+HDAC3_1+1   TotalVI   Wessels2022  0.989858   All Genes\n",
       "1      THP-1_DOT1L+INTS1_1+1   TotalVI   Wessels2022  0.988128   All Genes\n",
       "2      THP-1_DOT1L+MED24_1+1   TotalVI   Wessels2022  0.934873   All Genes\n",
       "3    THP-1_DOT1L+SMARCD1_1+1   TotalVI   Wessels2022  0.946844   All Genes\n",
       "4      THP-1_EP300+HDAC3_1+1   TotalVI   Wessels2022  0.982269   All Genes\n",
       "..                       ...       ...           ...       ...         ...\n",
       "373          THP-1_STAT2_1.0  MultiCPA  Papalexi2021  0.991131    Proteins\n",
       "374          THP-1_STAT3_1.0  MultiCPA  Papalexi2021  0.997176    Proteins\n",
       "375         THP-1_STAT5A_1.0  MultiCPA  Papalexi2021  0.996926    Proteins\n",
       "376       THP-1_TNFRSF14_1.0  MultiCPA  Papalexi2021  0.997537    Proteins\n",
       "377         THP-1_UBE2L6_1.0  MultiCPA  Papalexi2021  0.999241    Proteins\n",
       "\n",
       "[378 rows x 5 columns]"
      ]
     },
     "execution_count": 44,
     "metadata": {},
     "output_type": "execute_result"
    }
   ],
   "source": [
    "df"
   ]
  },
  {
   "cell_type": "markdown",
   "id": "059cb5f2-eac0-4973-bf6b-1c6d5c83bc17",
   "metadata": {
    "pycharm": {
     "name": "#%% md\n"
    },
    "tags": []
   },
   "source": [
    "#### Plotting"
   ]
  },
  {
   "cell_type": "code",
   "execution_count": 61,
   "id": "de545b10-400a-41a4-9ea6-f57746950703",
   "metadata": {
    "pycharm": {
     "name": "#%%\n"
    }
   },
   "outputs": [
    {
     "name": "stdout",
     "output_type": "stream",
     "text": [
      "test\n"
     ]
    },
    {
     "data": {
      "image/png": "[encoded data removed]",
      "text/plain": [
       "<Figure size 288x252 with 1 Axes>"
      ]
     },
     "metadata": {
      "image/png": {
       "height": 246,
       "width": 278
      },
      "needs_background": "light"
     },
     "output_type": "display_data"
    },
    {
     "data": {
      "image/png": "[encoded data removed]",
      "text/plain": [
       "<Figure size 288x252 with 1 Axes>"
      ]
     },
     "metadata": {
      "image/png": {
       "height": 246,
       "width": 278
      },
      "needs_background": "light"
     },
     "output_type": "display_data"
    }
   ],
   "source": [
    "print('test')\n",
    "for dataset in ['Papalexi2021', 'Wessels2022']:\n",
    "    with plt.rc_context({\n",
    "    \"axes.spines.right\": False,\n",
    "    \"axes.spines.top\": False,\n",
    "    }):\n",
    "        plt.figure(figsize=(4, 3.5))\n",
    "        g = sns.barplot(data=df[df['Dataset'] == dataset], y=\"Score\", x=\"Feature Set\", hue=\"Model\", \n",
    "                        palette=\"gray\")\n",
    "        sns.move_legend(g, \"lower right\")\n",
    "        plt.ylabel(\"r$^2$ Score\")\n",
    "        plt.ylim(0.7, 1.0)\n",
    "        #plt.title(dataset, pad=32)\n",
    "        plt.tight_layout()\n",
    "        plt.savefig(f'figures/totalvi_comparison_{dataset}.pdf')"
   ]
  },
  {
   "cell_type": "markdown",
   "id": "94e209e6-ce3d-4ee8-bf0b-99f7630b150f",
   "metadata": {
    "pycharm": {
     "name": "#%% md\n"
    },
    "tags": []
   },
   "source": [
    "## Baseline Vol 2: How well tolerate Gene removal (after trained)"
   ]
  },
  {
   "cell_type": "code",
   "execution_count": 49,
   "id": "fe12f81c-0945-47f5-b2f7-21bc7bcb0eaa",
   "metadata": {
    "pycharm": {
     "name": "#%%\n"
    }
   },
   "outputs": [],
   "source": [
    "import logging\n",
    "logging.getLogger('scvi').setLevel(logging.WARNING)"
   ]
  },
  {
   "cell_type": "code",
   "execution_count": 14,
   "id": "9801affe-fc76-471d-ab38-2d21caa30cc9",
   "metadata": {
    "pycharm": {
     "name": "#%%\n"
    }
   },
   "outputs": [
    {
     "name": "stdout",
     "output_type": "stream",
     "text": [
      "ok\n"
     ]
    }
   ],
   "source": [
    "def delete_percent(percentage_gene, percentage_protein):\n",
    "    print(f\"%{percentage_gene}G%{percentage_protein}P\", end=', ')\n",
    "\n",
    "    adata_raw = model.adata.X.copy()\n",
    "    adata_raw_obsm = adata_train.obsm['protein_expression'].copy()\n",
    "\n",
    "    def random_select_gene(gene_array, perc, seed=0):\n",
    "        np.random.seed(perc + seed)\n",
    "        a = np.arange(len(gene_array))\n",
    "        np.random.shuffle(a)\n",
    "        how_many = int(np.ceil(len(gene_array) / 100 * perc))\n",
    "        return gene_array[a[:how_many]]\n",
    "\n",
    "    def random_select_protein(protein_array, perc, seed=0):\n",
    "        np.random.seed(perc + seed)\n",
    "        a = np.arange(len(protein_array))\n",
    "        np.random.shuffle(a)\n",
    "        how_many = int(np.ceil(len(protein_array) / 100 * perc))\n",
    "        return protein_array[a[:how_many]]\n",
    "    \n",
    "    nt_condition = DATA['nt_condition']\n",
    "    set_test = set(model.test_indices)\n",
    "\n",
    "    true_genes = pd.DataFrame(adata_train.X, index=adata_train.obs.index, columns=adata_train.var.index)\n",
    "    true_proteins = adata_train.obsm['protein_expression'].copy()\n",
    "    scale_factors = np.array(np.sum(true_genes, axis=1)).ravel()\n",
    "\n",
    "    test_bools = np.array([i in set_test for i in range(len(adata_train))])\n",
    "    NT_cells = (adata_train.obs['batch'] == nt_condition) & test_bools\n",
    "    scale_factors = scale_factors[NT_cells]\n",
    "\n",
    "    r2genes, r2proteins, r2genes_de = [], [], []\n",
    "    perts_tot = []\n",
    "\n",
    "    perts = sorted(np.unique(adata_train.obs[\"batch\"]))\n",
    "    for ind, perturbation in enumerate(perts):\n",
    "        #print(f\"{ind + 1}/{len(perts)}\", end=' ')\n",
    "\n",
    "        if perturbation != nt_condition:\n",
    "            ii = adata_train.obs[(adata_train.obs['batch'] == perturbation) & test_bools].index\n",
    "            if len(ii) > 20:\n",
    "                perts_tot.append(perturbation)\n",
    "\n",
    "                #modify adata_train\n",
    "                #genes_to_process = adata_train.uns[\"rank_genes_groups_cov\"][perturbation]\n",
    "                genes_to_process = adata_train.var.index\n",
    "                genes_to_remove = random_select_gene(genes_to_process, percentage_gene)\n",
    "                model.adata[:, genes_to_remove] = np.zeros((len(adata_train), len(genes_to_remove)))\n",
    "                \n",
    "                proteins_to_process = model.adata.obsm[\"protein_expression\"].columns\n",
    "                proteins_to_remove = random_select_protein(proteins_to_process, percentage_protein)\n",
    "                model.adata.obsm['protein_expression'].loc[:, proteins_to_remove] = np.zeros_like(model.adata.obsm['protein_expression'].loc[:, proteins_to_remove])\n",
    "\n",
    "                idx_de = adata_train.var.index.isin(adata_train.uns[\"rank_genes_groups_cov\"][perturbation])\n",
    "\n",
    "                # get perturbed batch from NT cells\n",
    "                with contextlib.redirect_stdout(None):\n",
    "                    gene_means, protein_means = model.get_normalized_expression(\n",
    "                        indices=NT_cells, \n",
    "                        transform_batch=perturbation,\n",
    "                        include_protein_background=True,\n",
    "                        sample_protein_mixing=False,\n",
    "                        return_mean=True,\n",
    "                        scale_protein=False,\n",
    "                    )\n",
    "                gene_means = (gene_means.T * scale_factors).T\n",
    "\n",
    "                # get true perturbed cells\n",
    "                ii_p = true_proteins.loc[ii]\n",
    "                ii_g = true_genes.loc[ii]\n",
    "\n",
    "                # Get mean value for each gene for a given perturbation\n",
    "                predicted_genes_mean = gene_means.to_numpy().mean(0)\n",
    "                predicted_proteins_mean = protein_means.to_numpy().mean(0)\n",
    "                true_genes_mean = ii_g.to_numpy().mean(0)\n",
    "                true_proteins_mean = ii_p.to_numpy().mean(0)\n",
    "\n",
    "                # Calculate r^2 score for both\n",
    "                r2genes.append(r2_score(predicted_genes_mean, true_genes_mean))\n",
    "                r2proteins.append(r2_score(predicted_proteins_mean, true_proteins_mean))\n",
    "                r2genes_de.append(r2_score(predicted_genes_mean[idx_de], true_genes_mean[idx_de]))\n",
    "\n",
    "                model.adata.X = adata_raw.copy()\n",
    "                adata_train.obsm['protein_expression'] = adata_raw_obsm.copy()\n",
    "    del adata_raw, adata_raw_obsm\n",
    "        \n",
    "    # For Mulpert\n",
    "    dataset = cm_datasets[\"test_treated\"]\n",
    "    genes_control = cm_datasets[\"test_control\"].raw_genes.clone()\n",
    "    proteins_control = cm_datasets[\"test_control\"].raw_proteins.clone()\n",
    "\n",
    "    num, dim_genes = genes_control.size(0), genes_control.size(1)\n",
    "    dim_proteins = proteins_control.size(1)\n",
    "\n",
    "    genes_control_original = cm_datasets[\"test_control\"].raw_genes.clone()\n",
    "    proteins_control_original = cm_datasets[\"test_control\"].raw_proteins.clone()\n",
    "\n",
    "    def random_select_gene(len_gene_array, perc, seed=0):\n",
    "        np.random.seed(perc + seed)\n",
    "        a = np.arange(len_gene_array)\n",
    "        np.random.shuffle(a)\n",
    "        how_many = int(np.ceil(len_gene_array / 100 * perc))\n",
    "        return a[:how_many]\n",
    "\n",
    "    def random_select_protein(len_protein_array, perc, seed=0):\n",
    "        np.random.seed(perc + seed)\n",
    "        a = np.arange(len_protein_array)\n",
    "        np.random.shuffle(a)\n",
    "        how_many = int(np.ceil(len_protein_array / 100 * perc))\n",
    "        return a[:how_many]\n",
    "\n",
    "    mean_score_proteins = []\n",
    "    mean_score_genes = []\n",
    "    mean_score_genes_de = []\n",
    "    perts_mul = []\n",
    "    for ind, pert_category in enumerate(sorted(np.unique(dataset.pert_categories))):\n",
    "        de_idx = np.where(dataset.var_names.isin(np.array(dataset.de_genes[pert_category])))[0]\n",
    "        idx = np.where(dataset.pert_categories == pert_category)[0]\n",
    "        if len(idx) > 20:\n",
    "\n",
    "            perts_mul.append(pert_category)\n",
    "            #print(f\"{ind + 1}/{len(np.unique(dataset.pert_categories))}\", end=' ')\n",
    "            emb_drugs = dataset.drugs[idx][0].view(1, -1).repeat(num, 1).clone()\n",
    "            emb_cts = dataset.cell_types[idx][0].view(1, -1).repeat(num, 1).clone()\n",
    "\n",
    "            # modify gene_control here\n",
    "            genes_to_remove = random_select_gene(len(adata.var.index), percentage_gene)\n",
    "            genes_control_ = genes_control.clone().numpy()\n",
    "            genes_control_[:, genes_to_remove] = np.zeros((len(genes_control_), len(genes_to_remove)))\n",
    "            genes_control = torch.Tensor(genes_control_)\n",
    "\n",
    "            proteins_to_remove = random_select_protein(len(adata.obsm[\"protein_expression\"].columns), percentage_protein)\n",
    "            proteins_control_ = proteins_control.clone().numpy()\n",
    "            proteins_control_[:, proteins_to_remove] = np.zeros((len(proteins_control_), len(proteins_to_remove)))\n",
    "            proteins_control = torch.Tensor(proteins_control_)\n",
    "\n",
    "            #print(int(genes_control.clone().numpy().sum()))\n",
    "\n",
    "            gene_predictions, protein_predictions = cm_autoencoder.predict(genes_control, emb_drugs, emb_cts, proteins_control)\n",
    "            gene_predictions = gene_predictions.detach().cpu()\n",
    "            protein_predictions = protein_predictions.detach().cpu()\n",
    "\n",
    "            mean_predict_genes = gene_predictions[:, :dim_genes]\n",
    "            mean_predict_proteins = protein_predictions[:, :dim_proteins]\n",
    "\n",
    "            y_true_genes = dataset.raw_genes[idx, :].numpy()\n",
    "            yt_m_genes = y_true_genes.mean(axis=0)\n",
    "            yp_m_genes = np.array(mean_predict_genes.mean(0))\n",
    "            mean_score_genes.append(r2_score(yt_m_genes, yp_m_genes))\n",
    "            mean_score_genes_de.append(r2_score(yt_m_genes[de_idx], yp_m_genes[de_idx]))\n",
    "\n",
    "            y_true_proteins = dataset.raw_proteins[idx, :].numpy()\n",
    "            yt_m_proteins = y_true_proteins.mean(axis=0)\n",
    "            yp_m_proteins = mean_predict_proteins.mean(0)\n",
    "            mean_score_proteins.append(r2_score(yt_m_proteins, yp_m_proteins))\n",
    "\n",
    "            genes_control = genes_control_original.clone()\n",
    "            proteins_control = proteins_control_original.clone()\n",
    "    del genes_control_original, proteins_control_original, genes_control, proteins_control     \n",
    "\n",
    "    perts_mul_filter = [i in perts_tot for i in perts_mul]\n",
    "    perts_tot_filter = [i in perts_mul for i in perts_tot]\n",
    "    perts_mul = list(compress(perts_mul, perts_mul_filter))\n",
    "    perts_tot = list(compress(perts_tot, perts_tot_filter)) \n",
    "\n",
    "    r2genes = list(compress(r2genes, perts_tot_filter)) \n",
    "    r2genes_de = list(compress(r2genes_de, perts_tot_filter)) \n",
    "    r2proteins = list(compress(r2proteins, perts_tot_filter)) \n",
    "    mean_score_genes = list(compress(mean_score_genes, perts_mul_filter))\n",
    "    mean_score_genes_de = list(compress(mean_score_genes_de, perts_mul_filter))\n",
    "    mean_score_proteins = list(compress(mean_score_proteins, perts_mul_filter))\n",
    "\n",
    "    df_tot = pd.DataFrame([perts_tot, r2genes, r2genes_de, r2proteins]).T\n",
    "    df_mul = pd.DataFrame([perts_mul, mean_score_genes, mean_score_genes_de, mean_score_proteins]).T\n",
    "    df_cols_ = [\"Perturbation\", \"Genes\", \"DE Genes\", \"Proteins\"]\n",
    "    df_tot.columns = df_cols_\n",
    "    df_mul.columns = df_cols_\n",
    "    df_tot[\"Model\"] = \"TotalVI\"\n",
    "    df_mul[\"Model\"] = \"MulPert\"\n",
    "    df_all = pd.concat([df_tot, df_mul])\n",
    "    df_all[\"Dataset\"] = DATA['raw_dir_name']\n",
    "\n",
    "    df_ = pd.DataFrame()\n",
    "    for m in [\"Genes\", \"DE Genes\", \"Proteins\"]:\n",
    "        df_a = df_all[['Perturbation', 'Model', 'Dataset', m]]\n",
    "        df_a.columns = ['Perturbation', 'Model', 'Dataset', 'Score']\n",
    "        with warnings.catch_warnings():\n",
    "            warnings.filterwarnings(\"ignore\")\n",
    "            df_a['Feature Set'] = m\n",
    "        df_ = pd.concat([df_, df_a])\n",
    "    df_all = df_.copy()\n",
    "    del df_\n",
    "    df_all.reset_index(inplace=True, drop=True)\n",
    "\n",
    "    with warnings.catch_warnings():\n",
    "        warnings.filterwarnings(\"ignore\")\n",
    "        df_all[\"Genes Removed Percantage\"] = percentage_gene\n",
    "        df_all[\"Proteins Removed Percantage\"] = percentage_protein\n",
    "    #torch.cuda.empty_cache()\n",
    "    #torch.clear_autocast_cache()\n",
    "    \n",
    "    return df_all\n",
    "print('ok')"
   ]
  },
  {
   "cell_type": "code",
   "execution_count": null,
   "id": "675ab8d9-0b7b-463c-948a-c023d63193c4",
   "metadata": {
    "pycharm": {
     "name": "#%%\n"
    }
   },
   "outputs": [],
   "source": [
    "# Run Papalexi First\n",
    "if DATA['raw_dir_name'] == 'Papalexi2021':\n",
    "    df_del = pd.DataFrame()\n",
    "else:\n",
    "    df_del = pd.read_pickle(f\"/home/icb/kemal.inecik/work/mulpert_totalvi_vs_mulpert_remove_percentages_papalexi_df.pk\")\n",
    "\n",
    "for i_del in list(range(0, 110, 10)):\n",
    "    for j_del in list(range(0, 110, 10)):\n",
    "        df_del_p = delete_percent(i_del, j_del)\n",
    "        df_del = pd.concat([df_del, df_del_p])\n",
    "df_del.reset_index(inplace=True, drop=True)\n",
    "df_del.to_pickle(f\"/home/icb/kemal.inecik/work/mulpert_totalvi_vs_mulpert_remove_percentages_df.pk\")"
   ]
  },
  {
   "cell_type": "code",
   "execution_count": 15,
   "id": "ac456830-dfc9-4ccd-85dc-c658d42f9e2d",
   "metadata": {
    "pycharm": {
     "name": "#%%\n"
    }
   },
   "outputs": [],
   "source": [
    "df_del = pd.read_pickle(f\"/home/icb/kemal.inecik/work/mulpert_totalvi_vs_mulpert_remove_percentages_df.pk\")"
   ]
  },
  {
   "cell_type": "code",
   "execution_count": 16,
   "id": "19282713-dfd8-405a-9dc7-c375aae608e5",
   "metadata": {
    "pycharm": {
     "name": "#%%\n"
    }
   },
   "outputs": [
    {
     "data": {
      "text/html": [
       "<div>\n",
       "<style scoped>\n",
       "    .dataframe tbody tr th:only-of-type {\n",
       "        vertical-align: middle;\n",
       "    }\n",
       "\n",
       "    .dataframe tbody tr th {\n",
       "        vertical-align: top;\n",
       "    }\n",
       "\n",
       "    .dataframe thead th {\n",
       "        text-align: right;\n",
       "    }\n",
       "</style>\n",
       "<table border=\"1\" class=\"dataframe\">\n",
       "  <thead>\n",
       "    <tr style=\"text-align: right;\">\n",
       "      <th></th>\n",
       "      <th>Perturbation</th>\n",
       "      <th>Model</th>\n",
       "      <th>Dataset</th>\n",
       "      <th>Score</th>\n",
       "      <th>Feature Set</th>\n",
       "      <th>Genes Removed Percantage</th>\n",
       "      <th>Proteins Removed Percantage</th>\n",
       "    </tr>\n",
       "  </thead>\n",
       "  <tbody>\n",
       "    <tr>\n",
       "      <th>0</th>\n",
       "      <td>THP-1_ATF2_1.0</td>\n",
       "      <td>TotalVI</td>\n",
       "      <td>Papalexi2021</td>\n",
       "      <td>0.991797</td>\n",
       "      <td>Genes</td>\n",
       "      <td>0</td>\n",
       "      <td>0</td>\n",
       "    </tr>\n",
       "    <tr>\n",
       "      <th>1</th>\n",
       "      <td>THP-1_BRD4_1.0</td>\n",
       "      <td>TotalVI</td>\n",
       "      <td>Papalexi2021</td>\n",
       "      <td>0.959766</td>\n",
       "      <td>Genes</td>\n",
       "      <td>0</td>\n",
       "      <td>0</td>\n",
       "    </tr>\n",
       "    <tr>\n",
       "      <th>2</th>\n",
       "      <td>THP-1_CAV1_1.0</td>\n",
       "      <td>TotalVI</td>\n",
       "      <td>Papalexi2021</td>\n",
       "      <td>0.986483</td>\n",
       "      <td>Genes</td>\n",
       "      <td>0</td>\n",
       "      <td>0</td>\n",
       "    </tr>\n",
       "    <tr>\n",
       "      <th>3</th>\n",
       "      <td>THP-1_CD86_1.0</td>\n",
       "      <td>TotalVI</td>\n",
       "      <td>Papalexi2021</td>\n",
       "      <td>0.98844</td>\n",
       "      <td>Genes</td>\n",
       "      <td>0</td>\n",
       "      <td>0</td>\n",
       "    </tr>\n",
       "    <tr>\n",
       "      <th>4</th>\n",
       "      <td>THP-1_CMTM6_1.0</td>\n",
       "      <td>TotalVI</td>\n",
       "      <td>Papalexi2021</td>\n",
       "      <td>0.990815</td>\n",
       "      <td>Genes</td>\n",
       "      <td>0</td>\n",
       "      <td>0</td>\n",
       "    </tr>\n",
       "    <tr>\n",
       "      <th>...</th>\n",
       "      <td>...</td>\n",
       "      <td>...</td>\n",
       "      <td>...</td>\n",
       "      <td>...</td>\n",
       "      <td>...</td>\n",
       "      <td>...</td>\n",
       "      <td>...</td>\n",
       "    </tr>\n",
       "    <tr>\n",
       "      <th>45733</th>\n",
       "      <td>THP-1_MED22+MED24_1+1</td>\n",
       "      <td>MulPert</td>\n",
       "      <td>Wessel2022</td>\n",
       "      <td>0.94638</td>\n",
       "      <td>Proteins</td>\n",
       "      <td>100</td>\n",
       "      <td>100</td>\n",
       "    </tr>\n",
       "    <tr>\n",
       "      <th>45734</th>\n",
       "      <td>THP-1_MED24+SMARCD1_1+1</td>\n",
       "      <td>MulPert</td>\n",
       "      <td>Wessel2022</td>\n",
       "      <td>0.988121</td>\n",
       "      <td>Proteins</td>\n",
       "      <td>100</td>\n",
       "      <td>100</td>\n",
       "    </tr>\n",
       "    <tr>\n",
       "      <th>45735</th>\n",
       "      <td>THP-1_MED24+VPRBP_1+1</td>\n",
       "      <td>MulPert</td>\n",
       "      <td>Wessel2022</td>\n",
       "      <td>0.991937</td>\n",
       "      <td>Proteins</td>\n",
       "      <td>100</td>\n",
       "      <td>100</td>\n",
       "    </tr>\n",
       "    <tr>\n",
       "      <th>45736</th>\n",
       "      <td>THP-1_SUPT16H+SUPT5H_1+1</td>\n",
       "      <td>MulPert</td>\n",
       "      <td>Wessel2022</td>\n",
       "      <td>0.961626</td>\n",
       "      <td>Proteins</td>\n",
       "      <td>100</td>\n",
       "      <td>100</td>\n",
       "    </tr>\n",
       "    <tr>\n",
       "      <th>45737</th>\n",
       "      <td>THP-1_SUPT5H+SUPT6H_1+1</td>\n",
       "      <td>MulPert</td>\n",
       "      <td>Wessel2022</td>\n",
       "      <td>0.97956</td>\n",
       "      <td>Proteins</td>\n",
       "      <td>100</td>\n",
       "      <td>100</td>\n",
       "    </tr>\n",
       "  </tbody>\n",
       "</table>\n",
       "<p>45738 rows × 7 columns</p>\n",
       "</div>"
      ],
      "text/plain": [
       "                   Perturbation    Model       Dataset     Score Feature Set  \\\n",
       "0                THP-1_ATF2_1.0  TotalVI  Papalexi2021  0.991797       Genes   \n",
       "1                THP-1_BRD4_1.0  TotalVI  Papalexi2021  0.959766       Genes   \n",
       "2                THP-1_CAV1_1.0  TotalVI  Papalexi2021  0.986483       Genes   \n",
       "3                THP-1_CD86_1.0  TotalVI  Papalexi2021   0.98844       Genes   \n",
       "4               THP-1_CMTM6_1.0  TotalVI  Papalexi2021  0.990815       Genes   \n",
       "...                         ...      ...           ...       ...         ...   \n",
       "45733     THP-1_MED22+MED24_1+1  MulPert    Wessel2022   0.94638    Proteins   \n",
       "45734   THP-1_MED24+SMARCD1_1+1  MulPert    Wessel2022  0.988121    Proteins   \n",
       "45735     THP-1_MED24+VPRBP_1+1  MulPert    Wessel2022  0.991937    Proteins   \n",
       "45736  THP-1_SUPT16H+SUPT5H_1+1  MulPert    Wessel2022  0.961626    Proteins   \n",
       "45737   THP-1_SUPT5H+SUPT6H_1+1  MulPert    Wessel2022   0.97956    Proteins   \n",
       "\n",
       "       Genes Removed Percantage  Proteins Removed Percantage  \n",
       "0                             0                            0  \n",
       "1                             0                            0  \n",
       "2                             0                            0  \n",
       "3                             0                            0  \n",
       "4                             0                            0  \n",
       "...                         ...                          ...  \n",
       "45733                       100                          100  \n",
       "45734                       100                          100  \n",
       "45735                       100                          100  \n",
       "45736                       100                          100  \n",
       "45737                       100                          100  \n",
       "\n",
       "[45738 rows x 7 columns]"
      ]
     },
     "execution_count": 16,
     "metadata": {},
     "output_type": "execute_result"
    }
   ],
   "source": [
    "df_del"
   ]
  },
  {
   "cell_type": "code",
   "execution_count": 30,
   "id": "93a0ddda-c99b-4802-a57e-942cf3054c22",
   "metadata": {
    "pycharm": {
     "name": "#%%\n"
    }
   },
   "outputs": [
    {
     "data": {
      "text/plain": [
       "<AxesSubplot:xlabel='Genes Removed Percantage', ylabel='Score'>"
      ]
     },
     "execution_count": 30,
     "metadata": {},
     "output_type": "execute_result"
    },
    {
     "data": {
      "image/png": "[encoded data removed]",
      "text/plain": [
       "<Figure size 432x288 with 1 Axes>"
      ]
     },
     "metadata": {
      "image/png": {
       "height": 261,
       "width": 385
      },
      "needs_background": "light"
     },
     "output_type": "display_data"
    }
   ],
   "source": [
    "sns.boxplot(data=df_del[(df_del[\"Model\"] == \"TotalVI\") & \n",
    "                        (df_del[\"Dataset\"] == \"Papalexi2021\") & \n",
    "                       (df_del[\"Feature Set\"] == \"Genes\") & \n",
    "                           (df_del[\"Proteins Removed Percantage\"] == 0)], \n",
    "            x=\"Genes Removed Percantage\", y=\"Score\", palette='gray')"
   ]
  },
  {
   "cell_type": "code",
   "execution_count": 32,
   "id": "5f95dc37-aba4-4b40-aac6-2d9150ccdff2",
   "metadata": {
    "pycharm": {
     "name": "#%%\n"
    }
   },
   "outputs": [
    {
     "data": {
      "text/plain": [
       "<AxesSubplot:xlabel='Genes Removed Percantage', ylabel='Score'>"
      ]
     },
     "execution_count": 32,
     "metadata": {},
     "output_type": "execute_result"
    },
    {
     "data": {
      "image/png": "[encoded data removed]",
      "text/plain": [
       "<Figure size 432x288 with 1 Axes>"
      ]
     },
     "metadata": {
      "image/png": {
       "height": 261,
       "width": 391
      },
      "needs_background": "light"
     },
     "output_type": "display_data"
    }
   ],
   "source": [
    "sns.boxplot(data=df_del[(df_del[\"Model\"] == \"MulPert\") & \n",
    "                        (df_del[\"Dataset\"] == \"Papalexi2021\") & \n",
    "                       (df_del[\"Feature Set\"] == \"Genes\") & \n",
    "                           (df_del[\"Proteins Removed Percantage\"] == 0)], \n",
    "            x=\"Genes Removed Percantage\", y=\"Score\", palette='gray')"
   ]
  },
  {
   "cell_type": "code",
   "execution_count": 34,
   "id": "1b6d92fe-b970-43ee-b78f-386a8ced3c12",
   "metadata": {
    "pycharm": {
     "name": "#%%\n"
    }
   },
   "outputs": [
    {
     "data": {
      "text/plain": [
       "<AxesSubplot:xlabel='Proteins Removed Percantage', ylabel='Score'>"
      ]
     },
     "execution_count": 34,
     "metadata": {},
     "output_type": "execute_result"
    },
    {
     "data": {
      "image/png": "[encoded data removed]",
      "text/plain": [
       "<Figure size 432x288 with 1 Axes>"
      ]
     },
     "metadata": {
      "image/png": {
       "height": 261,
       "width": 390
      },
      "needs_background": "light"
     },
     "output_type": "display_data"
    }
   ],
   "source": [
    "sns.boxplot(data=df_del[(df_del[\"Model\"] == \"TotalVI\") & \n",
    "                        (df_del[\"Dataset\"] == \"Wessel2022\") & \n",
    "                       (df_del[\"Feature Set\"] == \"Proteins\") & \n",
    "                           (df_del[\"Genes Removed Percantage\"] == 0)], \n",
    "            x=\"Proteins Removed Percantage\", y=\"Score\", palette='gray')"
   ]
  },
  {
   "cell_type": "code",
   "execution_count": 35,
   "id": "cde6d601-9138-472d-86ee-548d31cc25ca",
   "metadata": {
    "pycharm": {
     "name": "#%%\n"
    }
   },
   "outputs": [
    {
     "data": {
      "text/plain": [
       "<AxesSubplot:xlabel='Proteins Removed Percantage', ylabel='Score'>"
      ]
     },
     "execution_count": 35,
     "metadata": {},
     "output_type": "execute_result"
    },
    {
     "data": {
      "image/png": "[encoded data removed]",
      "text/plain": [
       "<Figure size 432x288 with 1 Axes>"
      ]
     },
     "metadata": {
      "image/png": {
       "height": 261,
       "width": 391
      },
      "needs_background": "light"
     },
     "output_type": "display_data"
    }
   ],
   "source": [
    "sns.boxplot(data=df_del[(df_del[\"Model\"] == \"MulPert\") & \n",
    "                        (df_del[\"Dataset\"] == \"Wessel2022\") & \n",
    "                       (df_del[\"Feature Set\"] == \"Proteins\") & \n",
    "                           (df_del[\"Genes Removed Percantage\"] == 0)], \n",
    "            x=\"Proteins Removed Percantage\", y=\"Score\", palette='gray')"
   ]
  },
  {
   "cell_type": "code",
   "execution_count": 12,
   "id": "9413c03d-a290-4467-9b31-e179328f5c84",
   "metadata": {
    "pycharm": {
     "name": "#%%\n"
    }
   },
   "outputs": [],
   "source": [
    "# create modified adata removed X percent of the genes.\n",
    "# do the same above:\n",
    "    # check how well it tolarates\n",
    "# do this using the mulpert model."
   ]
  },
  {
   "cell_type": "code",
   "execution_count": 14,
   "id": "eb95b316-2ba4-4f74-98f9-6adbf2e5f2b0",
   "metadata": {
    "pycharm": {
     "name": "#%%\n"
    }
   },
   "outputs": [],
   "source": [
    "# the same for protein entries"
   ]
  },
  {
   "cell_type": "code",
   "execution_count": null,
   "id": "e7c5c4c4-1ea1-42f5-a0ed-a45582cbe1c1",
   "metadata": {
    "pycharm": {
     "name": "#%%\n"
    }
   },
   "outputs": [],
   "source": []
  },
  {
   "cell_type": "markdown",
   "id": "f8a7d6ae-36df-4d8c-86db-95a667df7977",
   "metadata": {
    "pycharm": {
     "name": "#%% md\n"
    },
    "tags": []
   },
   "source": [
    "## Baseline Vol 3: How well tolerate Gene removal (PAPALEXI - Wessel)"
   ]
  },
  {
   "cell_type": "code",
   "execution_count": 9,
   "id": "72c9cdb9-3403-4a7b-8430-b42fce1ec7d5",
   "metadata": {
    "pycharm": {
     "name": "#%%\n"
    }
   },
   "outputs": [],
   "source": [
    "# train TotalVI with 25% gene and 25% protein deleted\n",
    "# for five perturbations"
   ]
  },
  {
   "cell_type": "code",
   "execution_count": 49,
   "id": "0e6d0a5d-59cf-4411-87e8-1a22ff6c5aea",
   "metadata": {
    "pycharm": {
     "name": "#%%\n"
    }
   },
   "outputs": [],
   "source": [
    "PERCENTS = [20, 40, 60, 80]"
   ]
  },
  {
   "cell_type": "code",
   "execution_count": 50,
   "id": "8910ea55-a2d2-4bb0-a47d-d37be5f8772f",
   "metadata": {
    "pycharm": {
     "name": "#%%\n"
    }
   },
   "outputs": [],
   "source": [
    "for dataset in ['papalexi', 'wessel_ood']:\n",
    "    DATA = DATAM[dataset]\n",
    "\n",
    "    if False:\n",
    "\n",
    "        for PERCENT in PERCENTS:\n",
    "\n",
    "            np.random.seed(42)\n",
    "            raw_data_dir = f\"/storage/groups/ml01/workspace/kemal.inecik/{DATA['raw_dir_name']}\"\n",
    "            adata = sc.read(os.path.join(raw_data_dir, DATA['adata_name']))\n",
    "            remove_number_of_perturbation = int(np.floor(len(np.unique(adata.obs['cov_drug_dose_name'])) / 4))\n",
    "            random_perturbations = np.random.choice(np.unique(adata.obs['cov_drug_dose_name']), remove_number_of_perturbation, replace=False)\n",
    "\n",
    "            for i in range(len(random_perturbations)):\n",
    "\n",
    "                np.random.seed(42 + i + PERCENT)\n",
    "                random_genes = np.random.choice(list(range(len(adata.var.index))), int(np.ceil(len(adata.var.index) * PERCENT / 100)), replace=False)\n",
    "                random_proteins = np.random.choice(list(range(len(adata.uns['protein_names']))), int(np.ceil(len(adata.uns['protein_names']) * PERCENT / 100)), replace=False)\n",
    "                row_index = np.array(list(range(len(adata))))[adata.obs['cov_drug_dose_name'] == random_perturbations[i]]\n",
    "\n",
    "                k = pd.DataFrame(adata.X.A)\n",
    "                k.loc[row_index, random_genes] = 0\n",
    "                adata.X = csr_matrix(np.array(k))\n",
    "\n",
    "                k = pd.DataFrame(adata.layers['counts'].A)\n",
    "                k.loc[row_index, random_genes] = 0\n",
    "                adata.layers['counts'] = csr_matrix(k)\n",
    "\n",
    "                k = pd.DataFrame(adata.obsm['protein_expression'])\n",
    "                k.loc[row_index, random_proteins] = 0\n",
    "                adata.obsm['protein_expression'] = np.array(k)\n",
    "\n",
    "                k = pd.DataFrame(adata.obsm['protein_expression_raw'])\n",
    "                k.loc[row_index, random_proteins] = 0\n",
    "                adata.obsm['protein_expression_raw'] = np.array(k)\n",
    "\n",
    "            # save as different name\n",
    "            adata.write(f\"/home/icb/kemal.inecik/work/codes/mulpert/datasets/modified_{PERCENT}_{DATA['adata_name']}\")\n"
   ]
  },
  {
   "cell_type": "code",
   "execution_count": 51,
   "id": "2f882363-0895-4a17-901b-c34b15c7dedd",
   "metadata": {
    "pycharm": {
     "name": "#%%\n"
    }
   },
   "outputs": [],
   "source": [
    "for dataset in ['papalexi', 'wessel_ood']:\n",
    "    DATA = DATAM[dataset]\n",
    "    \n",
    "    for PERCENT in PERCENTS:\n",
    "        if False:\n",
    "            adata = sc.read(f\"/home/icb/kemal.inecik/work/codes/mulpert/datasets/modified_{PERCENT}_{DATA['adata_name']}\")\n",
    "\n",
    "            adata.X = adata.layers['counts'].copy()\n",
    "            adata.obsm[\"protein_expression\"] = adata.obsm[\"protein_expression_raw\"].copy()\n",
    "            del adata.layers['counts']\n",
    "            del adata.obsm[\"protein_expression_raw\"]\n",
    "\n",
    "            adata.obsm['protein_expression'] = pd.DataFrame(adata.obsm['protein_expression'].astype(int), index=adata.obs.index, columns=adata.uns['protein_names'])\n",
    "            adata.X = adata.X.A.astype(int)\n",
    "            de_genes = adata.uns[\"rank_genes_groups_cov\"].copy()\n",
    "            del adata.uns\n",
    "            del adata.var\n",
    "            adata.obs = adata.obs[['cov_drug_dose_name', 'control', 'split']]\n",
    "            adata.obs.columns = ['batch', 'control', 'split']\n",
    "            adata.uns[\"rank_genes_groups_cov\"] = de_genes\n",
    "\n",
    "            scvi.model.TOTALVI.setup_anndata(adata, batch_key=\"batch\", protein_expression_obsm_key=\"protein_expression\")\n",
    "            model = scvi.model.TOTALVI(adata)\n",
    "            # as the Papalexi split is 0.85 to 0.15\n",
    "            model.train(train_size=0.75, validation_size = 0.10, max_epochs=300)\n",
    "\n",
    "            plt.plot(model.history[\"elbo_train\"], label=\"train\")\n",
    "            plt.plot(model.history[\"elbo_validation\"], label=\"val\")\n",
    "            plt.title(\"Negative ELBO over training epochs\")\n",
    "            plt.legend(); plt.show()\n",
    "\n",
    "            with open(f\"pretrained_models/TotalVI_{DATA['raw_dir_name']}_percent{PERCENT}_model.pt\", 'wb') as f1:\n",
    "                pickle.dump(model, f1)\n",
    "            with open(f\"pretrained_models/TotalVI_{DATA['raw_dir_name']}_percent{PERCENT}_adata.pt\", 'wb') as f2:\n",
    "                pickle.dump(adata, f2)"
   ]
  },
  {
   "cell_type": "code",
   "execution_count": 18,
   "id": "5c4a3910-4eef-42e6-a15d-8abe3a094199",
   "metadata": {
    "pycharm": {
     "name": "#%%\n"
    }
   },
   "outputs": [
    {
     "name": "stdout",
     "output_type": "stream",
     "text": [
      "\u001b[34mINFO    \u001b[0m Input AnnData not setup with scvi-tools. attempting to transfer AnnData setup       \n",
      "\u001b[34mINFO    \u001b[0m Found batches with missing protein expression                                       \n",
      "\u001b[34mINFO    \u001b[0m Input AnnData not setup with scvi-tools. attempting to transfer AnnData setup       \n",
      "\u001b[34mINFO    \u001b[0m Found batches with missing protein expression                                       \n",
      "\u001b[34mINFO    \u001b[0m Input AnnData not setup with scvi-tools. attempting to transfer AnnData setup       \n",
      "\u001b[34mINFO    \u001b[0m Found batches with missing protein expression                                       \n",
      "\u001b[34mINFO    \u001b[0m Input AnnData not setup with scvi-tools. attempting to transfer AnnData setup       \n",
      "\u001b[34mINFO    \u001b[0m Found batches with missing protein expression                                       \n",
      "\u001b[34mINFO    \u001b[0m Input AnnData not setup with scvi-tools. attempting to transfer AnnData setup       \n",
      "\u001b[34mINFO    \u001b[0m Found batches with missing protein expression                                       \n",
      "\u001b[34mINFO    \u001b[0m Input AnnData not setup with scvi-tools. attempting to transfer AnnData setup       \n",
      "\u001b[34mINFO    \u001b[0m Found batches with missing protein expression                                       \n",
      "\u001b[34mINFO    \u001b[0m Input AnnData not setup with scvi-tools. attempting to transfer AnnData setup       \n",
      "\u001b[34mINFO    \u001b[0m Found batches with missing protein expression                                       \n",
      "\u001b[34mINFO    \u001b[0m Input AnnData not setup with scvi-tools. attempting to transfer AnnData setup       \n",
      "\u001b[34mINFO    \u001b[0m Found batches with missing protein expression                                       \n"
     ]
    }
   ],
   "source": [
    "result_deleted = dict()\n",
    "result_deleted[\"TotalVI\"] = dict()\n",
    "\n",
    "for dataset in ['wessel_ood', 'papalexi']:\n",
    "    DATA = DATAM[dataset]\n",
    "    result_deleted[\"TotalVI\"][dataset] = dict()\n",
    "    \n",
    "    for PERCENT in PERCENTS:\n",
    "        \n",
    "        result_deleted[\"TotalVI\"][dataset][PERCENT] = dict()\n",
    "\n",
    "        with open(f\"pretrained_models/TotalVI_{DATA['raw_dir_name']}_percent{PERCENT}_model.pt\", 'rb') as f1:\n",
    "            model = pickle.load(f1)\n",
    "        with open(f\"pretrained_models/TotalVI_{DATA['raw_dir_name']}_percent{PERCENT}_adata.pt\", 'rb') as f2:\n",
    "            adata_train = pickle.load(f2)\n",
    "        \n",
    "        raw_data_dir = f\"/storage/groups/ml01/workspace/kemal.inecik/{DATA['raw_dir_name']}\"\n",
    "        adata = sc.read(os.path.join(raw_data_dir, DATA['adata_name']))\n",
    "        \n",
    "        np.random.seed(42)\n",
    "        remove_number_of_perturbation = int(np.floor(len(np.unique(adata_train.obs['batch'])) / 4))\n",
    "        random_perturbations = np.random.choice(np.unique(adata_train.obs['batch']), remove_number_of_perturbation, replace=False)\n",
    "\n",
    "        nt_condition = DATA['nt_condition']\n",
    "        set_test = set(model.test_indices)\n",
    "\n",
    "        true_genes = pd.DataFrame(adata.layers[\"counts\"].A, index=adata.obs.index, columns=adata.var.index)\n",
    "        true_proteins = pd.DataFrame(adata.obsm['protein_expression_raw'].copy(), index=adata.obs.index, columns=adata.uns[\"protein_names\"])\n",
    "\n",
    "        true_genes_percent = pd.DataFrame(adata_train.X, index=adata_train.obs.index, columns=adata_train.var.index)\n",
    "        scale_factors = np.array(np.sum(true_genes_percent, axis=1)).ravel()\n",
    "\n",
    "        test_bools = np.array([i in set_test for i in range(len(adata))])\n",
    "        NT_cells = (adata_train.obs['batch'] == nt_condition) & test_bools\n",
    "        scale_factors = scale_factors[NT_cells]\n",
    "\n",
    "        all_perts = sorted(np.unique(adata_train.obs[\"batch\"]))\n",
    "        for perturb_class, perts in zip(['all_perturbations', 'deleted_perturbations'], [all_perts, random_perturbations]):\n",
    "            \n",
    "            r2genes, r2proteins, r2genes_de, perts_tot = [], [], [], []\n",
    "            \n",
    "            for ind, perturbation in enumerate(perts):\n",
    "                #print(f\"{ind + 1}/{len(perts)}\", end=' ')\n",
    "\n",
    "                if perturbation != nt_condition:\n",
    "                    ii = adata_train.obs[(adata_train.obs['batch'] == perturbation) & test_bools].index\n",
    "                    if len(ii) > 20:\n",
    "                        perts_tot.append(perturbation)\n",
    "                        idx_de = adata_train.var.index.isin(adata_train.uns[\"rank_genes_groups_cov\"][perturbation])\n",
    "\n",
    "                        # get perturbed batch from NT cells\n",
    "                        gene_means, protein_means = model.get_normalized_expression(\n",
    "                            indices=NT_cells, \n",
    "                            transform_batch=perturbation,\n",
    "                            include_protein_background=True,\n",
    "                            sample_protein_mixing=False,\n",
    "                            return_mean=True,\n",
    "                            scale_protein=False,\n",
    "                        )\n",
    "                        gene_means = (gene_means.T * scale_factors).T\n",
    "\n",
    "                        # get true perturbed cells\n",
    "                        ii_p = true_proteins.loc[ii]\n",
    "                        ii_g = true_genes.loc[ii]\n",
    "\n",
    "                        # Get mean value for each gene for a given perturbation\n",
    "                        predicted_genes_mean = gene_means.to_numpy().mean(0)\n",
    "                        predicted_proteins_mean = protein_means.to_numpy().mean(0)\n",
    "                        true_genes_mean = ii_g.to_numpy().mean(0)\n",
    "                        true_proteins_mean = ii_p.to_numpy().mean(0)\n",
    "\n",
    "                        # Calculate r^2 score for both\n",
    "                        r2genes.append(r2_score(predicted_genes_mean, true_genes_mean))\n",
    "                        r2proteins.append(r2_score(predicted_proteins_mean, true_proteins_mean))\n",
    "                        r2genes_de.append(r2_score(predicted_genes_mean[idx_de], true_genes_mean[idx_de]))\n",
    "            result_deleted[\"TotalVI\"][dataset][PERCENT][perturb_class] = {\n",
    "                \"r2_genes\": r2genes,\n",
    "                \"r2_genes_de\": r2genes_de,\n",
    "                \"r2_proteins\": r2proteins,\n",
    "                \"perturbation\": perts_tot\n",
    "            }\n"
   ]
  },
  {
   "cell_type": "markdown",
   "id": "03b1c176-bcc0-44cb-b98b-57232b13c38f",
   "metadata": {
    "pycharm": {
     "name": "#%% md\n"
    }
   },
   "source": [
    "`train models with mpert19s`"
   ]
  },
  {
   "cell_type": "code",
   "execution_count": 19,
   "id": "691b20e3-7e54-432b-8dc8-9edd85eff881",
   "metadata": {
    "pycharm": {
     "name": "#%%\n"
    }
   },
   "outputs": [
    {
     "name": "stdout",
     "output_type": "stream",
     "text": [
      "papalexi\n",
      "20\n",
      "80\n",
      "wessel_ood\n",
      "20\n",
      "40\n",
      "60\n",
      "80\n"
     ]
    }
   ],
   "source": [
    "result_deleted[\"MulPert\"] = dict()\n",
    "\n",
    "for dataset_n in ['papalexi', 'wessel_ood']:\n",
    "    \n",
    "    raw_data_dir = f\"/storage/groups/ml01/workspace/kemal.inecik/{DATA['raw_dir_name']}\"\n",
    "    adata = sc.read(os.path.join(raw_data_dir, DATA['adata_name']))\n",
    "    \n",
    "    DATA = DATAM[dataset_n]\n",
    "    result_deleted[\"MulPert\"][dataset_n] = dict()\n",
    "    #######################\n",
    "    mulpert_models = pd.read_pickle(f\"/storage/groups/ml01/workspace/kemal.inecik/seml/{DATA['seml']}/{DATA['seml']}_pickled.pk\")\n",
    "    spt = 'test'\n",
    "    focus_metric_1 = f\"{spt}_mean_score_genes_last\"\n",
    "    focus_metric_2 = f\"{spt}_mean_score_proteins_last\"\n",
    "\n",
    "    mulpert_models = mulpert_models[(mulpert_models['status'] == 1)]\n",
    "    mulpert_models = mulpert_models[(mulpert_models[focus_metric_1] > 0) & (mulpert_models[focus_metric_2] > 0)]\n",
    "    mulpert_models[\"overall_best\"] = np.sqrt(mulpert_models[focus_metric_1]**2 + mulpert_models[focus_metric_2]**2)\n",
    "\n",
    "    top_top = 5\n",
    "    mulpert_models = mulpert_models.sort_values(by=[\"overall_best\"], ascending=False)[:top_top]\n",
    "    \n",
    "    chosen_model = mulpert_models.index[0]\n",
    "\n",
    "    chosen_model_entry = mulpert_models.loc[chosen_model]\n",
    "    _, cm_datasets, _, _, cm_hypers = \\\n",
    "        model_importer(chosen_model, mulpert_models, \n",
    "                       model_dir=f\"/storage/groups/ml01/workspace/kemal.inecik/seml/{DATA['seml']}/_last/\", \n",
    "                       #model_dir=f\"/home/icb/kemal.inecik/work/codes/mulpert/seml/_last/\", \n",
    "                       dataset_relative_to=\"/home/icb/kemal.inecik/work/codes/mulpert\")\n",
    "    assert cm_hypers['hparams']['adversary_wd'] == mulpert_models.loc[chosen_model]['config.model.model_args.hparams.adversary_wd']\n",
    "    \n",
    "    #######################\n",
    "    mulpert_models = pd.read_pickle(f\"/storage/groups/ml01/workspace/kemal.inecik/seml/mpert19/mpert19_pickled.pk\")\n",
    "    spt = 'test'\n",
    "    focus_metric_1 = f\"{spt}_mean_score_genes_last\"\n",
    "    focus_metric_2 = f\"{spt}_mean_score_proteins_last\"\n",
    "\n",
    "    mulpert_models[\"overall_best\"] = np.sqrt(mulpert_models[focus_metric_1]**2 + mulpert_models[focus_metric_2]**2)\n",
    "    m = [i.split('/')[1].split('_')[1:3] for i in mulpert_models[\"config.dataset.dataset_args.dataset_path\"]]\n",
    "    m_dict = {\"Papalexi21\": \"papalexi\", \"Wessel22\": \"wessel_ood\"}\n",
    "    m = [[int(i), m_dict[j]] for i, j in m]\n",
    "    mulpert_models = pd.concat([mulpert_models, pd.DataFrame(m, columns=[\"PERCENT\", 'dataset_n'], index=mulpert_models.index)], axis=1)\n",
    "\n",
    "    mulpert_models = mulpert_models.sort_values(by=[\"overall_best\"], ascending=False)\n",
    "    #######################\n",
    "    print(dataset_n)\n",
    "    \n",
    "    for PERCENT in PERCENTS:\n",
    "        \n",
    "        result_deleted[\"MulPert\"][dataset_n][PERCENT] = dict()\n",
    "    \n",
    "        narr_df_ = mulpert_models[(mulpert_models[\"PERCENT\"] == PERCENT) & (mulpert_models[\"dataset_n\"] == dataset_n)].index\n",
    "        assert len(narr_df_) == 1\n",
    "        chosen_model = narr_df_[0]\n",
    "        try:\n",
    "            mul_autoencoder, mul_datasets, mul_state, mul_history, mul_hypers = \\\n",
    "                model_importer(chosen_model, mulpert_models, \n",
    "                               model_dir=f\"/storage/groups/ml01/workspace/kemal.inecik/seml/mpert19/_last/\", \n",
    "                               #model_dir=f\"/home/icb/kemal.inecik/work/codes/mulpert/seml/_last/\", \n",
    "                               dataset_relative_to=\"/home/icb/kemal.inecik/work/codes/mulpert\")\n",
    "            assert mul_hypers['hparams']['adversary_wd'] == mulpert_models.loc[chosen_model]['config.model.model_args.hparams.adversary_wd']\n",
    "        except NotImplementedError:\n",
    "            continue\n",
    "        \n",
    "        \n",
    "        \n",
    "        dataset = cm_datasets[\"test_treated\"]\n",
    "        genes_control = mul_datasets[\"test_control\"].raw_genes\n",
    "        proteins_control = mul_datasets[\"test_control\"].raw_proteins\n",
    "        num, dim_genes = genes_control.size(0), genes_control.size(1)\n",
    "        dim_proteins = proteins_control.size(1)\n",
    "        #assert np.all(mul_datasets[\"test_control\"].var_names == adata.var.index) # for mm consistency\n",
    "\n",
    "        \n",
    "        raw_data_dir = f\"/storage/groups/ml01/workspace/kemal.inecik/{DATA['raw_dir_name']}\"\n",
    "        adata = sc.read(os.path.join(raw_data_dir, DATA['adata_name']))\n",
    "        np.random.seed(42)\n",
    "        remove_number_of_perturbation = int(np.floor(len(np.unique(adata.obs['cov_drug_dose_name'])) / 4))\n",
    "        random_perturbations = np.random.choice(np.unique(adata.obs['cov_drug_dose_name']), remove_number_of_perturbation, replace=False)\n",
    "\n",
    "        all_perts = sorted(np.unique(adata.obs[\"cov_drug_dose_name\"]))\n",
    "        for perturb_class, perts in zip(['all_perturbations', 'deleted_perturbations'], [all_perts, random_perturbations]):\n",
    "            \n",
    "            mean_score_proteins = []\n",
    "            mean_score_genes = []\n",
    "            mean_score_genes_de = []\n",
    "            perts_mul = []\n",
    "        \n",
    "            for pert_category in sorted(np.unique(dataset.pert_categories)):\n",
    "                de_idx = np.where(dataset.var_names.isin(np.array(dataset.de_genes[pert_category])))[0]\n",
    "                idx = np.where(dataset.pert_categories == pert_category)[0]\n",
    "\n",
    "                if len(idx) > 20:\n",
    "                    perts_mul.append(pert_category)\n",
    "\n",
    "                    emb_drugs = dataset.drugs[idx][0].view(1, -1).repeat(num, 1).clone()\n",
    "                    emb_cts = dataset.cell_types[idx][0].view(1, -1).repeat(num, 1).clone()\n",
    "\n",
    "                    gene_predictions, protein_predictions = mul_autoencoder.predict(genes_control, emb_drugs, emb_cts, proteins_control)\n",
    "                    gene_predictions = gene_predictions.detach().cpu()\n",
    "                    protein_predictions = protein_predictions.detach().cpu()\n",
    "\n",
    "                    mean_predict_genes = gene_predictions[:, :dim_genes]\n",
    "                    mean_predict_proteins = protein_predictions[:, :dim_proteins]\n",
    "\n",
    "                    y_true_genes = dataset.raw_genes[idx, :].numpy()\n",
    "                    yt_m_genes = y_true_genes.mean(axis=0)\n",
    "                    yp_m_genes = np.array(mean_predict_genes.mean(0))\n",
    "                    mean_score_genes.append(r2_score(yt_m_genes, yp_m_genes))\n",
    "                    mean_score_genes_de.append(r2_score(yt_m_genes[de_idx], yp_m_genes[de_idx]))\n",
    "\n",
    "                    y_true_proteins = dataset.raw_proteins[idx, :].numpy()\n",
    "                    yt_m_proteins = y_true_proteins.mean(axis=0)\n",
    "                    yp_m_proteins = mean_predict_proteins.mean(0)\n",
    "                    mean_score_proteins.append(r2_score(yt_m_proteins, yp_m_proteins))\n",
    "            \n",
    "            result_deleted[\"MulPert\"][dataset_n][PERCENT][perturb_class] = {\n",
    "                \"r2_genes\": mean_score_genes,\n",
    "                \"r2_genes_de\": mean_score_genes_de,\n",
    "                \"r2_proteins\": mean_score_proteins,\n",
    "                \"perturbation\": perts_mul\n",
    "            }\n",
    "\n",
    "        print(PERCENT)"
   ]
  },
  {
   "cell_type": "code",
   "execution_count": 20,
   "id": "a12c19b2-5b1a-4524-b688-6c44a8db6064",
   "metadata": {
    "pycharm": {
     "name": "#%%\n"
    }
   },
   "outputs": [],
   "source": [
    "nm = pd.DataFrame()\n",
    "for m1 in ['TotalVI', 'MulPert']:\n",
    "    for m2 in ['wessel_ood', 'papalexi']:\n",
    "        for m3 in PERCENTS:\n",
    "            for m4 in ['all_perturbations', 'deleted_perturbations']:\n",
    "                try:\n",
    "                    n = pd.DataFrame.from_dict(result_deleted[m1][m2][m3][m4])\n",
    "                    n['perturb_class'] = m4\n",
    "                    n['percent'] = m3\n",
    "                    n['dataset'] = m2\n",
    "                    n['model'] = m1\n",
    "                    nm = pd.concat([nm, n])\n",
    "                except KeyError:\n",
    "                    pass "
   ]
  },
  {
   "cell_type": "code",
   "execution_count": 21,
   "id": "8056b8ca-e03f-41c9-8a2c-214a2c25bb8f",
   "metadata": {
    "pycharm": {
     "name": "#%%\n"
    }
   },
   "outputs": [],
   "source": [
    "nmc = pd.DataFrame()\n",
    "for m in 'r2_genes', 'r2_genes_de', 'r2_proteins':\n",
    "    nmc_ = pd.concat([nm[['perturbation', 'perturb_class', 'percent', 'dataset', 'model']], nm[m]], axis=1)\n",
    "    nmc_.columns = ['perturbation', 'perturb_class', 'percent', 'dataset', 'model', 'score']\n",
    "    nmc_['feature set'] = m\n",
    "    nmc = pd.concat([nmc, nmc_])"
   ]
  },
  {
   "cell_type": "code",
   "execution_count": 22,
   "id": "7e0f00c2-1de9-48ff-a474-c3e521541638",
   "metadata": {
    "pycharm": {
     "name": "#%%\n"
    }
   },
   "outputs": [],
   "source": [
    "nmc.to_pickle('notebooks/totalvi_DELETE_ME.pk')"
   ]
  },
  {
   "cell_type": "code",
   "execution_count": 52,
   "id": "e7d3251c-eafe-4cdb-95b7-d6306b799a3d",
   "metadata": {
    "pycharm": {
     "name": "#%%\n"
    }
   },
   "outputs": [],
   "source": [
    "nmc = pd.read_pickle('notebooks/totalvi_DELETE_ME.pk')"
   ]
  },
  {
   "cell_type": "code",
   "execution_count": 53,
   "id": "b61d6a22-ae75-4612-a725-ec12bff20bf3",
   "metadata": {
    "pycharm": {
     "name": "#%%\n"
    }
   },
   "outputs": [],
   "source": [
    "x__label = \"Removed Feature Percentage\"\n",
    "nmc.columns = ['Perturbation', 'perturb_class', x__label, 'Dataset', 'Model', 'Score', 'Feature Set']\n",
    "nmc['Feature Set'] = nmc['Feature Set'].replace({'r2_genes': 'All Genes', 'r2_genes_de': 'DE Genes', 'r2_proteins': 'Proteins'})\n",
    "nmc['Model'] = nmc['Model'].replace({'MulPert':'MultiCPA'})"
   ]
  },
  {
   "cell_type": "code",
   "execution_count": 54,
   "id": "c6d62fe1-2a25-4c38-939b-0b5165acba54",
   "metadata": {
    "pycharm": {
     "name": "#%%\n"
    }
   },
   "outputs": [
    {
     "data": {
      "image/png": "[encoded data removed]",
      "text/plain": [
       "<Figure size 432x252 with 1 Axes>"
      ]
     },
     "metadata": {
      "image/png": {
       "height": 246,
       "width": 422
      },
      "needs_background": "light"
     },
     "output_type": "display_data"
    }
   ],
   "source": [
    "with plt.rc_context({\n",
    "    \"axes.spines.right\": False,\n",
    "    \"axes.spines.top\": False,\n",
    "}):\n",
    "    plt.figure(figsize=(6, 3.5))\n",
    "    g = sns.boxplot(data=nmc[(nmc[\"perturb_class\"] == \"all_perturbations\") & \n",
    "                        (nmc[\"Dataset\"] == \"wessel_ood\") & \n",
    "                        (nmc[\"Model\"] == \"TotalVI\") &  (nmc[x__label].isin([20, 40, 60, 80]))\n",
    "                        ], \n",
    "                x=x__label, y='Score', hue='Feature Set', palette='gray')\n",
    "    #plt.title(\"TotalVI\")\n",
    "    g.legend(loc='lower left')\n",
    "    plt.ylim(0.2, 1)\n",
    "    plt.ylabel(\"r$^2$ Score\")\n",
    "    plt.tight_layout()\n",
    "    plt.savefig(f\"figures/removed_percentage_{'wessel_ood'}_{'TotalVI'}.pdf\")"
   ]
  },
  {
   "cell_type": "code",
   "execution_count": 55,
   "id": "f41a27f4-bb6a-44ab-bf4a-c7ba60ca4a06",
   "metadata": {
    "pycharm": {
     "name": "#%%\n"
    }
   },
   "outputs": [
    {
     "data": {
      "image/png": "[encoded data removed]",
      "text/plain": [
       "<Figure size 432x252 with 1 Axes>"
      ]
     },
     "metadata": {
      "image/png": {
       "height": 246,
       "width": 422
      },
      "needs_background": "light"
     },
     "output_type": "display_data"
    }
   ],
   "source": [
    "with plt.rc_context({\n",
    "    \"axes.spines.right\": False,\n",
    "    \"axes.spines.top\": False,\n",
    "}):\n",
    "    plt.figure(figsize=(6, 3.5))\n",
    "    g = sns.boxplot(data=nmc[(nmc[\"perturb_class\"] == \"all_perturbations\") & \n",
    "                        (nmc[\"Dataset\"] == \"wessel_ood\") & \n",
    "                        (nmc[\"Model\"] == \"MultiCPA\") &  (nmc[x__label].isin([20, 40, 60, 80]))\n",
    "                        ], \n",
    "                x=x__label, y='Score', hue='Feature Set', palette='gray')\n",
    "    #plt.title(\"TotalVI\")\n",
    "    g.legend(loc='lower left')\n",
    "    plt.ylim(0.2, 1)\n",
    "    plt.ylabel(\"r$^2$ Score\")\n",
    "    plt.tight_layout()\n",
    "    plt.savefig(f\"figures/removed_percentage_{'wessel_ood'}_{'MultiCPA'}.pdf\")"
   ]
  },
  {
   "cell_type": "code",
   "execution_count": 56,
   "id": "a82c8d2e-18ab-42d9-a130-e2829f5a21e2",
   "metadata": {
    "pycharm": {
     "name": "#%%\n"
    }
   },
   "outputs": [
    {
     "data": {
      "image/png": "[encoded data removed]",
      "text/plain": [
       "<Figure size 252x252 with 1 Axes>"
      ]
     },
     "metadata": {
      "image/png": {
       "height": 246,
       "width": 242
      },
      "needs_background": "light"
     },
     "output_type": "display_data"
    }
   ],
   "source": [
    "with plt.rc_context({\n",
    "    \"axes.spines.right\": False,\n",
    "    \"axes.spines.top\": False,\n",
    "}):\n",
    "    plt.figure(figsize=(3.5, 3.5))\n",
    "    g = sns.boxplot(data=nmc[(nmc[\"perturb_class\"] == \"all_perturbations\") & \n",
    "                        (nmc[\"Dataset\"] == \"papalexi\") & \n",
    "                        (nmc[\"Model\"] == \"TotalVI\") &  (nmc[x__label].isin([20, 80]))\n",
    "                        ], \n",
    "                x=x__label, y='Score', hue='Feature Set', palette='gray')\n",
    "    #plt.title(\"TotalVI\")\n",
    "    g.legend(loc='lower left')\n",
    "    plt.ylim(0.2, 1)\n",
    "    plt.ylabel(\"r$^2$ Score\")\n",
    "    plt.tight_layout()\n",
    "    plt.savefig(f\"figures/removed_percentage_{'papalexi'}_{'TotalVI'}.pdf\")"
   ]
  },
  {
   "cell_type": "code",
   "execution_count": 57,
   "id": "c8bff9b7-f2d2-495d-aa98-49f26fdbf86d",
   "metadata": {
    "pycharm": {
     "name": "#%%\n"
    }
   },
   "outputs": [
    {
     "data": {
      "image/png": "[encoded data removed]",
      "text/plain": [
       "<Figure size 252x252 with 1 Axes>"
      ]
     },
     "metadata": {
      "image/png": {
       "height": 246,
       "width": 242
      },
      "needs_background": "light"
     },
     "output_type": "display_data"
    }
   ],
   "source": [
    "with plt.rc_context({\n",
    "    \"axes.spines.right\": False,\n",
    "    \"axes.spines.top\": False,\n",
    "}):\n",
    "    plt.figure(figsize=(3.5, 3.5))\n",
    "    g = sns.boxplot(data=nmc[(nmc[\"perturb_class\"] == \"all_perturbations\") & \n",
    "                        (nmc[\"Dataset\"] == \"papalexi\") & \n",
    "                        (nmc[\"Model\"] == \"MultiCPA\") &  (nmc[x__label].isin([20, 80]))\n",
    "                        ], \n",
    "                x=x__label, y='Score', hue='Feature Set', palette='gray')\n",
    "    #plt.title(\"TotalVI\")\n",
    "    g.legend(loc='lower left')\n",
    "    plt.ylim(0.2, 1)\n",
    "    plt.ylabel(\"r$^2$ Score\")\n",
    "    plt.tight_layout()\n",
    "    plt.savefig(f\"figures/removed_percentage_{'papalexi'}_{'MultiCPA'}.pdf\")"
   ]
  },
  {
   "cell_type": "markdown",
   "id": "1980b67e-240f-4c8f-8d21-e70d289743a3",
   "metadata": {
    "pycharm": {
     "name": "#%% md\n"
    },
    "tags": []
   },
   "source": [
    "## Baseline Vol 4: Expected R2\n",
    "\n"
   ]
  },
  {
   "cell_type": "code",
   "execution_count": 130,
   "id": "ce827355-07f9-4a9b-b880-9c5816b48d75",
   "metadata": {
    "pycharm": {
     "name": "#%%\n"
    }
   },
   "outputs": [],
   "source": [
    "#100 times from all cells in c1-c3 (every time I will shuffle. in the first time c4 is out then c1 etc),\n",
    "\n",
    "#choose random number of cells from c1-c3 (let's say %25-%35 etc).\n",
    "\n",
    "#get the mean gene and mean protein from selected cells.\n",
    "\n",
    "#get the mean gene and mean protein from all cells in c4.\n",
    "\n",
    "#compute r2 for Genes, DEG, Proteins."
   ]
  },
  {
   "cell_type": "code",
   "execution_count": null,
   "id": "eb636e87-0a6c-473a-8b66-880114c91e08",
   "metadata": {
    "pycharm": {
     "name": "#%%\n"
    }
   },
   "outputs": [],
   "source": [
    "base_truth = dict()\n",
    "for dataset in ['papalexi', 'wessel_ood']:\n",
    "    DATA = DATAM[dataset]\n",
    "\n",
    "    raw_data_dir = f\"/storage/groups/ml01/workspace/kemal.inecik/{DATA['raw_dir_name']}\"\n",
    "    adata = sc.read(os.path.join(raw_data_dir, DATA['adata_name']))\n",
    "\n",
    "    adata.X = adata.layers['counts'].copy()\n",
    "    adata.obsm[\"protein_expression\"] = adata.obsm[\"protein_expression_raw\"].copy()\n",
    "    del adata.layers['counts']\n",
    "    del adata.obsm[\"protein_expression_raw\"]\n",
    "\n",
    "    adata.obsm['protein_expression'] = pd.DataFrame(adata.obsm['protein_expression'].astype(int), index=adata.obs.index, columns=adata.uns['protein_names'])\n",
    "    adata.X = adata.X.A.astype(int)\n",
    "    de_genes = adata.uns[\"rank_genes_groups_cov\"].copy()\n",
    "    del adata.uns\n",
    "    del adata.var\n",
    "    adata.obs = adata.obs[['cov_drug_dose_name', 'control', 'split']]\n",
    "    adata.obs.columns = ['batch', 'control', 'split']\n",
    "    adata.uns[\"rank_genes_groups_cov\"] = de_genes\n",
    "    adata = adata[adata.obs['split'] == 'test']\n",
    "    adata\n",
    "\n",
    "    print(dataset)\n",
    "    all_genes = []\n",
    "    de_genes = []\n",
    "    proteins = []\n",
    "    for ind in range(10000):\n",
    "        \n",
    "        print('.', end='')\n",
    "        np.random.seed(0 + ind)\n",
    "        batch_to_predict = np.random.choice(sorted(np.unique(adata.obs['batch'])))\n",
    "        percent_genes_proteins = np.random.randint(10, 90)\n",
    "        \n",
    "        if batch_to_predict != DATA['nt_condition']:\n",
    "            de_batch = adata.var.index.isin(adata.uns['rank_genes_groups_cov'][batch_to_predict])\n",
    "            genes_data = adata[adata.obs['batch'] == batch_to_predict].X\n",
    "            percent_cell = int(np.ceil(len(genes_data) * percent_genes_proteins / 100))\n",
    "            keep_cell = np.random.choice(len(genes_data), percent_cell, replace=False)\n",
    "            genes_data = genes_data[keep_cell, :]\n",
    "            \n",
    "            protein_data = np.array(adata[adata.obs['batch'] == batch_to_predict].obsm['protein_expression'])\n",
    "            protein_data = protein_data[keep_cell, :]\n",
    "                                    \n",
    "            true_genes = np.mean(genes_data, axis=0)\n",
    "            true_genes_de = true_genes[de_batch]\n",
    "            true_proteins = np.mean(protein_data, axis=0)\n",
    "\n",
    "            predicted_genes = np.mean(adata[adata.obs['batch'] != batch_to_predict].X, axis=0)\n",
    "            predicted_genes_de = predicted_genes[de_batch]\n",
    "            predicted_proteins = np.mean(np.array(adata[adata.obs['batch'] != batch_to_predict].obsm['protein_expression']), axis=0)\n",
    "\n",
    "            all_genes.append(r2_score(true_genes, predicted_genes))\n",
    "            de_genes.append(r2_score(true_genes_de, predicted_genes_de))\n",
    "            proteins.append(r2_score(true_proteins, predicted_proteins))\n",
    "    base_truth[dataset] = [all_genes, de_genes, proteins]\n",
    "    print()"
   ]
  },
  {
   "cell_type": "code",
   "execution_count": 62,
   "id": "6d371cfa-2514-4328-a45c-333ba8c7ff06",
   "metadata": {
    "pycharm": {
     "name": "#%%\n"
    }
   },
   "outputs": [],
   "source": [
    "if False:\n",
    "    with open(f\"notebooks/base_truth_DELETE_ME.pk\", 'wb') as f1:\n",
    "        pickle.dump(base_truth, f1)\n",
    "else:\n",
    "    with open(f\"notebooks/base_truth_DELETE_ME.pk\", 'rb') as f1:\n",
    "        base_truth = pickle.load(f1)"
   ]
  },
  {
   "cell_type": "code",
   "execution_count": 63,
   "id": "eb29fdac-edeb-4429-9da3-59976cef0c87",
   "metadata": {
    "pycharm": {
     "name": "#%%\n"
    }
   },
   "outputs": [],
   "source": [
    "dataset = 'wessel_ood'"
   ]
  },
  {
   "cell_type": "code",
   "execution_count": 64,
   "id": "600c78fb-67af-4c82-a985-295e111bb43a",
   "metadata": {
    "pycharm": {
     "name": "#%%\n"
    }
   },
   "outputs": [
    {
     "data": {
      "text/plain": [
       "(0.7167251358529619, -0.33044499267756605, 0.8722047786451917)"
      ]
     },
     "execution_count": 64,
     "metadata": {},
     "output_type": "execute_result"
    }
   ],
   "source": [
    "np.mean(base_truth[dataset][0]), np.mean(base_truth[dataset][1]), np.mean(base_truth[dataset][2]) "
   ]
  },
  {
   "cell_type": "code",
   "execution_count": 65,
   "id": "8a5d1da7-cd96-4020-9e53-a49d56bab065",
   "metadata": {
    "pycharm": {
     "name": "#%%\n"
    }
   },
   "outputs": [
    {
     "data": {
      "text/plain": [
       "(0.3139764777041594, 14.426886861412303, 0.4198704212784044)"
      ]
     },
     "execution_count": 65,
     "metadata": {},
     "output_type": "execute_result"
    }
   ],
   "source": [
    "np.std(base_truth[dataset][0]), np.std(base_truth[dataset][1]), np.std(base_truth[dataset][2]) "
   ]
  },
  {
   "cell_type": "code",
   "execution_count": 66,
   "id": "1848ac12-3670-4413-90b4-670646de28a7",
   "metadata": {
    "pycharm": {
     "name": "#%%\n"
    }
   },
   "outputs": [],
   "source": [
    "dataset = 'papalexi'"
   ]
  },
  {
   "cell_type": "code",
   "execution_count": 67,
   "id": "54a4b891-63db-4a39-b3e3-5b2d23200963",
   "metadata": {
    "pycharm": {
     "name": "#%%\n"
    }
   },
   "outputs": [
    {
     "data": {
      "text/plain": [
       "(0.8795488752880246, -0.019253170469792896, 0.027211267138113004)"
      ]
     },
     "execution_count": 67,
     "metadata": {},
     "output_type": "execute_result"
    }
   ],
   "source": [
    "np.mean(base_truth[dataset][0]), np.mean(base_truth[dataset][1]), np.mean(base_truth[dataset][2]) "
   ]
  },
  {
   "cell_type": "code",
   "execution_count": 68,
   "id": "0a805a2a-52f0-4f06-9a91-49b4d5dac5c5",
   "metadata": {
    "pycharm": {
     "name": "#%%\n"
    }
   },
   "outputs": [
    {
     "data": {
      "text/plain": [
       "(0.13865411885630508, 4.8724202481360575, 2.3634924419432943)"
      ]
     },
     "execution_count": 68,
     "metadata": {},
     "output_type": "execute_result"
    }
   ],
   "source": [
    "np.std(base_truth[dataset][0]), np.std(base_truth[dataset][1]), np.std(base_truth[dataset][2]) "
   ]
  },
  {
   "cell_type": "code",
   "execution_count": 69,
   "id": "ca18bd98-74c8-4736-a041-06a97e8db7dd",
   "metadata": {
    "pycharm": {
     "name": "#%%\n"
    }
   },
   "outputs": [],
   "source": [
    "am = pd.DataFrame()\n",
    "for dataset in ['papalexi', 'wessel_ood']:\n",
    "    for ind, feature in enumerate(['All Genes', 'DE Genes', 'Proteins']):\n",
    "        a = pd.DataFrame(base_truth[dataset][ind])\n",
    "        a.columns = ['Score']\n",
    "        a[\"Dataset\"] = dataset\n",
    "        a[\"Feature Set\"] = feature\n",
    "        am = pd.concat([am, a])\n",
    "am[\"Dataset\"] = am[\"Dataset\"].replace({'papalexi':'Papalexi2021', 'wessel_ood':'Wessels2022'})"
   ]
  },
  {
   "cell_type": "code",
   "execution_count": 70,
   "id": "82851af1-edec-4991-b825-fd21d09b40ce",
   "metadata": {
    "pycharm": {
     "name": "#%%\n"
    }
   },
   "outputs": [
    {
     "data": {
      "image/png": "[encoded data removed]",
      "text/plain": [
       "<Figure size 324x252 with 1 Axes>"
      ]
     },
     "metadata": {
      "image/png": {
       "height": 246,
       "width": 314
      },
      "needs_background": "light"
     },
     "output_type": "display_data"
    }
   ],
   "source": [
    "with plt.rc_context({\n",
    "    \"axes.spines.right\": False,\n",
    "    \"axes.spines.top\": False,\n",
    "}):\n",
    "    plt.figure(figsize=(4.5, 3.5))\n",
    "    g = sns.barplot(data=am, \n",
    "                x=\"Dataset\", y='Score', hue='Feature Set', palette='gray')\n",
    "    #plt.title(\"TotalVI\")\n",
    "    g.legend(loc='lower left')\n",
    "    plt.ylim(-0.65, 1)\n",
    "    plt.ylabel(\"r$^2$ Score\")\n",
    "    plt.tight_layout()\n",
    "    plt.savefig(f\"figures/baseline_datasets.pdf\")"
   ]
  },
  {
   "cell_type": "code",
   "execution_count": null,
   "id": "3d64160f-dffb-4e1c-92fb-e78404af6c40",
   "metadata": {
    "pycharm": {
     "name": "#%%\n"
    }
   },
   "outputs": [],
   "source": []
  }
 ],
 "metadata": {
  "kernelspec": {
   "display_name": "Python 3 (ipykernel)",
   "language": "python",
   "name": "python3"
  },
  "language_info": {
   "codemirror_mode": {
    "name": "ipython",
    "version": 3
   },
   "file_extension": ".py",
   "mimetype": "text/x-python",
   "name": "python",
   "nbconvert_exporter": "python",
   "pygments_lexer": "ipython3",
   "version": "3.9.12"
  }
 },
 "nbformat": 4,
 "nbformat_minor": 5
}

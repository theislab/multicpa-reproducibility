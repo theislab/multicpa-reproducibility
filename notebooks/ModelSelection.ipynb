{
 "cells": [
  {
   "cell_type": "markdown",
   "id": "44a0847e-a973-4c87-bd9f-1d70f3929bd5",
   "metadata": {
    "pycharm": {
     "name": "#%% md\n"
    }
   },
   "source": [
    "# Model Selection"
   ]
  },
  {
   "cell_type": "code",
   "execution_count": 1,
   "id": "fd00ca6d-f6b3-44a7-bd8e-36e7fe6e0ba2",
   "metadata": {
    "pycharm": {
     "name": "#%%\n"
    }
   },
   "outputs": [],
   "source": [
    "import sys\n",
    "sys.path.append(\"../../multicpa\")"
   ]
  },
  {
   "cell_type": "code",
   "execution_count": 2,
   "id": "99eaefb3-80c4-441a-b6d8-69612724ab33",
   "metadata": {
    "pycharm": {
     "name": "#%%\n"
    }
   },
   "outputs": [],
   "source": [
    "import seaborn as sns\n",
    "import numpy as np\n",
    "import pandas as pd\n",
    "import os\n",
    "import warnings"
   ]
  },
  {
   "cell_type": "code",
   "execution_count": 3,
   "id": "742da6a3-3e9e-45d0-b6de-1d7674dd02ef",
   "metadata": {
    "pycharm": {
     "name": "#%%\n"
    }
   },
   "outputs": [],
   "source": [
    "%matplotlib inline\n",
    "%config InlineBackend.figure_format='retina'"
   ]
  },
  {
   "cell_type": "code",
   "execution_count": 4,
   "id": "2cfe07fa-54ac-4397-9f56-8089b5d0187d",
   "metadata": {
    "pycharm": {
     "name": "#%%\n"
    }
   },
   "outputs": [],
   "source": [
    "import matplotlib.pyplot as plt\n",
    "plt.rcParams['font.family'] = 'serif'\n",
    "plt.rcParams['font.serif'] = ['Times New Roman'] + plt.rcParams['font.serif']"
   ]
  },
  {
   "cell_type": "code",
   "execution_count": 5,
   "id": "056dc4a7-0eba-4861-bfe0-077c3f1042e9",
   "metadata": {
    "pycharm": {
     "name": "#%%\n"
    }
   },
   "outputs": [
    {
     "data": {
      "text/plain": [
       "'/mnt/home/icb/kemal.inecik/work/codes/multicpa-reproducibility'"
      ]
     },
     "execution_count": 5,
     "metadata": {},
     "output_type": "execute_result"
    }
   ],
   "source": [
    "os.chdir('./../')\n",
    "os.getcwd()"
   ]
  },
  {
   "cell_type": "code",
   "execution_count": 6,
   "id": "97662860-72f5-48b7-9ba6-5fdc4467f218",
   "metadata": {
    "pycharm": {
     "name": "#%%\n"
    }
   },
   "outputs": [],
   "source": [
    "DATAM = {'papalexi_all': {'raw_dir_name': 'Papalexi2021', 'adata_name': 'Papalexi21_prep.h5ad', 'seml': 'mpert18',\n",
    "                    'nt_condition': \"THP-1_NT_1.0\"}}\n",
    "dataset = 'papalexi_all'\n",
    "DATA = DATAM[dataset]\n",
    "mulpert_models_imp = pd.read_pickle(f\"/storage/groups/ml01/workspace/kemal.inecik/seml/{DATA['seml']}/{DATA['seml']}_pickled.pk\")"
   ]
  },
  {
   "cell_type": "code",
   "execution_count": 7,
   "id": "b1e8cad2-33d8-48c0-adf7-dd88ae48f950",
   "metadata": {
    "pycharm": {
     "name": "#%%\n"
    }
   },
   "outputs": [
    {
     "name": "stderr",
     "output_type": "stream",
     "text": [
      "/tmp/ipykernel_238452/1057773291.py:6: SettingWithCopyWarning: \n",
      "A value is trying to be set on a copy of a slice from a DataFrame.\n",
      "Try using .loc[row_indexer,col_indexer] = value instead\n",
      "\n",
      "See the caveats in the documentation: https://pandas.pydata.org/pandas-docs/stable/user_guide/indexing.html#returning-a-view-versus-a-copy\n",
      "  mulpert_models[\"overall_best\"] = mulpert_models[focus_metric_1]**2 * np.sign(mulpert_models[focus_metric_1]) + mulpert_models[focus_metric_2]**2 * np.sign(mulpert_models[focus_metric_2])\n"
     ]
    },
    {
     "data": {
      "text/html": [
       "<div>\n",
       "<style scoped>\n",
       "    .dataframe tbody tr th:only-of-type {\n",
       "        vertical-align: middle;\n",
       "    }\n",
       "\n",
       "    .dataframe tbody tr th {\n",
       "        vertical-align: top;\n",
       "    }\n",
       "\n",
       "    .dataframe thead th {\n",
       "        text-align: right;\n",
       "    }\n",
       "</style>\n",
       "<table border=\"1\" class=\"dataframe\">\n",
       "  <thead>\n",
       "    <tr style=\"text-align: right;\">\n",
       "      <th></th>\n",
       "      <th>config.db_collection</th>\n",
       "      <th>config.dataset.dataset_args.dataset_path</th>\n",
       "      <th>config.dataset.dataset_args.split_key</th>\n",
       "      <th>config.model.model_type</th>\n",
       "      <th>status</th>\n",
       "      <th>test_mean_score_genes_last</th>\n",
       "      <th>test_mean_score_proteins_last</th>\n",
       "      <th>overall_best</th>\n",
       "    </tr>\n",
       "    <tr>\n",
       "      <th>_id</th>\n",
       "      <th></th>\n",
       "      <th></th>\n",
       "      <th></th>\n",
       "      <th></th>\n",
       "      <th></th>\n",
       "      <th></th>\n",
       "      <th></th>\n",
       "      <th></th>\n",
       "    </tr>\n",
       "  </thead>\n",
       "  <tbody>\n",
       "    <tr>\n",
       "      <th>16695</th>\n",
       "      <td>mpert18</td>\n",
       "      <td>datasets/Papalexi21_prep.h5ad</td>\n",
       "      <td>split</td>\n",
       "      <td>TotalComPert</td>\n",
       "      <td>1</td>\n",
       "      <td>0.962966</td>\n",
       "      <td>0.974521</td>\n",
       "      <td>1.876994</td>\n",
       "    </tr>\n",
       "    <tr>\n",
       "      <th>21531</th>\n",
       "      <td>mpert18</td>\n",
       "      <td>datasets/Papalexi21_prep.h5ad</td>\n",
       "      <td>split</td>\n",
       "      <td>TotalPoEComPert</td>\n",
       "      <td>1</td>\n",
       "      <td>0.968005</td>\n",
       "      <td>0.563847</td>\n",
       "      <td>1.254957</td>\n",
       "    </tr>\n",
       "    <tr>\n",
       "      <th>18611</th>\n",
       "      <td>mpert18</td>\n",
       "      <td>datasets/Papalexi21_prep.h5ad</td>\n",
       "      <td>split</td>\n",
       "      <td>PoEComPert</td>\n",
       "      <td>1</td>\n",
       "      <td>0.946323</td>\n",
       "      <td>-0.212045</td>\n",
       "      <td>0.850565</td>\n",
       "    </tr>\n",
       "    <tr>\n",
       "      <th>1203</th>\n",
       "      <td>mpert18</td>\n",
       "      <td>datasets/Papalexi21_prep.h5ad</td>\n",
       "      <td>split</td>\n",
       "      <td>ComPert</td>\n",
       "      <td>1</td>\n",
       "      <td>0.959973</td>\n",
       "      <td>-0.284902</td>\n",
       "      <td>0.840379</td>\n",
       "    </tr>\n",
       "  </tbody>\n",
       "</table>\n",
       "</div>"
      ],
      "text/plain": [
       "      config.db_collection config.dataset.dataset_args.dataset_path  \\\n",
       "_id                                                                   \n",
       "16695              mpert18            datasets/Papalexi21_prep.h5ad   \n",
       "21531              mpert18            datasets/Papalexi21_prep.h5ad   \n",
       "18611              mpert18            datasets/Papalexi21_prep.h5ad   \n",
       "1203               mpert18            datasets/Papalexi21_prep.h5ad   \n",
       "\n",
       "      config.dataset.dataset_args.split_key config.model.model_type  status  \\\n",
       "_id                                                                           \n",
       "16695                                 split            TotalComPert       1   \n",
       "21531                                 split         TotalPoEComPert       1   \n",
       "18611                                 split              PoEComPert       1   \n",
       "1203                                  split                 ComPert       1   \n",
       "\n",
       "       test_mean_score_genes_last  test_mean_score_proteins_last  overall_best  \n",
       "_id                                                                             \n",
       "16695                    0.962966                       0.974521      1.876994  \n",
       "21531                    0.968005                       0.563847      1.254957  \n",
       "18611                    0.946323                      -0.212045      0.850565  \n",
       "1203                     0.959973                      -0.284902      0.840379  "
      ]
     },
     "execution_count": 7,
     "metadata": {},
     "output_type": "execute_result"
    }
   ],
   "source": [
    "spt = 'test'\n",
    "focus_metric_1 = f\"{spt}_mean_score_genes_last\"\n",
    "focus_metric_2 = f\"{spt}_mean_score_proteins_last\"\n",
    "\n",
    "mulpert_models = mulpert_models_imp[(mulpert_models_imp['status'] == 1)]\n",
    "mulpert_models[\"overall_best\"] = mulpert_models[focus_metric_1]**2 * np.sign(mulpert_models[focus_metric_1]) + mulpert_models[focus_metric_2]**2 * np.sign(mulpert_models[focus_metric_2])\n",
    "mulpert_models = mulpert_models.sort_values(by=[\"overall_best\"], ascending=False)\n",
    "\n",
    "scores = [f\"{'test'}_mean_score_genes_last\", f\"{'test'}_mean_score_proteins_last\", \"overall_best\"]\n",
    "df = mulpert_models.drop_duplicates(subset=\"config.model.model_type\", keep='first')\n",
    "df[[\"config.db_collection\", \"config.dataset.dataset_args.dataset_path\", 'config.dataset.dataset_args.split_key', \"config.model.model_type\", \"status\"] + scores]"
   ]
  },
  {
   "cell_type": "code",
   "execution_count": 8,
   "id": "3bce44ff-6f6c-48af-8227-dbba0ac9ade5",
   "metadata": {
    "pycharm": {
     "name": "#%%\n"
    }
   },
   "outputs": [
    {
     "data": {
      "image/png": "[encoded data removed]",
      "text/plain": [
       "<Figure size 288x252 with 1 Axes>"
      ]
     },
     "metadata": {
      "image/png": {
       "height": 245,
       "width": 278
      },
      "needs_background": "light"
     },
     "output_type": "display_data"
    }
   ],
   "source": [
    "\n",
    "a1 = df[[\"config.model.model_type\", f\"{'test'}_mean_score_genes_last\"]]\n",
    "a2 = df[[\"config.model.model_type\", f\"{'test'}_mean_score_genes_de_last\"]]\n",
    "a3 = df[[\"config.model.model_type\", f\"{'test'}_mean_score_proteins_last\"]]\n",
    "\n",
    "a1.columns = [\"Model\", \"Score\"]\n",
    "a2.columns = [\"Model\", \"Score\"]\n",
    "a3.columns = [\"Model\", \"Score\"]\n",
    "\n",
    "with warnings.catch_warnings():\n",
    "    warnings.simplefilter(\"ignore\")\n",
    "    a1[\"Feature Set\"] = \"All Genes\"\n",
    "    a2[\"Feature Set\"] = \"DE Genes\"\n",
    "    a3[\"Feature Set\"] = \"Proteins\"\n",
    "\n",
    "a = pd.concat([a1, a2, a3], axis=0)\n",
    "a = a[a['Model'].isin(['TotalComPert', 'TotalPoEComPert'])]\n",
    "a['Model'] = a['Model'].replace({'TotalComPert': 'MultiCPA (concat)', 'TotalPoEComPert': 'MultiCPA (PoE)'})\n",
    "\n",
    "with plt.rc_context({\n",
    "    \"axes.spines.right\": False,\n",
    "    \"axes.spines.top\": False,\n",
    "}):\n",
    "    plt.figure(figsize=(4, 3.5))\n",
    "    g = sns.barplot(data=a, x=\"Model\", y=\"Score\", hue=\"Feature Set\", palette='gray')\n",
    "    g.legend(loc='lower left')\n",
    "    plt.ylabel(\"r$^2$ Score\")\n",
    "    plt.tight_layout()\n",
    "    plt.savefig('figures/model_selection.pdf')"
   ]
  },
  {
   "cell_type": "code",
   "execution_count": 9,
   "id": "fc717eda-2f82-4638-96ac-14d5108781bc",
   "metadata": {
    "pycharm": {
     "name": "#%%\n"
    }
   },
   "outputs": [
    {
     "data": {
      "image/png": "[encoded data removed]",
      "text/plain": [
       "<Figure size 288x252 with 1 Axes>"
      ]
     },
     "metadata": {
      "image/png": {
       "height": 246,
       "width": 281
      },
      "needs_background": "light"
     },
     "output_type": "display_data"
    }
   ],
   "source": [
    "with warnings.catch_warnings():\n",
    "    warnings.simplefilter(\"ignore\")\n",
    "    df[\"result.loss_reconstruction_genes_last\"] = list(pd.DataFrame(list(df[\"result.loss_reconstruction_genes\"])).iloc[:,-1])\n",
    "    df[\"result.loss_reconstruction_proteins_last\"] = list(pd.DataFrame(list(df[\"result.loss_reconstruction_proteins\"])).iloc[:,-1])\n",
    "    df[\"result.loss_adv_drugs_last\"] = list(pd.DataFrame(list(df[\"result.loss_adv_drugs\"])).iloc[:,-1])\n",
    "    # keep only these two\n",
    "    df = df[df[\"config.model.model_type\"].isin(['TotalComPert', 'TotalPoEComPert'])]\n",
    "\n",
    "a1 = df[[\"config.model.model_type\", \"result.loss_reconstruction_genes_last\"]]\n",
    "a2 = df[[\"config.model.model_type\", \"result.loss_reconstruction_proteins_last\"]]\n",
    "a3 = df[[\"config.model.model_type\", \"result.loss_adv_drugs_last\"]]\n",
    "\n",
    "\n",
    "a1.columns = [\"Model\", \"Score\"]\n",
    "a2.columns = [\"Model\", \"Score\"]\n",
    "a3.columns = [\"Model\", \"Score\"]\n",
    "\n",
    "\n",
    "with warnings.catch_warnings():\n",
    "    warnings.simplefilter(\"ignore\")\n",
    "    a1[\"Loss\"] = \"Gene Recon.\"\n",
    "    a2[\"Loss\"] = \"Protein Recon.\"\n",
    "    a3[\"Loss\"] = \"Drug Adv.\"\n",
    "    a1s = a1[\"Score\"]\n",
    "    a2s = a2[\"Score\"]\n",
    "    a3s = a3[\"Score\"]\n",
    "    a1[\"Score\"] = a1s/ a1s.max()\n",
    "    a2[\"Score\"] = a2s/ a2s.max()\n",
    "    a3[\"Score\"] = a3s/ a3s.max()\n",
    "    \n",
    "    #a1[\"Score\"] = (a1s-a1s.mean())/a1s.std()\n",
    "    #from sklearn import preprocessing\n",
    "    #a2[\"Score\"] = preprocessing.minmax_scale(a2[\"Score\"])\n",
    "    #a1[\"Score\"] = (a1s - a1s.mean()) / (a1s.max() - a1s.min())\n",
    "\n",
    "a = pd.concat([a1, a2, a3], axis=0)\n",
    "a['Model'] = a['Model'].replace({'TotalComPert': 'MultiCPA (concat)', 'TotalPoEComPert': 'MultiCPA (PoE)'})\n",
    "\n",
    "with plt.rc_context({\n",
    "    \"axes.spines.right\": False,\n",
    "    \"axes.spines.top\": False,\n",
    "}):\n",
    "    plt.figure(figsize=(4, 3.5))\n",
    "    g = sns.barplot(data=a, x=\"Model\", y=\"Score\", hue=\"Loss\", palette='gray')\n",
    "    g.legend(loc='lower left')\n",
    "    plt.ylabel(\"Scaled Loss\")\n",
    "    plt.ylim(0, 1.0)\n",
    "    plt.tight_layout()\n",
    "    plt.savefig('figures/model_selection_loss.pdf')"
   ]
  },
  {
   "cell_type": "code",
   "execution_count": 10,
   "id": "723ee286-1766-4736-8ba4-f5d76c41a644",
   "metadata": {
    "pycharm": {
     "name": "#%%\n"
    }
   },
   "outputs": [
    {
     "data": {
      "image/png": "[encoded data removed]",
      "text/plain": [
       "<Figure size 504x180 with 1 Axes>"
      ]
     },
     "metadata": {
      "image/png": {
       "height": 180,
       "width": 444
      },
      "needs_background": "light"
     },
     "output_type": "display_data"
    }
   ],
   "source": [
    "with plt.rc_context({\n",
    "    \"axes.spines.right\": False,\n",
    "    \"axes.spines.top\": False,\n",
    "}):\n",
    "    plt.figure(figsize=(7, 2.5))\n",
    "    g = sns.countplot(data=mulpert_models_imp, x=\"config.model.model_type\", hue=\"status\", hue_order=[1,0], palette='gray')\n",
    "    sns.move_legend(g, \"lower left\")\n",
    "    plt.xlabel('Model')\n",
    "    plt.show()"
   ]
  },
  {
   "cell_type": "code",
   "execution_count": null,
   "id": "ab933054-d06c-4f74-a0d1-9d98252b5e2c",
   "metadata": {
    "pycharm": {
     "name": "#%%\n"
    }
   },
   "outputs": [],
   "source": []
  },
  {
   "cell_type": "code",
   "execution_count": null,
   "id": "27154f56-a6eb-41bb-9d6d-275195b790ed",
   "metadata": {
    "pycharm": {
     "name": "#%%\n"
    }
   },
   "outputs": [],
   "source": []
  },
  {
   "cell_type": "code",
   "execution_count": null,
   "id": "92cabe34-0989-41d6-8c9b-d51874551b8f",
   "metadata": {
    "pycharm": {
     "name": "#%%\n"
    }
   },
   "outputs": [],
   "source": []
  }
 ],
 "metadata": {
  "kernelspec": {
   "display_name": "Python 3 (ipykernel)",
   "language": "python",
   "name": "python3"
  },
  "language_info": {
   "codemirror_mode": {
    "name": "ipython",
    "version": 3
   },
   "file_extension": ".py",
   "mimetype": "text/x-python",
   "name": "python",
   "nbconvert_exporter": "python",
   "pygments_lexer": "ipython3",
   "version": "3.8.13"
  }
 },
 "nbformat": 4,
 "nbformat_minor": 5
}
